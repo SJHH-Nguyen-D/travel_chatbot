{
  "nbformat": 4,
  "nbformat_minor": 0,
  "metadata": {
    "colab": {
      "name": "testing_testing.ipynb",
      "provenance": [],
      "mount_file_id": "1MRCL8Z4EfDQTrG1RVw20oqOYRLcpgxn1",
      "authorship_tag": "ABX9TyOCryJHb7djrQXQqRkaBCko"
    },
    "kernelspec": {
      "name": "python3",
      "display_name": "Python 3"
    }
  },
  "cells": [
    {
      "cell_type": "code",
      "metadata": {
        "id": "krjAXNNE_pGo",
        "colab_type": "code",
        "colab": {}
      },
      "source": [
        "#testing "
      ],
      "execution_count": 0,
      "outputs": []
    },
    {
      "cell_type": "code",
      "metadata": {
        "id": "KwMwbltd_wlu",
        "colab_type": "code",
        "colab": {}
      },
      "source": [
        "#testing 2"
      ],
      "execution_count": 0,
      "outputs": []
    },
    {
      "cell_type": "code",
      "metadata": {
        "id": "4FTqdvUtAZSF",
        "colab_type": "code",
        "colab": {}
      },
      "source": [
        "# trying:\n",
        "# File > Save a copy to Github..."
      ],
      "execution_count": 0,
      "outputs": []
    },
    {
      "cell_type": "code",
      "metadata": {
        "id": "_Skn7vZqAteQ",
        "colab_type": "code",
        "colab": {}
      },
      "source": [
        ""
      ],
      "execution_count": 0,
      "outputs": []
    }
  ]
}