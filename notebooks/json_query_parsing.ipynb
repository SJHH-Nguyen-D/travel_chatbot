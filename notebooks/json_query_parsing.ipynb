{
 "cells": [
  {
   "cell_type": "markdown",
   "metadata": {},
   "source": [
    "# Parsing necessary information from JSON"
   ]
  },
  {
   "cell_type": "code",
   "execution_count": 155,
   "metadata": {},
   "outputs": [],
   "source": [
    "import pandas as pd\n",
    "import json"
   ]
  },
  {
   "cell_type": "code",
   "execution_count": 183,
   "metadata": {
    "scrolled": true
   },
   "outputs": [
    {
     "name": "stdout",
     "output_type": "stream",
     "text": [
      "dict_keys(['data', 'dictionaries', 'meta'])\n"
     ]
    }
   ],
   "source": [
    "\"\"\"\n",
    "\n",
    "Travel Chat Bot for Slack\n",
    "title:  amadeus_query.py\n",
    "author: George Thoraninh\n",
    "usage:  python amadeus_query.py\n",
    "\n",
    "\"\"\"\n",
    "# import statements\n",
    "import os\n",
    "import ssl\n",
    "import requests\n",
    "from functools import lru_cache\n",
    "\n",
    "amadeus_api_key = os.environ['AMADEUS_API_KEY']\n",
    "amadeus_api_secret = os.environ['AMADEUS_API_SECRET']\n",
    "\n",
    "\n",
    "auth_response = requests.post('https://api.amadeus.com/v1/security/oauth2/token',\n",
    "                              data={'grant_type': 'client_credentials',\n",
    "                                    'client_id': amadeus_api_key,\n",
    "                                    'client_secret': amadeus_api_secret})\n",
    "bearer = auth_response.json()['access_token']\n",
    "#print(bearer)\n",
    "# API has quotas, so better to cache everything\n",
    "@lru_cache(maxsize=2048)\n",
    "def call_api(url, **params):\n",
    "    full_url = f'https://api.amadeus.com/v1{url}'\n",
    "    response = requests.get(full_url,\n",
    "                            params=params,\n",
    "                            headers={'Authorization': f'Bearer {bearer}',\n",
    "                                     'Content-Type': 'application/vnd.amadeus+json'})\n",
    "    return response.json()\n",
    "\n",
    "response = call_api('/shopping/flight-offers',\n",
    "                origin='YYZ',\n",
    "                destination='JFK',\n",
    "                departureDate='2020-08-01',\n",
    "                returnDate='2020-08-15',\n",
    "                adults='1',\n",
    "                nonStop='true',\n",
    "                currency='CAD',\n",
    "                maxPrice='8000',\n",
    "                max='2'\n",
    "                )\n",
    "print(response.keys())"
   ]
  },
  {
   "cell_type": "code",
   "execution_count": 397,
   "metadata": {},
   "outputs": [],
   "source": [
    "# Converts a list to dict; removal is an integer to delimit the square brackets\n",
    "def list_to_dict(list_to_convert, removal):\n",
    "    converted_dict = json.loads(str(list_to_convert)[removal:-removal].replace('\\'','\\\"')) \n",
    "    return converted_dict"
   ]
  },
  {
   "cell_type": "code",
   "execution_count": 493,
   "metadata": {},
   "outputs": [],
   "source": [
    "def flight_offer_response(response):\n",
    "\n",
    "    offer_list = []\n",
    "    num_offer = 0\n",
    "    # every offer form the response\n",
    "    locations = [*response['dictionaries']['locations'].keys()] #gets a list of airport codes\n",
    "\n",
    "    for offer in response['data']:\n",
    "        # Converted to string so we can get rid of square brackets [], then replaced by \n",
    "        services_dict = list_to_dict(offer['offerItems'],1)\n",
    "        price = services_dict['price']['total']\n",
    "        depart_flight_dict = list_to_dict([*services_dict['services'][0].values()], 2)\n",
    "        arrive_flight_dict = list_to_dict([*services_dict['services'][1].values()], 2)\n",
    "        num_ticket_avail = depart_flight_dict['pricingDetailPerAdult']['availability']\n",
    "        # depart time - needs parsing \n",
    "        depart_time = depart_flight_dict['flightSegment']['departure']['at']\n",
    "        arrival_time = depart_flight_dict['flightSegment']['arrival']['at']\n",
    "        trip_duration = depart_flight_dict['flightSegment']['duration']\n",
    "        flight_carrier = depart_flight_dict['flightSegment']['carrierCode']\n",
    "        for key, value in response['dictionaries']['carriers'].items():\n",
    "            if flight_carrier == key:\n",
    "                flight_carrier_str = value\n",
    "\n",
    "        # crafting response for user\n",
    "        num_offer+=1\n",
    "        response_str = 'Flight Offer ' + str(num_offer) + ': Toronto - ' + locations[0] + ' -> New York - ' + locations[1] + '\\nDeparting at: ' + depart_time + '\\nArriving at: ' + arrival_time + '\\nTrip Duration: ' + trip_duration + '\\nFlight Carrier: ' + flight_carrier_str + '\\nPrice: $' + price + ' CAD\\n' + str(num_ticket_avail) + ' tickets left!'\n",
    "        \n",
    "        offer_list.append(response_str)\n",
    "        \n",
    "    return offer_list"
   ]
  },
  {
   "cell_type": "code",
   "execution_count": 494,
   "metadata": {},
   "outputs": [],
   "source": [
    "offer_list = flight_offer_response(response)"
   ]
  },
  {
   "cell_type": "code",
   "execution_count": 496,
   "metadata": {},
   "outputs": [
    {
     "name": "stdout",
     "output_type": "stream",
     "text": [
      "Flight Offer 1: Toronto - YYZ -> New York - JFK\n",
      "Departing at: 2020-08-01T10:15:00-04:00\n",
      "Arriving at: 2020-08-01T11:49:00-04:00\n",
      "Trip Duration: 0DT1H34M\n",
      "Flight Carrier: DELTA AIR LINES\n",
      "Price: $360.96 CAD\n",
      "9 tickets left!\n",
      "\n",
      "Flight Offer 2: Toronto - YYZ -> New York - JFK\n",
      "Departing at: 2020-08-01T10:15:00-04:00\n",
      "Arriving at: 2020-08-01T11:49:00-04:00\n",
      "Trip Duration: 0DT1H34M\n",
      "Flight Carrier: WESTJET\n",
      "Price: $427.10 CAD\n",
      "7 tickets left!\n"
     ]
    }
   ],
   "source": [
    "print(*offer_list, sep='\\n\\n')"
   ]
  }
 ],
 "metadata": {
  "kernelspec": {
   "display_name": "Python 3",
   "language": "python",
   "name": "python3"
  },
  "language_info": {
   "codemirror_mode": {
    "name": "ipython",
    "version": 3
   },
   "file_extension": ".py",
   "mimetype": "text/x-python",
   "name": "python",
   "nbconvert_exporter": "python",
   "pygments_lexer": "ipython3",
   "version": "3.7.4"
  }
 },
 "nbformat": 4,
 "nbformat_minor": 4
}
