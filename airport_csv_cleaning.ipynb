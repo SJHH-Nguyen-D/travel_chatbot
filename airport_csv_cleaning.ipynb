{
 "cells": [
  {
   "cell_type": "markdown",
   "metadata": {},
   "source": [
    "# Data cleaning airports.csv"
   ]
  },
  {
   "cell_type": "code",
   "execution_count": 68,
   "metadata": {},
   "outputs": [],
   "source": [
    "import pandas as pd"
   ]
  },
  {
   "cell_type": "code",
   "execution_count": 69,
   "metadata": {},
   "outputs": [],
   "source": [
    "df = pd.read_csv('airports.csv')"
   ]
  },
  {
   "cell_type": "code",
   "execution_count": 70,
   "metadata": {},
   "outputs": [
    {
     "data": {
      "text/plain": [
       "(7698, 14)"
      ]
     },
     "execution_count": 70,
     "metadata": {},
     "output_type": "execute_result"
    }
   ],
   "source": [
    "df.shape"
   ]
  },
  {
   "cell_type": "code",
   "execution_count": 71,
   "metadata": {},
   "outputs": [
    {
     "data": {
      "text/plain": [
       "AirportID                 0\n",
       "Name                      0\n",
       "City                     49\n",
       "Country                   0\n",
       "IATA                      0\n",
       "ICAO                      0\n",
       "Latitude                  0\n",
       "Longitude                 0\n",
       "Altitude                  0\n",
       "Timezone                  0\n",
       "DST                       0\n",
       "Tz_database_time_zone     0\n",
       "Type                      0\n",
       "Source                    0\n",
       "dtype: int64"
      ]
     },
     "execution_count": 71,
     "metadata": {},
     "output_type": "execute_result"
    }
   ],
   "source": [
    "df.isna().sum()"
   ]
  },
  {
   "cell_type": "markdown",
   "metadata": {},
   "source": [
    "- There are 49 empty city fields "
   ]
  },
  {
   "cell_type": "code",
   "execution_count": 72,
   "metadata": {
    "scrolled": true
   },
   "outputs": [
    {
     "data": {
      "text/html": [
       "<div>\n",
       "<style scoped>\n",
       "    .dataframe tbody tr th:only-of-type {\n",
       "        vertical-align: middle;\n",
       "    }\n",
       "\n",
       "    .dataframe tbody tr th {\n",
       "        vertical-align: top;\n",
       "    }\n",
       "\n",
       "    .dataframe thead th {\n",
       "        text-align: right;\n",
       "    }\n",
       "</style>\n",
       "<table border=\"1\" class=\"dataframe\">\n",
       "  <thead>\n",
       "    <tr style=\"text-align: right;\">\n",
       "      <th></th>\n",
       "      <th>AirportID</th>\n",
       "      <th>Name</th>\n",
       "      <th>City</th>\n",
       "      <th>Country</th>\n",
       "      <th>IATA</th>\n",
       "      <th>ICAO</th>\n",
       "      <th>Latitude</th>\n",
       "      <th>Longitude</th>\n",
       "      <th>Altitude</th>\n",
       "      <th>Timezone</th>\n",
       "      <th>DST</th>\n",
       "      <th>Tz_database_time_zone</th>\n",
       "      <th>Type</th>\n",
       "      <th>Source</th>\n",
       "    </tr>\n",
       "  </thead>\n",
       "  <tbody>\n",
       "    <tr>\n",
       "      <th>7031</th>\n",
       "      <td>11794</td>\n",
       "      <td>Minsk Mazowiecki Military Air Base</td>\n",
       "      <td>NaN</td>\n",
       "      <td>Poland</td>\n",
       "      <td>\\N</td>\n",
       "      <td>EPMM</td>\n",
       "      <td>52.195499</td>\n",
       "      <td>21.655899</td>\n",
       "      <td>604</td>\n",
       "      <td>\\N</td>\n",
       "      <td>\\N</td>\n",
       "      <td>\\N</td>\n",
       "      <td>airport</td>\n",
       "      <td>OurAirports</td>\n",
       "    </tr>\n",
       "    <tr>\n",
       "      <th>7032</th>\n",
       "      <td>11795</td>\n",
       "      <td>Powidz Military Air Base</td>\n",
       "      <td>NaN</td>\n",
       "      <td>Poland</td>\n",
       "      <td>\\N</td>\n",
       "      <td>EPPW</td>\n",
       "      <td>52.379398</td>\n",
       "      <td>17.853901</td>\n",
       "      <td>371</td>\n",
       "      <td>\\N</td>\n",
       "      <td>\\N</td>\n",
       "      <td>\\N</td>\n",
       "      <td>airport</td>\n",
       "      <td>OurAirports</td>\n",
       "    </tr>\n",
       "    <tr>\n",
       "      <th>7137</th>\n",
       "      <td>11900</td>\n",
       "      <td>King Salman Abdulaziz Airport</td>\n",
       "      <td>NaN</td>\n",
       "      <td>Saudi Arabia</td>\n",
       "      <td>DWD</td>\n",
       "      <td>OEDM</td>\n",
       "      <td>24.449900</td>\n",
       "      <td>44.121201</td>\n",
       "      <td>3026</td>\n",
       "      <td>\\N</td>\n",
       "      <td>\\N</td>\n",
       "      <td>\\N</td>\n",
       "      <td>airport</td>\n",
       "      <td>OurAirports</td>\n",
       "    </tr>\n",
       "    <tr>\n",
       "      <th>7138</th>\n",
       "      <td>11901</td>\n",
       "      <td>King Khaled Air Base</td>\n",
       "      <td>NaN</td>\n",
       "      <td>Saudi Arabia</td>\n",
       "      <td>KMX</td>\n",
       "      <td>OEKM</td>\n",
       "      <td>18.297300</td>\n",
       "      <td>42.803501</td>\n",
       "      <td>6778</td>\n",
       "      <td>\\N</td>\n",
       "      <td>\\N</td>\n",
       "      <td>\\N</td>\n",
       "      <td>airport</td>\n",
       "      <td>OurAirports</td>\n",
       "    </tr>\n",
       "    <tr>\n",
       "      <th>7158</th>\n",
       "      <td>11921</td>\n",
       "      <td>Asahikawa Airfield</td>\n",
       "      <td>NaN</td>\n",
       "      <td>Japan</td>\n",
       "      <td>\\N</td>\n",
       "      <td>RJCA</td>\n",
       "      <td>43.794734</td>\n",
       "      <td>142.365432</td>\n",
       "      <td>377</td>\n",
       "      <td>\\N</td>\n",
       "      <td>\\N</td>\n",
       "      <td>\\N</td>\n",
       "      <td>airport</td>\n",
       "      <td>OurAirports</td>\n",
       "    </tr>\n",
       "  </tbody>\n",
       "</table>\n",
       "</div>"
      ],
      "text/plain": [
       "      AirportID                                Name City       Country IATA  \\\n",
       "7031      11794  Minsk Mazowiecki Military Air Base  NaN        Poland   \\N   \n",
       "7032      11795            Powidz Military Air Base  NaN        Poland   \\N   \n",
       "7137      11900       King Salman Abdulaziz Airport  NaN  Saudi Arabia  DWD   \n",
       "7138      11901                King Khaled Air Base  NaN  Saudi Arabia  KMX   \n",
       "7158      11921                  Asahikawa Airfield  NaN         Japan   \\N   \n",
       "\n",
       "      ICAO   Latitude   Longitude  Altitude Timezone DST  \\\n",
       "7031  EPMM  52.195499   21.655899       604       \\N  \\N   \n",
       "7032  EPPW  52.379398   17.853901       371       \\N  \\N   \n",
       "7137  OEDM  24.449900   44.121201      3026       \\N  \\N   \n",
       "7138  OEKM  18.297300   42.803501      6778       \\N  \\N   \n",
       "7158  RJCA  43.794734  142.365432       377       \\N  \\N   \n",
       "\n",
       "     Tz_database_time_zone     Type       Source  \n",
       "7031                    \\N  airport  OurAirports  \n",
       "7032                    \\N  airport  OurAirports  \n",
       "7137                    \\N  airport  OurAirports  \n",
       "7138                    \\N  airport  OurAirports  \n",
       "7158                    \\N  airport  OurAirports  "
      ]
     },
     "execution_count": 72,
     "metadata": {},
     "output_type": "execute_result"
    }
   ],
   "source": [
    "# Let's take a look\n",
    "df[df['City'].isna()].head()"
   ]
  },
  {
   "cell_type": "markdown",
   "metadata": {},
   "source": [
    "- For our purposes we want IATA but looking at this it \\N is not a proper IATA airport code"
   ]
  },
  {
   "cell_type": "code",
   "execution_count": 73,
   "metadata": {},
   "outputs": [
    {
     "data": {
      "text/plain": [
       "AirportID                1626\n",
       "Name                     1626\n",
       "City                     1616\n",
       "Country                  1626\n",
       "IATA                     1626\n",
       "ICAO                     1626\n",
       "Latitude                 1626\n",
       "Longitude                1626\n",
       "Altitude                 1626\n",
       "Timezone                 1626\n",
       "DST                      1626\n",
       "Tz_database_time_zone    1626\n",
       "Type                     1626\n",
       "Source                   1626\n",
       "dtype: int64"
      ]
     },
     "execution_count": 73,
     "metadata": {},
     "output_type": "execute_result"
    }
   ],
   "source": [
    "# Let's see how many \\N IATA airport codes there are\n",
    "df[df['IATA']=='\\\\N'].count()"
   ]
  },
  {
   "cell_type": "markdown",
   "metadata": {},
   "source": [
    "- There are 1616 rows without a proper IATA airport code, so we'll get rid of these and with null value for City"
   ]
  },
  {
   "cell_type": "code",
   "execution_count": 74,
   "metadata": {},
   "outputs": [],
   "source": [
    "df = df.dropna(subset = ['City'])"
   ]
  },
  {
   "cell_type": "code",
   "execution_count": 75,
   "metadata": {},
   "outputs": [
    {
     "data": {
      "text/plain": [
       "(7649, 14)"
      ]
     },
     "execution_count": 75,
     "metadata": {},
     "output_type": "execute_result"
    }
   ],
   "source": [
    "df.shape"
   ]
  },
  {
   "cell_type": "markdown",
   "metadata": {},
   "source": [
    "- Perfect, (7698 - 7649 = 49) rows were removed"
   ]
  },
  {
   "cell_type": "code",
   "execution_count": 76,
   "metadata": {},
   "outputs": [],
   "source": [
    "clean_df = df[df['IATA']!='\\\\N']"
   ]
  },
  {
   "cell_type": "code",
   "execution_count": 77,
   "metadata": {},
   "outputs": [
    {
     "data": {
      "text/plain": [
       "(6033, 14)"
      ]
     },
     "execution_count": 77,
     "metadata": {},
     "output_type": "execute_result"
    }
   ],
   "source": [
    "clean_df.shape"
   ]
  },
  {
   "cell_type": "markdown",
   "metadata": {},
   "source": [
    "- Nice! (7649 - 1616 = 6033) are ready to go"
   ]
  },
  {
   "cell_type": "code",
   "execution_count": 78,
   "metadata": {},
   "outputs": [],
   "source": [
    "# Only need Name, City, and IATA"
   ]
  },
  {
   "cell_type": "code",
   "execution_count": 79,
   "metadata": {},
   "outputs": [],
   "source": [
    "clean_df = clean_df[['Name', 'City', 'IATA']]"
   ]
  },
  {
   "cell_type": "code",
   "execution_count": 80,
   "metadata": {},
   "outputs": [],
   "source": [
    "clean_df.to_csv('clean_airports.csv', index=False)"
   ]
  },
  {
   "cell_type": "code",
   "execution_count": 81,
   "metadata": {},
   "outputs": [],
   "source": [
    "test = pd.read_csv('clean_airports.csv')"
   ]
  },
  {
   "cell_type": "code",
   "execution_count": 82,
   "metadata": {},
   "outputs": [
    {
     "data": {
      "text/html": [
       "<div>\n",
       "<style scoped>\n",
       "    .dataframe tbody tr th:only-of-type {\n",
       "        vertical-align: middle;\n",
       "    }\n",
       "\n",
       "    .dataframe tbody tr th {\n",
       "        vertical-align: top;\n",
       "    }\n",
       "\n",
       "    .dataframe thead th {\n",
       "        text-align: right;\n",
       "    }\n",
       "</style>\n",
       "<table border=\"1\" class=\"dataframe\">\n",
       "  <thead>\n",
       "    <tr style=\"text-align: right;\">\n",
       "      <th></th>\n",
       "      <th>Name</th>\n",
       "      <th>City</th>\n",
       "      <th>IATA</th>\n",
       "    </tr>\n",
       "  </thead>\n",
       "  <tbody>\n",
       "    <tr>\n",
       "      <th>0</th>\n",
       "      <td>Goroka Airport</td>\n",
       "      <td>Goroka</td>\n",
       "      <td>GKA</td>\n",
       "    </tr>\n",
       "    <tr>\n",
       "      <th>1</th>\n",
       "      <td>Madang Airport</td>\n",
       "      <td>Madang</td>\n",
       "      <td>MAG</td>\n",
       "    </tr>\n",
       "    <tr>\n",
       "      <th>2</th>\n",
       "      <td>Mount Hagen Kagamuga Airport</td>\n",
       "      <td>Mount Hagen</td>\n",
       "      <td>HGU</td>\n",
       "    </tr>\n",
       "    <tr>\n",
       "      <th>3</th>\n",
       "      <td>Nadzab Airport</td>\n",
       "      <td>Nadzab</td>\n",
       "      <td>LAE</td>\n",
       "    </tr>\n",
       "    <tr>\n",
       "      <th>4</th>\n",
       "      <td>Port Moresby Jacksons International Airport</td>\n",
       "      <td>Port Moresby</td>\n",
       "      <td>POM</td>\n",
       "    </tr>\n",
       "    <tr>\n",
       "      <th>...</th>\n",
       "      <td>...</td>\n",
       "      <td>...</td>\n",
       "      <td>...</td>\n",
       "    </tr>\n",
       "    <tr>\n",
       "      <th>6028</th>\n",
       "      <td>Bilogai-Sugapa Airport</td>\n",
       "      <td>Sugapa-Papua Island</td>\n",
       "      <td>UGU</td>\n",
       "    </tr>\n",
       "    <tr>\n",
       "      <th>6029</th>\n",
       "      <td>Ramon Airport</td>\n",
       "      <td>Eilat</td>\n",
       "      <td>ETM</td>\n",
       "    </tr>\n",
       "    <tr>\n",
       "      <th>6030</th>\n",
       "      <td>Rustaq Airport</td>\n",
       "      <td>Al Masna'ah</td>\n",
       "      <td>MNH</td>\n",
       "    </tr>\n",
       "    <tr>\n",
       "      <th>6031</th>\n",
       "      <td>Laguindingan Airport</td>\n",
       "      <td>Cagayan de Oro City</td>\n",
       "      <td>CGY</td>\n",
       "    </tr>\n",
       "    <tr>\n",
       "      <th>6032</th>\n",
       "      <td>Desierto de Atacama Airport</td>\n",
       "      <td>Copiapo</td>\n",
       "      <td>CPO</td>\n",
       "    </tr>\n",
       "  </tbody>\n",
       "</table>\n",
       "<p>6033 rows × 3 columns</p>\n",
       "</div>"
      ],
      "text/plain": [
       "                                             Name                 City IATA\n",
       "0                                  Goroka Airport               Goroka  GKA\n",
       "1                                  Madang Airport               Madang  MAG\n",
       "2                    Mount Hagen Kagamuga Airport          Mount Hagen  HGU\n",
       "3                                  Nadzab Airport               Nadzab  LAE\n",
       "4     Port Moresby Jacksons International Airport         Port Moresby  POM\n",
       "...                                           ...                  ...  ...\n",
       "6028                       Bilogai-Sugapa Airport  Sugapa-Papua Island  UGU\n",
       "6029                                Ramon Airport                Eilat  ETM\n",
       "6030                               Rustaq Airport          Al Masna'ah  MNH\n",
       "6031                         Laguindingan Airport  Cagayan de Oro City  CGY\n",
       "6032                  Desierto de Atacama Airport              Copiapo  CPO\n",
       "\n",
       "[6033 rows x 3 columns]"
      ]
     },
     "execution_count": 82,
     "metadata": {},
     "output_type": "execute_result"
    }
   ],
   "source": [
    "test"
   ]
  },
  {
   "cell_type": "code",
   "execution_count": null,
   "metadata": {},
   "outputs": [],
   "source": []
  }
 ],
 "metadata": {
  "kernelspec": {
   "display_name": "Python 3",
   "language": "python",
   "name": "python3"
  },
  "language_info": {
   "codemirror_mode": {
    "name": "ipython",
    "version": 3
   },
   "file_extension": ".py",
   "mimetype": "text/x-python",
   "name": "python",
   "nbconvert_exporter": "python",
   "pygments_lexer": "ipython3",
   "version": "3.7.4"
  }
 },
 "nbformat": 4,
 "nbformat_minor": 4
}
