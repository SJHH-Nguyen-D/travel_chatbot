{
  "nbformat": 4,
  "nbformat_minor": 0,
  "metadata": {
    "colab": {
      "name": "contractions.ipynb",
      "provenance": [],
      "collapsed_sections": [],
      "mount_file_id": "1BLqhcT7_UhLJHbLz9_1DZZ3EXaGiDDzU",
      "authorship_tag": "ABX9TyOAA2Zm+J4qRSXKa34sHVMS"
    },
    "kernelspec": {
      "name": "python3",
      "display_name": "Python 3"
    }
  },
  "cells": [
    {
      "cell_type": "code",
      "metadata": {
        "id": "CUsfgdepSU7X",
        "colab_type": "code",
        "colab": {}
      },
      "source": [
        "! sudo apt install openjdk-8-jdk\n",
        "! sudo update-alternatives --set java /usr/lib/jvm/java-8-openjdk-amd64/jre/bin/java \n",
        "! pip install language-check -qq\n",
        "! pip install pycontractions -qq"
      ],
      "execution_count": 0,
      "outputs": []
    },
    {
      "cell_type": "code",
      "metadata": {
        "id": "QcldrDiKSd1H",
        "colab_type": "code",
        "colab": {}
      },
      "source": [
        "# Import statements\n",
        "import pandas as pd\n",
        "import numpy as np\n",
        "import pprint as pp\n",
        "import json\n",
        "from timeit import default_timer\n",
        "import glob\n",
        "import shutil\n",
        "# Preprocessing\n",
        "from pycontractions import Contractions"
      ],
      "execution_count": 0,
      "outputs": []
    },
    {
      "cell_type": "code",
      "metadata": {
        "id": "bQ32p7SlSlO0",
        "colab_type": "code",
        "colab": {}
      },
      "source": [
        "# Load JSON file into dataframe\n",
        "data = pd.read_json('/content/drive/My Drive/frames.json')\n",
        "df = pd.DataFrame(data)"
      ],
      "execution_count": 0,
      "outputs": []
    },
    {
      "cell_type": "code",
      "metadata": {
        "id": "w2aj3UPBSruk",
        "colab_type": "code",
        "colab": {}
      },
      "source": [
        "# Attempted json_normalize but kept getting the error: 'list' object has no attribute 'values'\n",
        "# This happens because of list enclosing each of the dictionary.\n",
        "#   - Multiple dictionaries with matching keys enclosed by a list.\n",
        "#   - A dictionary with keys as columns and values in the form of list.\n",
        "\n",
        "# Thus we try another approach\n",
        "text_list = []\n",
        "for item in df['turns']:\n",
        "  text_list.append(item)\n",
        "turns_df = pd.DataFrame(text_list)"
      ],
      "execution_count": 0,
      "outputs": []
    },
    {
      "cell_type": "code",
      "metadata": {
        "id": "UyCyi8yMS6ZU",
        "colab_type": "code",
        "colab": {}
      },
      "source": [
        "turns_df.columns = turns_df.columns.astype(str)"
      ],
      "execution_count": 0,
      "outputs": []
    },
    {
      "cell_type": "code",
      "metadata": {
        "id": "dJXMoRbcTMe7",
        "colab_type": "code",
        "colab": {}
      },
      "source": [
        "turns_df['48'] = np.nan"
      ],
      "execution_count": 0,
      "outputs": []
    },
    {
      "cell_type": "code",
      "metadata": {
        "id": "y8LO9ZPdSw-B",
        "colab_type": "code",
        "colab": {}
      },
      "source": [
        "turns_df.replace(np.nan,'',inplace=True) # Replace all null values"
      ],
      "execution_count": 0,
      "outputs": []
    },
    {
      "cell_type": "code",
      "metadata": {
        "id": "lgDiTeHxSx82",
        "colab_type": "code",
        "colab": {}
      },
      "source": [
        "turns_df_T = turns_df.transpose() # Transposed the dataframe to have proper conversation turns"
      ],
      "execution_count": 0,
      "outputs": []
    },
    {
      "cell_type": "code",
      "metadata": {
        "id": "b9iMNd5SS0Bz",
        "colab_type": "code",
        "colab": {}
      },
      "source": [
        "# Iterates through the data frame and gets all values with a text key\n",
        "convo_text = ''\n",
        "for i in turns_df_T:                                 # 1369 columns\n",
        "  for j in range(0,49):                              # 49 rows\n",
        "    try:\n",
        "      get_text = turns_df_T[i][j].get('text')        # Gets the value from the corresponding key\n",
        "      convo_text += get_text + '\\n'                   # Concatenates all text\n",
        "    except AttributeError:\n",
        "      convo_text += '*'                               # Concatenates '' if there is no text key - used for switching conversations"
      ],
      "execution_count": 0,
      "outputs": []
    },
    {
      "cell_type": "markdown",
      "metadata": {
        "id": "gHqF7uVD4AIc",
        "colab_type": "text"
      },
      "source": [
        "## 1/10"
      ]
    },
    {
      "cell_type": "code",
      "metadata": {
        "id": "PujeN4eS3n5O",
        "colab_type": "code",
        "outputId": "ffcae38d-90e0-4148-d05b-ac683d9ed301",
        "colab": {
          "base_uri": "https://localhost:8080/",
          "height": 34
        }
      },
      "source": [
        "len(convo_text[0:135938])/len(convo_text) # Approx. 10% of dataset"
      ],
      "execution_count": 14,
      "outputs": [
        {
          "output_type": "execute_result",
          "data": {
            "text/plain": [
              "0.09905447274613875"
            ]
          },
          "metadata": {
            "tags": []
          },
          "execution_count": 14
        }
      ]
    },
    {
      "cell_type": "code",
      "metadata": {
        "id": "ZPqE7Cmirg_z",
        "colab_type": "code",
        "outputId": "5e0d2bed-74b1-4a6e-fc10-202b82dcd6f4",
        "colab": {
          "base_uri": "https://localhost:8080/",
          "height": 85
        }
      },
      "source": [
        "pp.pprint(convo_text[135838:135938])"
      ],
      "execution_count": 15,
      "outputs": [
        {
          "output_type": "stream",
          "text": [
            "('ook this trip\\n'\n",
            " 'Great! Booking is complete. Enjoy your vacation!\\n'\n",
            " 'Thank you!\\n'\n",
            " '**************************')\n"
          ],
          "name": "stdout"
        }
      ]
    },
    {
      "cell_type": "code",
      "metadata": {
        "id": "FWrlkVYm4HDl",
        "colab_type": "code",
        "colab": {}
      },
      "source": [
        "convo_text_1 = convo_text[0:135938]"
      ],
      "execution_count": 0,
      "outputs": []
    },
    {
      "cell_type": "code",
      "metadata": {
        "id": "rJko4Q0-72ps",
        "colab_type": "code",
        "outputId": "cb8323dd-de59-48c8-a866-d8fb7858eb60",
        "colab": {
          "base_uri": "https://localhost:8080/",
          "height": 34
        }
      },
      "source": [
        "len(convo_text_1)"
      ],
      "execution_count": 0,
      "outputs": [
        {
          "output_type": "execute_result",
          "data": {
            "text/plain": [
              "135938"
            ]
          },
          "metadata": {
            "tags": []
          },
          "execution_count": 42
        }
      ]
    },
    {
      "cell_type": "code",
      "metadata": {
        "id": "dooDvVx_emFv",
        "colab_type": "code",
        "outputId": "83b7d6de-af6a-411d-c0f2-66a92eef592f",
        "colab": {
          "base_uri": "https://localhost:8080/",
          "height": 88
        }
      },
      "source": [
        "start = default_timer()\n",
        "expand_convo_text_1 = str(list(cont.expand_texts([convo_text_1], precise=False))) #this part takes forever\n",
        "end = default_timer()\n",
        "print(f\"elapsed time: {(end-start)/60} min\")"
      ],
      "execution_count": 0,
      "outputs": [
        {
          "output_type": "stream",
          "text": [
            "/usr/local/lib/python3.6/dist-packages/smart_open/smart_open_lib.py:410: UserWarning: This function is deprecated, use smart_open.open instead. See the migration notes for details: https://github.com/RaRe-Technologies/smart_open/blob/master/README.rst#migrating-to-the-new-open-function\n",
            "  'See the migration notes for details: %s' % _MIGRATION_NOTES_URL\n"
          ],
          "name": "stderr"
        },
        {
          "output_type": "stream",
          "text": [
            "elapsed time: 10.945355405350002 min\n"
          ],
          "name": "stdout"
        }
      ]
    },
    {
      "cell_type": "code",
      "metadata": {
        "id": "C5GiJPtIhphQ",
        "colab_type": "code",
        "outputId": "6d787930-5565-4dad-d806-46118e20a3e1",
        "colab": {
          "base_uri": "https://localhost:8080/",
          "height": 34
        }
      },
      "source": [
        "len(expand_convo_text_1)"
      ],
      "execution_count": 0,
      "outputs": [
        {
          "output_type": "execute_result",
          "data": {
            "text/plain": [
              "138388"
            ]
          },
          "metadata": {
            "tags": []
          },
          "execution_count": 47
        }
      ]
    },
    {
      "cell_type": "code",
      "metadata": {
        "id": "ljNMpAdOerC4",
        "colab_type": "code",
        "colab": {}
      },
      "source": [
        "with open('/content/drive/My Drive/expand_convo_text_1.txt', \"w\") as text_file:\n",
        "    text_file.write(expand_convo_text_1)"
      ],
      "execution_count": 0,
      "outputs": []
    },
    {
      "cell_type": "markdown",
      "metadata": {
        "colab_type": "text",
        "id": "KraLhURCgkqb"
      },
      "source": [
        "## 2/10"
      ]
    },
    {
      "cell_type": "code",
      "metadata": {
        "colab_type": "code",
        "outputId": "4e3cc72a-6acf-49cf-d3d8-eec5782196ef",
        "id": "fyFZEfk5gkqe",
        "colab": {
          "base_uri": "https://localhost:8080/",
          "height": 34
        }
      },
      "source": [
        "len(convo_text[135938:271715])/len(convo_text) # Approx. 10% of dataset"
      ],
      "execution_count": 0,
      "outputs": [
        {
          "output_type": "execute_result",
          "data": {
            "text/plain": [
              "0.09893715624808723"
            ]
          },
          "metadata": {
            "tags": []
          },
          "execution_count": 62
        }
      ]
    },
    {
      "cell_type": "code",
      "metadata": {
        "colab_type": "code",
        "outputId": "5166f6b2-2e49-4581-aa59-7e3512512cc6",
        "id": "q2ZYuuHDgkqj",
        "colab": {
          "base_uri": "https://localhost:8080/",
          "height": 68
        }
      },
      "source": [
        "pp.pprint(convo_text[271566:271715])"
      ],
      "execution_count": 0,
      "outputs": [
        {
          "output_type": "stream",
          "text": [
            "('e! Your package has been booked. Enjoy your stay!\\n'\n",
            " 'Thank you for your assistance in finding this killer deal.\\n'\n",
            " '****************************************')\n"
          ],
          "name": "stdout"
        }
      ]
    },
    {
      "cell_type": "code",
      "metadata": {
        "colab_type": "code",
        "id": "2H7H5vF1gkqm",
        "colab": {}
      },
      "source": [
        "convo_text_2 = convo_text[135938:271715]"
      ],
      "execution_count": 0,
      "outputs": []
    },
    {
      "cell_type": "code",
      "metadata": {
        "colab_type": "code",
        "outputId": "e2f7244d-9891-49bb-aa64-a7f810c67408",
        "id": "XzRZIRzagkqp",
        "colab": {
          "base_uri": "https://localhost:8080/",
          "height": 34
        }
      },
      "source": [
        "len(convo_text_2)"
      ],
      "execution_count": 0,
      "outputs": [
        {
          "output_type": "execute_result",
          "data": {
            "text/plain": [
              "135777"
            ]
          },
          "metadata": {
            "tags": []
          },
          "execution_count": 201
        }
      ]
    },
    {
      "cell_type": "code",
      "metadata": {
        "colab_type": "code",
        "outputId": "7d5188d9-989e-46bb-c2e6-13dbfc1442a1",
        "id": "t1s55C6Fgkqr",
        "colab": {
          "base_uri": "https://localhost:8080/",
          "height": 34
        }
      },
      "source": [
        "start = default_timer()\n",
        "expand_convo_text_2 = str(list(cont.expand_texts([convo_text_2], precise=False))) #this part takes forever\n",
        "end = default_timer()\n",
        "print(f\"elapsed time: {(end-start)/60} min\")"
      ],
      "execution_count": 0,
      "outputs": [
        {
          "output_type": "stream",
          "text": [
            "elapsed time: 20.695872300650006 min\n"
          ],
          "name": "stdout"
        }
      ]
    },
    {
      "cell_type": "code",
      "metadata": {
        "colab_type": "code",
        "id": "Xx0mlPLZgkqu",
        "colab": {}
      },
      "source": [
        "with open('/content/drive/My Drive/expand_convo_text_2.txt', \"w\") as text_file:\n",
        "    text_file.write(expand_convo_text_2)"
      ],
      "execution_count": 0,
      "outputs": []
    },
    {
      "cell_type": "markdown",
      "metadata": {
        "colab_type": "text",
        "id": "0DtX9_A5gpEH"
      },
      "source": [
        "## 3/10"
      ]
    },
    {
      "cell_type": "code",
      "metadata": {
        "colab_type": "code",
        "outputId": "c2a43c46-12fc-430e-d682-5ce7ca249ba5",
        "id": "JkFvJlOagpEJ",
        "colab": {
          "base_uri": "https://localhost:8080/",
          "height": 34
        }
      },
      "source": [
        "len(convo_text[271715:409340])/len(convo_text) # Approx. 10% of dataset"
      ],
      "execution_count": 0,
      "outputs": [
        {
          "output_type": "execute_result",
          "data": {
            "text/plain": [
              "0.10028374561702648"
            ]
          },
          "metadata": {
            "tags": []
          },
          "execution_count": 84
        }
      ]
    },
    {
      "cell_type": "code",
      "metadata": {
        "colab_type": "code",
        "outputId": "641a1583-0643-4ae6-b764-623765db8534",
        "id": "1rznBxCJgpEL",
        "colab": {
          "base_uri": "https://localhost:8080/",
          "height": 34
        }
      },
      "source": [
        "pp.pprint(convo_text[409300:409340])"
      ],
      "execution_count": 0,
      "outputs": [
        {
          "output_type": "stream",
          "text": [
            "'ling_face:\\n*****************************'\n"
          ],
          "name": "stdout"
        }
      ]
    },
    {
      "cell_type": "code",
      "metadata": {
        "colab_type": "code",
        "id": "hDraqKp0gpEP",
        "colab": {}
      },
      "source": [
        "convo_text_3 = convo_text[271715:409340]"
      ],
      "execution_count": 0,
      "outputs": []
    },
    {
      "cell_type": "code",
      "metadata": {
        "colab_type": "code",
        "outputId": "157690f1-1e64-43d7-a2d4-7c17688ed5fd",
        "id": "yN8D2IxegpEV",
        "colab": {
          "base_uri": "https://localhost:8080/",
          "height": 34
        }
      },
      "source": [
        "len(convo_text_3)"
      ],
      "execution_count": 0,
      "outputs": [
        {
          "output_type": "execute_result",
          "data": {
            "text/plain": [
              "137625"
            ]
          },
          "metadata": {
            "tags": []
          },
          "execution_count": 203
        }
      ]
    },
    {
      "cell_type": "code",
      "metadata": {
        "colab_type": "code",
        "outputId": "8b99240c-31b6-41fd-e73b-6b6056d4550c",
        "id": "74mmE84PgpEY",
        "colab": {
          "base_uri": "https://localhost:8080/",
          "height": 34
        }
      },
      "source": [
        "start = default_timer()\n",
        "expand_convo_text_3 = str(list(cont.expand_texts([convo_text_3], precise=False))) #this part takes forever\n",
        "end = default_timer()\n",
        "print(f\"elapsed time: {(end-start)/60} min\")"
      ],
      "execution_count": 0,
      "outputs": [
        {
          "output_type": "stream",
          "text": [
            "elapsed time: 15.276559974483341 min\n"
          ],
          "name": "stdout"
        }
      ]
    },
    {
      "cell_type": "code",
      "metadata": {
        "colab_type": "code",
        "id": "gl4WTOAVgpEe",
        "colab": {}
      },
      "source": [
        "with open('/content/drive/My Drive/expand_convo_text_3.txt', \"w\") as text_file:\n",
        "    text_file.write(expand_convo_text_3)"
      ],
      "execution_count": 0,
      "outputs": []
    },
    {
      "cell_type": "markdown",
      "metadata": {
        "colab_type": "text",
        "id": "M2gTvrb_gsEg"
      },
      "source": [
        "## 4/10"
      ]
    },
    {
      "cell_type": "code",
      "metadata": {
        "colab_type": "code",
        "outputId": "2ff6e792-6ea7-4be5-eada-c85e3ce526bc",
        "id": "vjgwnuI1gsEi",
        "colab": {
          "base_uri": "https://localhost:8080/",
          "height": 34
        }
      },
      "source": [
        "len(convo_text[409340:549529])/len(convo_text) # Approx. 10% of dataset"
      ],
      "execution_count": 0,
      "outputs": [
        {
          "output_type": "execute_result",
          "data": {
            "text/plain": [
              "0.1021520654990396"
            ]
          },
          "metadata": {
            "tags": []
          },
          "execution_count": 105
        }
      ]
    },
    {
      "cell_type": "code",
      "metadata": {
        "colab_type": "code",
        "outputId": "3841dfc1-0230-469c-efc1-11583e036af9",
        "id": "pEEcqmllgsEl",
        "colab": {
          "base_uri": "https://localhost:8080/",
          "height": 68
        }
      },
      "source": [
        "pp.pprint(convo_text[549429:549529])"
      ],
      "execution_count": 0,
      "outputs": [
        {
          "output_type": "stream",
          "text": [
            "('ail within the hour! Have a great day and safe travels!\\n'\n",
            " 'thanks!\\n'\n",
            " '************************************')\n"
          ],
          "name": "stdout"
        }
      ]
    },
    {
      "cell_type": "code",
      "metadata": {
        "colab_type": "code",
        "id": "JbqbvV5TgsEo",
        "colab": {}
      },
      "source": [
        "convo_text_4 = convo_text[409340:549529]"
      ],
      "execution_count": 0,
      "outputs": []
    },
    {
      "cell_type": "code",
      "metadata": {
        "colab_type": "code",
        "outputId": "efe6e086-6ac6-4353-e32f-1e20db0bcd8d",
        "id": "m10ezUtjgsEq",
        "colab": {
          "base_uri": "https://localhost:8080/",
          "height": 34
        }
      },
      "source": [
        "len(convo_text_4)"
      ],
      "execution_count": 0,
      "outputs": [
        {
          "output_type": "execute_result",
          "data": {
            "text/plain": [
              "140189"
            ]
          },
          "metadata": {
            "tags": []
          },
          "execution_count": 206
        }
      ]
    },
    {
      "cell_type": "code",
      "metadata": {
        "colab_type": "code",
        "outputId": "0691068a-6087-43c8-b62d-5bb796c6cee7",
        "id": "cU3tYntfgsEu",
        "colab": {
          "base_uri": "https://localhost:8080/",
          "height": 34
        }
      },
      "source": [
        "start = default_timer()\n",
        "expand_convo_text_4 = str(list(cont.expand_texts([convo_text_4], precise=False))) #this part takes forever\n",
        "end = default_timer()\n",
        "print(f\"elapsed time: {(end-start)/60} min\")"
      ],
      "execution_count": 0,
      "outputs": [
        {
          "output_type": "stream",
          "text": [
            "elapsed time: 22.01403841460001 min\n"
          ],
          "name": "stdout"
        }
      ]
    },
    {
      "cell_type": "code",
      "metadata": {
        "colab_type": "code",
        "id": "UkIYkjnrgsEx",
        "colab": {}
      },
      "source": [
        "with open('/content/drive/My Drive/expand_convo_text_4.txt', \"w\") as text_file:\n",
        "    text_file.write(expand_convo_text_4)"
      ],
      "execution_count": 0,
      "outputs": []
    },
    {
      "cell_type": "markdown",
      "metadata": {
        "colab_type": "text",
        "id": "lz0DuvzMgvZz"
      },
      "source": [
        "## 5/10"
      ]
    },
    {
      "cell_type": "code",
      "metadata": {
        "colab_type": "code",
        "outputId": "ce7cf954-f38a-4808-e7ba-dbe85135c58d",
        "id": "ix6Ut7ftgvZ1",
        "colab": {
          "base_uri": "https://localhost:8080/",
          "height": 34
        }
      },
      "source": [
        "len(convo_text[549529:699055])/len(convo_text) # Approx. 10% of dataset"
      ],
      "execution_count": 0,
      "outputs": [
        {
          "output_type": "execute_result",
          "data": {
            "text/plain": [
              "0.10895569371212717"
            ]
          },
          "metadata": {
            "tags": []
          },
          "execution_count": 207
        }
      ]
    },
    {
      "cell_type": "code",
      "metadata": {
        "colab_type": "code",
        "outputId": "39994494-e8ee-46db-91ff-3b929bf291c7",
        "id": "rAd-rsH5gvZ7",
        "colab": {
          "base_uri": "https://localhost:8080/",
          "height": 85
        }
      },
      "source": [
        "pp.pprint(convo_text[698900:699055])"
      ],
      "execution_count": 0,
      "outputs": [
        {
          "output_type": "stream",
          "text": [
            "('Washington is also unavailable\\n'\n",
            " 'Is anywhere available…?\\n'\n",
            " 'For a group of 22 out of Tel Aviv, we have nothing available\\n'\n",
            " '***************************************')\n"
          ],
          "name": "stdout"
        }
      ]
    },
    {
      "cell_type": "code",
      "metadata": {
        "colab_type": "code",
        "id": "6F9wFLAHgvZ9",
        "colab": {}
      },
      "source": [
        "convo_text_5 = convo_text[549529:699055]"
      ],
      "execution_count": 0,
      "outputs": []
    },
    {
      "cell_type": "code",
      "metadata": {
        "colab_type": "code",
        "outputId": "52cc17ab-af67-4cb5-aa0e-0d4e61719ea0",
        "id": "4ZeRGJ-1gvaB",
        "colab": {
          "base_uri": "https://localhost:8080/",
          "height": 34
        }
      },
      "source": [
        "len(convo_text_5)"
      ],
      "execution_count": 0,
      "outputs": [
        {
          "output_type": "execute_result",
          "data": {
            "text/plain": [
              "149526"
            ]
          },
          "metadata": {
            "tags": []
          },
          "execution_count": 210
        }
      ]
    },
    {
      "cell_type": "code",
      "metadata": {
        "colab_type": "code",
        "outputId": "8edd4afe-679b-4964-9d4c-dbe25b25a36f",
        "id": "azNE2FhxgvaH",
        "colab": {
          "base_uri": "https://localhost:8080/",
          "height": 34
        }
      },
      "source": [
        "start = default_timer()\n",
        "expand_convo_text_5 = str(list(cont.expand_texts([convo_text_5], precise=False))) #this part takes forever\n",
        "end = default_timer()\n",
        "print(f\"elapsed time: {(end-start)/60} min\")"
      ],
      "execution_count": 0,
      "outputs": [
        {
          "output_type": "stream",
          "text": [
            "elapsed time: 48.47355010049999 min\n"
          ],
          "name": "stdout"
        }
      ]
    },
    {
      "cell_type": "code",
      "metadata": {
        "colab_type": "code",
        "id": "ktrYBaangvaO",
        "colab": {}
      },
      "source": [
        "with open('/content/drive/My Drive/expand_convo_text_5.txt', \"w\") as text_file:\n",
        "    text_file.write(expand_convo_text_5)"
      ],
      "execution_count": 0,
      "outputs": []
    },
    {
      "cell_type": "markdown",
      "metadata": {
        "colab_type": "text",
        "id": "UYBvoogWg3FP"
      },
      "source": [
        "## 6/10"
      ]
    },
    {
      "cell_type": "code",
      "metadata": {
        "colab_type": "code",
        "outputId": "9f7db0e1-f1f8-4598-b13f-92eba3931c2c",
        "id": "AGn9n3D6g3FR",
        "colab": {
          "base_uri": "https://localhost:8080/",
          "height": 34
        }
      },
      "source": [
        "len(convo_text[699055:834263])/len(convo_text) # Approx. 10% of dataset"
      ],
      "execution_count": 0,
      "outputs": [
        {
          "output_type": "execute_result",
          "data": {
            "text/plain": [
              "0.09852254079845171"
            ]
          },
          "metadata": {
            "tags": []
          },
          "execution_count": 138
        }
      ]
    },
    {
      "cell_type": "code",
      "metadata": {
        "colab_type": "code",
        "outputId": "411d65d2-35e7-4ad8-9324-be9e957adbb7",
        "id": "p0Qo3rPDg3FU",
        "colab": {
          "base_uri": "https://localhost:8080/",
          "height": 34
        }
      },
      "source": [
        "pp.pprint(convo_text[834213:834263])"
      ],
      "execution_count": 0,
      "outputs": [
        {
          "output_type": "stream",
          "text": [
            "\" let's book\\n**************************************\"\n"
          ],
          "name": "stdout"
        }
      ]
    },
    {
      "cell_type": "code",
      "metadata": {
        "colab_type": "code",
        "id": "PyVLFlDdg3FY",
        "colab": {}
      },
      "source": [
        "convo_text_6 = convo_text[699055:834263]"
      ],
      "execution_count": 0,
      "outputs": []
    },
    {
      "cell_type": "code",
      "metadata": {
        "colab_type": "code",
        "outputId": "4c0ab23c-e137-4456-b03e-d464357e67c5",
        "id": "-INKACkTg3Fa",
        "colab": {
          "base_uri": "https://localhost:8080/",
          "height": 34
        }
      },
      "source": [
        "len(convo_text_6)"
      ],
      "execution_count": 0,
      "outputs": [
        {
          "output_type": "execute_result",
          "data": {
            "text/plain": [
              "135208"
            ]
          },
          "metadata": {
            "tags": []
          },
          "execution_count": 212
        }
      ]
    },
    {
      "cell_type": "code",
      "metadata": {
        "colab_type": "code",
        "outputId": "87b86981-322d-4d70-d3c9-0c0d0ecae42d",
        "id": "zMcxMUTKg3Fe",
        "colab": {
          "base_uri": "https://localhost:8080/",
          "height": 34
        }
      },
      "source": [
        "start = default_timer()\n",
        "expand_convo_text_6 = str(list(cont.expand_texts([convo_text_6], precise=False))) #this part takes forever\n",
        "end = default_timer()\n",
        "print(f\"elapsed time: {(end-start)/60} min\")"
      ],
      "execution_count": 0,
      "outputs": [
        {
          "output_type": "stream",
          "text": [
            "elapsed time: 24.63230284571667 min\n"
          ],
          "name": "stdout"
        }
      ]
    },
    {
      "cell_type": "code",
      "metadata": {
        "colab_type": "code",
        "id": "jOHtpAIdg3Fh",
        "colab": {}
      },
      "source": [
        "with open('/content/drive/My Drive/expand_convo_text_6.txt', \"w\") as text_file:\n",
        "    text_file.write(expand_convo_text_6)"
      ],
      "execution_count": 0,
      "outputs": []
    },
    {
      "cell_type": "markdown",
      "metadata": {
        "colab_type": "text",
        "id": "IECJLHqIg5_W"
      },
      "source": [
        "## 7/10"
      ]
    },
    {
      "cell_type": "code",
      "metadata": {
        "colab_type": "code",
        "outputId": "fedc4c39-2814-46f2-aae3-696e5eb4c8c4",
        "id": "CEKF8lzmg5_X",
        "colab": {
          "base_uri": "https://localhost:8080/",
          "height": 34
        }
      },
      "source": [
        "len(convo_text[834263:970112])/len(convo_text) # Approx. 10% of dataset"
      ],
      "execution_count": 0,
      "outputs": [
        {
          "output_type": "execute_result",
          "data": {
            "text/plain": [
              "0.098989620768955"
            ]
          },
          "metadata": {
            "tags": []
          },
          "execution_count": 157
        }
      ]
    },
    {
      "cell_type": "code",
      "metadata": {
        "colab_type": "code",
        "outputId": "d99ad06b-dad3-47dc-fd78-846ccc34d47c",
        "id": "oR3ztniyg5_a",
        "colab": {
          "base_uri": "https://localhost:8080/",
          "height": 85
        }
      },
      "source": [
        "pp.pprint(convo_text[970012:970112])"
      ],
      "execution_count": 0,
      "outputs": [
        {
          "output_type": "stream",
          "text": [
            "('we leave?\\n'\n",
            " 'September 5th and you return on the 14th\\n'\n",
            " 'ok - let’s book it\\n'\n",
            " '******************************')\n"
          ],
          "name": "stdout"
        }
      ]
    },
    {
      "cell_type": "code",
      "metadata": {
        "colab_type": "code",
        "id": "IY8CSRyQg5_c",
        "colab": {}
      },
      "source": [
        "convo_text_7 = convo_text[834263:970112]"
      ],
      "execution_count": 0,
      "outputs": []
    },
    {
      "cell_type": "code",
      "metadata": {
        "colab_type": "code",
        "outputId": "54878d93-8a83-495c-9aed-ec421311efc0",
        "id": "QomIqR7bg5_h",
        "colab": {
          "base_uri": "https://localhost:8080/",
          "height": 34
        }
      },
      "source": [
        "len(convo_text_7)"
      ],
      "execution_count": 0,
      "outputs": [
        {
          "output_type": "execute_result",
          "data": {
            "text/plain": [
              "135849"
            ]
          },
          "metadata": {
            "tags": []
          },
          "execution_count": 214
        }
      ]
    },
    {
      "cell_type": "code",
      "metadata": {
        "colab_type": "code",
        "outputId": "25cbf155-bdc6-4183-cebf-9de0c9579ee1",
        "id": "4XC5JW2vg5_j",
        "colab": {
          "base_uri": "https://localhost:8080/",
          "height": 34
        }
      },
      "source": [
        "start = default_timer()\n",
        "expand_convo_text_7 = str(list(cont.expand_texts([convo_text_7], precise=False))) #this part takes forever\n",
        "end = default_timer()\n",
        "print(f\"elapsed time: {(end-start)/60} min\")"
      ],
      "execution_count": 0,
      "outputs": [
        {
          "output_type": "stream",
          "text": [
            "elapsed time: 25.621747870666663 min\n"
          ],
          "name": "stdout"
        }
      ]
    },
    {
      "cell_type": "code",
      "metadata": {
        "colab_type": "code",
        "id": "Hmy5hi0Qg5_n",
        "colab": {}
      },
      "source": [
        "with open('/content/drive/My Drive/expand_convo_text_7.txt', \"w\") as text_file:\n",
        "    text_file.write(expand_convo_text_7)"
      ],
      "execution_count": 0,
      "outputs": []
    },
    {
      "cell_type": "markdown",
      "metadata": {
        "colab_type": "text",
        "id": "VGGcm55Wg9YS"
      },
      "source": [
        "## 8/10"
      ]
    },
    {
      "cell_type": "code",
      "metadata": {
        "colab_type": "code",
        "outputId": "d3e15355-1b63-4263-cfd5-7c92196950c0",
        "id": "3sp5uMtNg9YT",
        "colab": {
          "base_uri": "https://localhost:8080/",
          "height": 34
        }
      },
      "source": [
        "len(convo_text[970112:1113299])/len(convo_text) # Approx. 10% of dataset"
      ],
      "execution_count": 0,
      "outputs": [
        {
          "output_type": "execute_result",
          "data": {
            "text/plain": [
              "0.1043366298540612"
            ]
          },
          "metadata": {
            "tags": []
          },
          "execution_count": 170
        }
      ]
    },
    {
      "cell_type": "code",
      "metadata": {
        "colab_type": "code",
        "outputId": "8b7ea14c-7945-4473-9e40-7bc1d8532fcf",
        "id": "_SaaQ2nzg9YZ",
        "colab": {
          "base_uri": "https://localhost:8080/",
          "height": 119
        }
      },
      "source": [
        "pp.pprint(convo_text[1113100:1113299])"
      ],
      "execution_count": 0,
      "outputs": [
        {
          "output_type": "stream",
          "text": [
            "('at the departure and return dates are?\\n'\n",
            " 'Booked!\\n'\n",
            " 'Okay but when do my friend and I leave and come back?\\n'\n",
            " 'You will travel from September 14th until the 27th\\n'\n",
            " 'Okay cool. Thanks... friend.\\n'\n",
            " '******************')\n"
          ],
          "name": "stdout"
        }
      ]
    },
    {
      "cell_type": "code",
      "metadata": {
        "colab_type": "code",
        "id": "ZwwtEsOKg9Ye",
        "colab": {}
      },
      "source": [
        "convo_text_8 = convo_text[970112:1113299]"
      ],
      "execution_count": 0,
      "outputs": []
    },
    {
      "cell_type": "code",
      "metadata": {
        "colab_type": "code",
        "outputId": "a4890dd1-2f97-46ce-e8a3-520a3e66a333",
        "id": "2Ua1izz-g9Yh",
        "colab": {
          "base_uri": "https://localhost:8080/",
          "height": 34
        }
      },
      "source": [
        "len(convo_text_8)"
      ],
      "execution_count": 0,
      "outputs": [
        {
          "output_type": "execute_result",
          "data": {
            "text/plain": [
              "143187"
            ]
          },
          "metadata": {
            "tags": []
          },
          "execution_count": 216
        }
      ]
    },
    {
      "cell_type": "code",
      "metadata": {
        "colab_type": "code",
        "outputId": "64b8d135-5d8c-412f-c979-d424fdcfb8ae",
        "id": "WKOIscCGg9Yj",
        "colab": {
          "base_uri": "https://localhost:8080/",
          "height": 34
        }
      },
      "source": [
        "start = default_timer()\n",
        "expand_convo_text_8 = str(list(cont.expand_texts([convo_text_8], precise=False))) #this part takes forever\n",
        "end = default_timer()\n",
        "print(f\"elapsed time: {(end-start)/60} min\")"
      ],
      "execution_count": 0,
      "outputs": [
        {
          "output_type": "stream",
          "text": [
            "elapsed time: 21.475513338850003 min\n"
          ],
          "name": "stdout"
        }
      ]
    },
    {
      "cell_type": "code",
      "metadata": {
        "colab_type": "code",
        "id": "nEYgx_i0g9Yq",
        "colab": {}
      },
      "source": [
        "with open('/content/drive/My Drive/expand_convo_text_8.txt', \"w\") as text_file:\n",
        "    text_file.write(expand_convo_text_8)"
      ],
      "execution_count": 0,
      "outputs": []
    },
    {
      "cell_type": "markdown",
      "metadata": {
        "colab_type": "text",
        "id": "lmDdX4yPg_lw"
      },
      "source": [
        "## 9/10"
      ]
    },
    {
      "cell_type": "code",
      "metadata": {
        "colab_type": "code",
        "outputId": "ffa04a84-6ff5-4463-b10f-aa7c94939361",
        "id": "dxZcsavlg_lx",
        "colab": {
          "base_uri": "https://localhost:8080/",
          "height": 34
        }
      },
      "source": [
        "len(convo_text[1113299:1239696])/len(convo_text) # Approx. 10% of dataset"
      ],
      "execution_count": 0,
      "outputs": [
        {
          "output_type": "execute_result",
          "data": {
            "text/plain": [
              "0.0921021950572592"
            ]
          },
          "metadata": {
            "tags": []
          },
          "execution_count": 186
        }
      ]
    },
    {
      "cell_type": "code",
      "metadata": {
        "id": "b6bkjBrNoyU5",
        "colab_type": "code",
        "outputId": "153dfb2f-834a-4f76-e524-e43e7f6b6df7",
        "colab": {
          "base_uri": "https://localhost:8080/",
          "height": 34
        }
      },
      "source": [
        "len(convo_text)"
      ],
      "execution_count": 0,
      "outputs": [
        {
          "output_type": "execute_result",
          "data": {
            "text/plain": [
              "1372356"
            ]
          },
          "metadata": {
            "tags": []
          },
          "execution_count": 187
        }
      ]
    },
    {
      "cell_type": "code",
      "metadata": {
        "colab_type": "code",
        "outputId": "7ba34824-1dc4-4062-d4ee-6dbff5651c3d",
        "id": "iYIrprdGg_l0",
        "colab": {
          "base_uri": "https://localhost:8080/",
          "height": 68
        }
      },
      "source": [
        "pp.pprint(convo_text[1239596:1239696])"
      ],
      "execution_count": 0,
      "outputs": [
        {
          "output_type": "stream",
          "text": [
            "('eptember 24th 2016. Thank you and have a nice day!\\n'\n",
            " 'thanks you too\\n'\n",
            " '**********************************')\n"
          ],
          "name": "stdout"
        }
      ]
    },
    {
      "cell_type": "code",
      "metadata": {
        "colab_type": "code",
        "id": "SWmPPM1cg_l4",
        "colab": {}
      },
      "source": [
        "convo_text_9 = convo_text[1113299:1239696]"
      ],
      "execution_count": 0,
      "outputs": []
    },
    {
      "cell_type": "code",
      "metadata": {
        "colab_type": "code",
        "outputId": "ffbcfbf4-6402-4e10-e9b2-372a86bb2ec2",
        "id": "jfuoRVirg_l-",
        "colab": {
          "base_uri": "https://localhost:8080/",
          "height": 34
        }
      },
      "source": [
        "len(convo_text_9)"
      ],
      "execution_count": 0,
      "outputs": [
        {
          "output_type": "execute_result",
          "data": {
            "text/plain": [
              "126397"
            ]
          },
          "metadata": {
            "tags": []
          },
          "execution_count": 218
        }
      ]
    },
    {
      "cell_type": "code",
      "metadata": {
        "colab_type": "code",
        "outputId": "a6b5bb80-2946-4375-ca09-2c97d5df48cd",
        "id": "Q1exvIQPg_mF",
        "colab": {
          "base_uri": "https://localhost:8080/",
          "height": 34
        }
      },
      "source": [
        "start = default_timer()\n",
        "expand_convo_text_9 = str(list(cont.expand_texts([convo_text_9], precise=False))) #this part takes forever\n",
        "end = default_timer()\n",
        "print(f\"elapsed time: {(end-start)/60} min\")"
      ],
      "execution_count": 0,
      "outputs": [
        {
          "output_type": "stream",
          "text": [
            "elapsed time: 25.030293950266664 min\n"
          ],
          "name": "stdout"
        }
      ]
    },
    {
      "cell_type": "code",
      "metadata": {
        "colab_type": "code",
        "id": "dtYjJrJ9g_mI",
        "colab": {}
      },
      "source": [
        "with open('/content/drive/My Drive/expand_convo_text_9.txt', \"w\") as text_file:\n",
        "    text_file.write(expand_convo_text_9)"
      ],
      "execution_count": 0,
      "outputs": []
    },
    {
      "cell_type": "markdown",
      "metadata": {
        "colab_type": "text",
        "id": "LxAPNyIVhBxF"
      },
      "source": [
        "## 10/10"
      ]
    },
    {
      "cell_type": "code",
      "metadata": {
        "colab_type": "code",
        "outputId": "1eabc97d-298f-45a6-904f-6cd45eef9143",
        "id": "6fdzT_4DhBxG",
        "colab": {
          "base_uri": "https://localhost:8080/",
          "height": 34
        }
      },
      "source": [
        "len(convo_text[1239696:1372356])/len(convo_text) # Approx. 10% of dataset"
      ],
      "execution_count": 0,
      "outputs": [
        {
          "output_type": "execute_result",
          "data": {
            "text/plain": [
              "0.09905447274613875"
            ]
          },
          "metadata": {
            "tags": []
          },
          "execution_count": 38
        }
      ]
    },
    {
      "cell_type": "code",
      "metadata": {
        "colab_type": "code",
        "id": "s8B9kT5dSGa7",
        "colab": {}
      },
      "source": [
        ""
      ],
      "execution_count": 0,
      "outputs": []
    },
    {
      "cell_type": "code",
      "metadata": {
        "colab_type": "code",
        "outputId": "91ee0603-f36c-4dfc-8dfc-201f85258bb5",
        "id": "lXXEto_ihBxJ",
        "colab": {
          "base_uri": "https://localhost:8080/",
          "height": 85
        }
      },
      "source": [
        "pp.pprint(convo_text[1372256:1372356])"
      ],
      "execution_count": 0,
      "outputs": [
        {
          "output_type": "stream",
          "text": [
            "(' Have a good trip :slightly_smiling_face:\\n'\n",
            " 'Thanks!\\n'\n",
            " 'My pleasure!\\n'\n",
            " '*************************************')\n"
          ],
          "name": "stdout"
        }
      ]
    },
    {
      "cell_type": "code",
      "metadata": {
        "colab_type": "code",
        "id": "Cgcft_36hBxN",
        "colab": {}
      },
      "source": [
        "convo_text_10 = convo_text[1239696:1372356]"
      ],
      "execution_count": 0,
      "outputs": []
    },
    {
      "cell_type": "code",
      "metadata": {
        "colab_type": "code",
        "outputId": "45afbb92-6a27-4603-d28d-1002729be94a",
        "id": "jpBpkC6VhBxZ",
        "colab": {
          "base_uri": "https://localhost:8080/",
          "height": 34
        }
      },
      "source": [
        "len(convo_text_10)"
      ],
      "execution_count": 0,
      "outputs": [
        {
          "output_type": "execute_result",
          "data": {
            "text/plain": [
              "132660"
            ]
          },
          "metadata": {
            "tags": []
          },
          "execution_count": 220
        }
      ]
    },
    {
      "cell_type": "code",
      "metadata": {
        "colab_type": "code",
        "outputId": "4690bc9e-d31f-4472-b8a6-bf2c2f06f688",
        "id": "eoOy02eMhBxb",
        "colab": {
          "base_uri": "https://localhost:8080/",
          "height": 34
        }
      },
      "source": [
        "start = default_timer()\n",
        "expand_convo_text_10 = str(list(cont.expand_texts([convo_text_10], precise=False))) #this part takes forever\n",
        "end = default_timer()\n",
        "print(f\"elapsed time: {(end-start)/60} min\")"
      ],
      "execution_count": 0,
      "outputs": [
        {
          "output_type": "stream",
          "text": [
            "elapsed time: 27.381515698066657 min\n"
          ],
          "name": "stdout"
        }
      ]
    },
    {
      "cell_type": "code",
      "metadata": {
        "colab_type": "code",
        "id": "YwIg291UhBxd",
        "colab": {}
      },
      "source": [
        "with open('/content/drive/My Drive/expand_convo_text_10.txt', \"w\") as text_file:\n",
        "    text_file.write(expand_convo_text_10)"
      ],
      "execution_count": 0,
      "outputs": []
    },
    {
      "cell_type": "markdown",
      "metadata": {
        "id": "aNutabiNBZBF",
        "colab_type": "text"
      },
      "source": [
        "## Concatenate all parts\n"
      ]
    },
    {
      "cell_type": "code",
      "metadata": {
        "id": "asa3kPS6dTcX",
        "colab_type": "code",
        "colab": {}
      },
      "source": [
        "outfile_name = '/content/drive/My Drive/contraction_data_parts/expand_convo_text_full.txt'\n",
        "with open(outfile_name, 'wb') as outfile:\n",
        "    for file_name in glob.glob('/content/drive/My Drive/contraction_data_parts/*'):\n",
        "        if file_name == outfile_name:\n",
        "            # don't want to copy the output into the output\n",
        "            continue\n",
        "        with open(file_name, 'rb') as readfile:\n",
        "            shutil.copyfileobj(readfile, outfile)"
      ],
      "execution_count": 0,
      "outputs": []
    },
    {
      "cell_type": "markdown",
      "metadata": {
        "id": "jsioCZQpCs8O",
        "colab_type": "text"
      },
      "source": [
        "Total time was approximately 4 hours to fully expand all contractions in text."
      ]
    },
    {
      "cell_type": "code",
      "metadata": {
        "id": "8LoOoNmchtAx",
        "colab_type": "code",
        "colab": {}
      },
      "source": [
        ""
      ],
      "execution_count": 0,
      "outputs": []
    }
  ]
}