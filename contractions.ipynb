{
  "nbformat": 4,
  "nbformat_minor": 0,
  "metadata": {
    "colab": {
      "name": "contractions.ipynb",
      "provenance": [],
      "collapsed_sections": [],
      "mount_file_id": "1BLqhcT7_UhLJHbLz9_1DZZ3EXaGiDDzU",
      "authorship_tag": "ABX9TyObGQ3ZI6vfVr0de2fRB8r2"
    },
    "kernelspec": {
      "name": "python3",
      "display_name": "Python 3"
    }
  },
  "cells": [
    {
      "cell_type": "code",
      "metadata": {
        "id": "pl77OIwEd1K4",
        "colab_type": "code",
        "colab": {
          "base_uri": "https://localhost:8080/",
          "height": 1000
        },
        "outputId": "6d92fabc-0bc1-4a0f-aa74-919e4b46f07a"
      },
      "source": [
        "! sudo apt install openjdk-8-jdk\n",
        "! sudo update-alternatives --set java /usr/lib/jvm/java-8-openjdk-amd64/jre/bin/java\n",
        "! pip install language-check -qq\n",
        "! pip install pycontractions -qq"
      ],
      "execution_count": 3,
      "outputs": [
        {
          "output_type": "stream",
          "text": [
            "Reading package lists... Done\n",
            "Building dependency tree       \n",
            "Reading state information... Done\n",
            "The following additional packages will be installed:\n",
            "  fonts-dejavu-core fonts-dejavu-extra libatk-wrapper-java\n",
            "  libatk-wrapper-java-jni libxxf86dga1 openjdk-8-jre x11-utils\n",
            "Suggested packages:\n",
            "  openjdk-8-demo openjdk-8-source visualvm icedtea-8-plugin mesa-utils\n",
            "The following NEW packages will be installed:\n",
            "  fonts-dejavu-core fonts-dejavu-extra libatk-wrapper-java\n",
            "  libatk-wrapper-java-jni libxxf86dga1 openjdk-8-jdk openjdk-8-jre x11-utils\n",
            "0 upgraded, 8 newly installed, 0 to remove and 25 not upgraded.\n",
            "Need to get 4,942 kB of archives.\n",
            "After this operation, 13.3 MB of additional disk space will be used.\n",
            "Get:1 http://archive.ubuntu.com/ubuntu bionic/main amd64 libxxf86dga1 amd64 2:1.1.4-1 [13.7 kB]\n",
            "Get:2 http://archive.ubuntu.com/ubuntu bionic/main amd64 fonts-dejavu-core all 2.37-1 [1,041 kB]\n",
            "Get:3 http://archive.ubuntu.com/ubuntu bionic/main amd64 fonts-dejavu-extra all 2.37-1 [1,953 kB]\n",
            "Get:4 http://archive.ubuntu.com/ubuntu bionic/main amd64 x11-utils amd64 7.7+3build1 [196 kB]\n",
            "Get:5 http://archive.ubuntu.com/ubuntu bionic/main amd64 libatk-wrapper-java all 0.33.3-20ubuntu0.1 [34.7 kB]\n",
            "Get:6 http://archive.ubuntu.com/ubuntu bionic/main amd64 libatk-wrapper-java-jni amd64 0.33.3-20ubuntu0.1 [28.3 kB]\n",
            "Get:7 http://archive.ubuntu.com/ubuntu bionic-updates/universe amd64 openjdk-8-jre amd64 8u242-b08-0ubuntu3~18.04 [69.7 kB]\n",
            "Get:8 http://archive.ubuntu.com/ubuntu bionic-updates/universe amd64 openjdk-8-jdk amd64 8u242-b08-0ubuntu3~18.04 [1,606 kB]\n",
            "Fetched 4,942 kB in 1s (4,934 kB/s)\n",
            "debconf: unable to initialize frontend: Dialog\n",
            "debconf: (No usable dialog-like program is installed, so the dialog based frontend cannot be used. at /usr/share/perl5/Debconf/FrontEnd/Dialog.pm line 76, <> line 8.)\n",
            "debconf: falling back to frontend: Readline\n",
            "debconf: unable to initialize frontend: Readline\n",
            "debconf: (This frontend requires a controlling tty.)\n",
            "debconf: falling back to frontend: Teletype\n",
            "dpkg-preconfigure: unable to re-open stdin: \n",
            "Selecting previously unselected package libxxf86dga1:amd64.\n",
            "(Reading database ... 133872 files and directories currently installed.)\n",
            "Preparing to unpack .../0-libxxf86dga1_2%3a1.1.4-1_amd64.deb ...\n",
            "Unpacking libxxf86dga1:amd64 (2:1.1.4-1) ...\n",
            "Selecting previously unselected package fonts-dejavu-core.\n",
            "Preparing to unpack .../1-fonts-dejavu-core_2.37-1_all.deb ...\n",
            "Unpacking fonts-dejavu-core (2.37-1) ...\n",
            "Selecting previously unselected package fonts-dejavu-extra.\n",
            "Preparing to unpack .../2-fonts-dejavu-extra_2.37-1_all.deb ...\n",
            "Unpacking fonts-dejavu-extra (2.37-1) ...\n",
            "Selecting previously unselected package x11-utils.\n",
            "Preparing to unpack .../3-x11-utils_7.7+3build1_amd64.deb ...\n",
            "Unpacking x11-utils (7.7+3build1) ...\n",
            "Selecting previously unselected package libatk-wrapper-java.\n",
            "Preparing to unpack .../4-libatk-wrapper-java_0.33.3-20ubuntu0.1_all.deb ...\n",
            "Unpacking libatk-wrapper-java (0.33.3-20ubuntu0.1) ...\n",
            "Selecting previously unselected package libatk-wrapper-java-jni:amd64.\n",
            "Preparing to unpack .../5-libatk-wrapper-java-jni_0.33.3-20ubuntu0.1_amd64.deb ...\n",
            "Unpacking libatk-wrapper-java-jni:amd64 (0.33.3-20ubuntu0.1) ...\n",
            "Selecting previously unselected package openjdk-8-jre:amd64.\n",
            "Preparing to unpack .../6-openjdk-8-jre_8u242-b08-0ubuntu3~18.04_amd64.deb ...\n",
            "Unpacking openjdk-8-jre:amd64 (8u242-b08-0ubuntu3~18.04) ...\n",
            "Selecting previously unselected package openjdk-8-jdk:amd64.\n",
            "Preparing to unpack .../7-openjdk-8-jdk_8u242-b08-0ubuntu3~18.04_amd64.deb ...\n",
            "Unpacking openjdk-8-jdk:amd64 (8u242-b08-0ubuntu3~18.04) ...\n",
            "Setting up fonts-dejavu-core (2.37-1) ...\n",
            "Setting up libxxf86dga1:amd64 (2:1.1.4-1) ...\n",
            "Setting up fonts-dejavu-extra (2.37-1) ...\n",
            "Setting up x11-utils (7.7+3build1) ...\n",
            "Setting up libatk-wrapper-java (0.33.3-20ubuntu0.1) ...\n",
            "Setting up libatk-wrapper-java-jni:amd64 (0.33.3-20ubuntu0.1) ...\n",
            "Setting up openjdk-8-jre:amd64 (8u242-b08-0ubuntu3~18.04) ...\n",
            "update-alternatives: using /usr/lib/jvm/java-8-openjdk-amd64/jre/bin/policytool to provide /usr/bin/policytool (policytool) in auto mode\n",
            "Setting up openjdk-8-jdk:amd64 (8u242-b08-0ubuntu3~18.04) ...\n",
            "update-alternatives: using /usr/lib/jvm/java-8-openjdk-amd64/bin/appletviewer to provide /usr/bin/appletviewer (appletviewer) in auto mode\n",
            "update-alternatives: using /usr/lib/jvm/java-8-openjdk-amd64/bin/jconsole to provide /usr/bin/jconsole (jconsole) in auto mode\n",
            "Processing triggers for man-db (2.8.3-2ubuntu0.1) ...\n",
            "Processing triggers for hicolor-icon-theme (0.17-2) ...\n",
            "Processing triggers for fontconfig (2.12.6-0ubuntu2) ...\n",
            "Processing triggers for mime-support (3.60ubuntu1) ...\n",
            "Processing triggers for libc-bin (2.27-3ubuntu1) ...\n",
            "/sbin/ldconfig.real: /usr/local/lib/python3.6/dist-packages/ideep4py/lib/libmkldnn.so.0 is not a symbolic link\n",
            "\n",
            "update-alternatives: using /usr/lib/jvm/java-8-openjdk-amd64/jre/bin/java to provide /usr/bin/java (java) in manual mode\n",
            "  Building wheel for language-check (setup.py) ... \u001b[?25l\u001b[?25hdone\n"
          ],
          "name": "stdout"
        }
      ]
    },
    {
      "cell_type": "code",
      "metadata": {
        "id": "GLdNcf8veBI3",
        "colab_type": "code",
        "colab": {}
      },
      "source": [
        "# Import statements\n",
        "import pandas as pd\n",
        "import numpy as np\n",
        "import pprint as pp\n",
        "import json\n",
        "from pandas.io.json import json_normalize\n",
        "import re\n",
        "from timeit import default_timer\n",
        "\n",
        "# Preprocessing\n",
        "from pycontractions import Contractions"
      ],
      "execution_count": 0,
      "outputs": []
    },
    {
      "cell_type": "code",
      "metadata": {
        "id": "DGg-x17YeTP9",
        "colab_type": "code",
        "colab": {}
      },
      "source": [
        "# Load JSON file into dataframe\n",
        "data = pd.read_json('/content/drive/My Drive/frames.json')\n",
        "df = pd.DataFrame(data)"
      ],
      "execution_count": 0,
      "outputs": []
    },
    {
      "cell_type": "code",
      "metadata": {
        "id": "_cEt_LJAeDUk",
        "colab_type": "code",
        "colab": {}
      },
      "source": [
        "# Attempted json_normalize but kept getting the error: 'list' object has no attribute 'values'\n",
        "# This happens because of list enclosing each of the dictionary.\n",
        "#   - Multiple dictionaries with matching keys enclosed by a list.\n",
        "#   - A dictionary with keys as columns and values in the form of list.\n",
        "\n",
        "# Thus we try another approach\n",
        "text_list = []\n",
        "for item in df['turns']:\n",
        "  text_list.append(item)\n",
        "turns_df = pd.DataFrame(text_list)"
      ],
      "execution_count": 0,
      "outputs": []
    },
    {
      "cell_type": "code",
      "metadata": {
        "id": "17cGFbe9eRk2",
        "colab_type": "code",
        "colab": {}
      },
      "source": [
        "turns_df.replace(np.nan,'',inplace=True) # Replace all null values"
      ],
      "execution_count": 0,
      "outputs": []
    },
    {
      "cell_type": "code",
      "metadata": {
        "id": "we-o_Z0FeZHe",
        "colab_type": "code",
        "colab": {}
      },
      "source": [
        "turns_df_T = turns_df.transpose() # Transposed the dataframe to have proper conversation turns"
      ],
      "execution_count": 0,
      "outputs": []
    },
    {
      "cell_type": "code",
      "metadata": {
        "id": "QnJlXw_EebA2",
        "colab_type": "code",
        "colab": {}
      },
      "source": [
        "# Iterates through the data frame and gets all values with a text key\n",
        "convo_text = ''\n",
        "for i in turns_df_T:                                 # 1369 columns\n",
        "  for j in range(0,48):                              # 48 rows\n",
        "    try:\n",
        "      get_text = turns_df_T[i][j].get('text')        # Gets the value from the corresponding key\n",
        "      convo_text += get_text + ' '                   # Concatenates all text\n",
        "    except AttributeError:\n",
        "      convo_text += ''                               # Concatenates '' if there is no text key - used for switching conversations"
      ],
      "execution_count": 0,
      "outputs": []
    },
    {
      "cell_type": "code",
      "metadata": {
        "id": "Dyk6-gDneckA",
        "colab_type": "code",
        "colab": {
          "base_uri": "https://localhost:8080/",
          "height": 224
        },
        "outputId": "a84e4ea0-9616-4da7-945b-f737e32dc4b7"
      },
      "source": [
        "!wget -c \"https://s3.amazonaws.com/dl4j-distribution/GoogleNews-vectors-negative300.bin.gz\""
      ],
      "execution_count": 10,
      "outputs": [
        {
          "output_type": "stream",
          "text": [
            "--2020-03-25 17:11:19--  https://s3.amazonaws.com/dl4j-distribution/GoogleNews-vectors-negative300.bin.gz\n",
            "Resolving s3.amazonaws.com (s3.amazonaws.com)... 52.216.136.125\n",
            "Connecting to s3.amazonaws.com (s3.amazonaws.com)|52.216.136.125|:443... connected.\n",
            "HTTP request sent, awaiting response... 200 OK\n",
            "Length: 1647046227 (1.5G) [application/x-gzip]\n",
            "Saving to: ‘GoogleNews-vectors-negative300.bin.gz’\n",
            "\n",
            "GoogleNews-vectors- 100%[===================>]   1.53G  48.7MB/s    in 26s     \n",
            "\n",
            "2020-03-25 17:11:45 (60.6 MB/s) - ‘GoogleNews-vectors-negative300.bin.gz’ saved [1647046227/1647046227]\n",
            "\n"
          ],
          "name": "stdout"
        }
      ]
    },
    {
      "cell_type": "code",
      "metadata": {
        "id": "dQv2VFmDegeZ",
        "colab_type": "code",
        "colab": {}
      },
      "source": [
        "# Expand contractions\n",
        "# - Load semantic vector model in gensim keyedvectors format from disk\n",
        "cont = Contractions('GoogleNews-vectors-negative300.bin.gz')"
      ],
      "execution_count": 0,
      "outputs": []
    },
    {
      "cell_type": "markdown",
      "metadata": {
        "id": "gHqF7uVD4AIc",
        "colab_type": "text"
      },
      "source": [
        "## 1st Quarter"
      ]
    },
    {
      "cell_type": "code",
      "metadata": {
        "id": "yv7OI5N18tlb",
        "colab_type": "code",
        "colab": {
          "base_uri": "https://localhost:8080/",
          "height": 34
        },
        "outputId": "3cdcac82-5045-4a7b-d62d-80ca7efc84b9"
      },
      "source": [
        "len(convo_text)/4"
      ],
      "execution_count": 12,
      "outputs": [
        {
          "output_type": "execute_result",
          "data": {
            "text/plain": [
              "331315.25"
            ]
          },
          "metadata": {
            "tags": []
          },
          "execution_count": 12
        }
      ]
    },
    {
      "cell_type": "code",
      "metadata": {
        "id": "PujeN4eS3n5O",
        "colab_type": "code",
        "colab": {
          "base_uri": "https://localhost:8080/",
          "height": 34
        },
        "outputId": "a2820faa-7e35-4c6e-d064-75844d9803b1"
      },
      "source": [
        "len(convo_text[0:331251])/len(convo_text) # Approx. 25% of dataset"
      ],
      "execution_count": 25,
      "outputs": [
        {
          "output_type": "execute_result",
          "data": {
            "text/plain": [
              "0.2499515189838077"
            ]
          },
          "metadata": {
            "tags": []
          },
          "execution_count": 25
        }
      ]
    },
    {
      "cell_type": "code",
      "metadata": {
        "id": "ZPqE7Cmirg_z",
        "colab_type": "code",
        "colab": {
          "base_uri": "https://localhost:8080/",
          "height": 68
        },
        "outputId": "0d338ea1-9a42-42e7-b1d2-8f4c8e047ddb"
      },
      "source": [
        "pp.pprint(convo_text[331100:331251])"
      ],
      "execution_count": 24,
      "outputs": [
        {
          "output_type": "stream",
          "text": [
            "(' 30th and return on September 7th. ok Shall I go ahead and book that for '\n",
            " 'you? ok Wonderful, all booked :slightly_smiling_face: Enjoy your stay. '\n",
            " 'thanks ')\n"
          ],
          "name": "stdout"
        }
      ]
    },
    {
      "cell_type": "code",
      "metadata": {
        "id": "FWrlkVYm4HDl",
        "colab_type": "code",
        "colab": {}
      },
      "source": [
        "convo_text_qtr_1 = convo_text[0:331251]"
      ],
      "execution_count": 0,
      "outputs": []
    },
    {
      "cell_type": "code",
      "metadata": {
        "id": "rJko4Q0-72ps",
        "colab_type": "code",
        "colab": {
          "base_uri": "https://localhost:8080/",
          "height": 34
        },
        "outputId": "2ba2e69f-d771-4653-f032-7139a57b81fe"
      },
      "source": [
        "len(convo_text_qtr_1)"
      ],
      "execution_count": 28,
      "outputs": [
        {
          "output_type": "execute_result",
          "data": {
            "text/plain": [
              "331251"
            ]
          },
          "metadata": {
            "tags": []
          },
          "execution_count": 28
        }
      ]
    },
    {
      "cell_type": "code",
      "metadata": {
        "id": "dooDvVx_emFv",
        "colab_type": "code",
        "colab": {
          "base_uri": "https://localhost:8080/",
          "height": 88
        },
        "outputId": "9a3e67ef-010e-4034-eb49-60fc0760e516"
      },
      "source": [
        "start = default_timer()\n",
        "expand_convo_text_qtr_1 = str(list(cont.expand_texts([convo_text_qtr_1], precise=False))) #this part takes forever\n",
        "end = default_timer()"
      ],
      "execution_count": 29,
      "outputs": [
        {
          "output_type": "stream",
          "text": [
            "/usr/local/lib/python3.6/dist-packages/smart_open/smart_open_lib.py:410: UserWarning: This function is deprecated, use smart_open.open instead. See the migration notes for details: https://github.com/RaRe-Technologies/smart_open/blob/master/README.rst#migrating-to-the-new-open-function\n",
            "  'See the migration notes for details: %s' % _MIGRATION_NOTES_URL\n"
          ],
          "name": "stderr"
        },
        {
          "output_type": "stream",
          "text": [
            "elapsed time: 3995.5319152054167 min\n"
          ],
          "name": "stdout"
        }
      ]
    },
    {
      "cell_type": "code",
      "metadata": {
        "id": "BSFZshyF5pPp",
        "colab_type": "code",
        "colab": {
          "base_uri": "https://localhost:8080/",
          "height": 34
        },
        "outputId": "32756f75-27de-4cda-ba61-4a60f75af282"
      },
      "source": [
        "print(f\"elapsed time: {(end-start)/60} min\")"
      ],
      "execution_count": 30,
      "outputs": [
        {
          "output_type": "stream",
          "text": [
            "elapsed time: 55.325283718950004 min\n"
          ],
          "name": "stdout"
        }
      ]
    },
    {
      "cell_type": "code",
      "metadata": {
        "id": "ljNMpAdOerC4",
        "colab_type": "code",
        "colab": {}
      },
      "source": [
        "with open('expand_convo_text_qtr_1.txt', \"w\") as text_file:\n",
        "    text_file.write(expand_convo_text_qtr_1)"
      ],
      "execution_count": 0,
      "outputs": []
    },
    {
      "cell_type": "markdown",
      "metadata": {
        "id": "RpTyvIXYetjg",
        "colab_type": "text"
      },
      "source": [
        "## 2nd Quarter"
      ]
    },
    {
      "cell_type": "code",
      "metadata": {
        "id": "8kkfHFmk7wDf",
        "colab_type": "code",
        "colab": {
          "base_uri": "https://localhost:8080/",
          "height": 34
        },
        "outputId": "2bfc16fa-a445-4474-882e-4d82e093cca6"
      },
      "source": [
        "len(convo_text[331251:662139])/len(convo_text) # Approx. 25% of dataset"
      ],
      "execution_count": 52,
      "outputs": [
        {
          "output_type": "execute_result",
          "data": {
            "text/plain": [
              "0.24967761067442565"
            ]
          },
          "metadata": {
            "tags": []
          },
          "execution_count": 52
        }
      ]
    },
    {
      "cell_type": "code",
      "metadata": {
        "id": "pnZy2Efb6zaK",
        "colab_type": "code",
        "colab": {
          "base_uri": "https://localhost:8080/",
          "height": 51
        },
        "outputId": "0add45dc-88f5-4eff-a475-cad609c1fed2"
      },
      "source": [
        "pp.pprint(convo_text[662038:662139])"
      ],
      "execution_count": 51,
      "outputs": [
        {
          "output_type": "stream",
          "text": [
            "('it please This trip had been reserved for you.  Please contact us should you '\n",
            " 'have any further needs. ')\n"
          ],
          "name": "stdout"
        }
      ]
    },
    {
      "cell_type": "code",
      "metadata": {
        "id": "tquFXsrW617y",
        "colab_type": "code",
        "colab": {}
      },
      "source": [
        "convo_text_qtr_2 = convo_text[331251:662139]"
      ],
      "execution_count": 0,
      "outputs": []
    },
    {
      "cell_type": "code",
      "metadata": {
        "id": "Sh9o-7SA62fc",
        "colab_type": "code",
        "colab": {
          "base_uri": "https://localhost:8080/",
          "height": 34
        },
        "outputId": "8f63121a-f34e-47e6-fc98-c2860160443e"
      },
      "source": [
        "start = default_timer()\n",
        "expand_convo_text_qtr_2 = str(list(cont.expand_texts([convo_text_qtr_2], precise=False))) #this part takes forever\n",
        "end = default_timer()\n",
        "print(f'elapsed time: {(end-start)/60} min')"
      ],
      "execution_count": 55,
      "outputs": [
        {
          "output_type": "stream",
          "text": [
            "elapsed time: 63.01775751359998 min\n"
          ],
          "name": "stdout"
        }
      ]
    },
    {
      "cell_type": "code",
      "metadata": {
        "id": "FaiLFYD3NjNx",
        "colab_type": "code",
        "colab": {}
      },
      "source": [
        "with open('expand_convo_text_qtr_2.txt', \"w\") as text_file:\n",
        "    text_file.write(expand_convo_text_qtr_2)"
      ],
      "execution_count": 0,
      "outputs": []
    },
    {
      "cell_type": "markdown",
      "metadata": {
        "id": "ZL0d5WqX8kK1",
        "colab_type": "text"
      },
      "source": [
        "## 3rd Quarter"
      ]
    },
    {
      "cell_type": "code",
      "metadata": {
        "id": "dJ4Sq6hLMr-p",
        "colab_type": "code",
        "colab": {
          "base_uri": "https://localhost:8080/",
          "height": 34
        },
        "outputId": "fc2a4daa-4710-46e8-9c4a-3411b03ba183"
      },
      "source": [
        "len(convo_text[662139:994130])/len(convo_text) # Approx. 25% of dataset"
      ],
      "execution_count": 79,
      "outputs": [
        {
          "output_type": "execute_result",
          "data": {
            "text/plain": [
              "0.25050989955940756"
            ]
          },
          "metadata": {
            "tags": []
          },
          "execution_count": 79
        }
      ]
    },
    {
      "cell_type": "code",
      "metadata": {
        "id": "JFSOBAElMuC5",
        "colab_type": "code",
        "colab": {
          "base_uri": "https://localhost:8080/",
          "height": 51
        },
        "outputId": "af670efa-91e0-45e1-b066-7dc747cbbc4a"
      },
      "source": [
        "pp.pprint(convo_text[994030:994130])"
      ],
      "execution_count": 82,
      "outputs": [
        {
          "output_type": "stream",
          "text": [
            "('y departing on Sept 12 and returning on Sept 19 at 3480.49USD. Correct? '\n",
            " 'Wonderful! thank you kindly ')\n"
          ],
          "name": "stdout"
        }
      ]
    },
    {
      "cell_type": "code",
      "metadata": {
        "id": "-yweQF0wOnX8",
        "colab_type": "code",
        "colab": {}
      },
      "source": [
        "convo_text_qtr_3 = convo_text[662139:994130]"
      ],
      "execution_count": 0,
      "outputs": []
    },
    {
      "cell_type": "code",
      "metadata": {
        "id": "HIpcHezlPEip",
        "colab_type": "code",
        "colab": {
          "base_uri": "https://localhost:8080/",
          "height": 34
        },
        "outputId": "f0385c69-2f7d-4277-cf61-2f1789351388"
      },
      "source": [
        "start = default_timer()\n",
        "expand_convo_text_qtr_3 = str(list(cont.expand_texts([convo_text_qtr_3], precise=False))) #this part takes forever\n",
        "end = default_timer()\n",
        "print(f'elapsed time: {(end-start)/60} min')"
      ],
      "execution_count": 84,
      "outputs": [
        {
          "output_type": "stream",
          "text": [
            "elapsed time: 90.31492734950001 min\n"
          ],
          "name": "stdout"
        }
      ]
    },
    {
      "cell_type": "code",
      "metadata": {
        "id": "AKYWVabtPIOj",
        "colab_type": "code",
        "colab": {}
      },
      "source": [
        "with open('expand_convo_text_qtr_3.txt', \"w\") as text_file:\n",
        "    text_file.write(expand_convo_text_qtr_3)"
      ],
      "execution_count": 0,
      "outputs": []
    },
    {
      "cell_type": "markdown",
      "metadata": {
        "id": "DpaHPsHhlJfp",
        "colab_type": "text"
      },
      "source": [
        "## 4th Quarter"
      ]
    },
    {
      "cell_type": "code",
      "metadata": {
        "id": "h_X4xPtalj7l",
        "colab_type": "code",
        "colab": {
          "base_uri": "https://localhost:8080/",
          "height": 34
        },
        "outputId": "ef3a8b47-f38e-4fb1-adc4-ab861a89a93f"
      },
      "source": [
        "len(convo_text)"
      ],
      "execution_count": 96,
      "outputs": [
        {
          "output_type": "execute_result",
          "data": {
            "text/plain": [
              "1325261"
            ]
          },
          "metadata": {
            "tags": []
          },
          "execution_count": 96
        }
      ]
    },
    {
      "cell_type": "code",
      "metadata": {
        "id": "Jlf0T-v6lYEZ",
        "colab_type": "code",
        "colab": {
          "base_uri": "https://localhost:8080/",
          "height": 34
        },
        "outputId": "8de42e91-d0d0-44d6-89dd-fb7ece5ac433"
      },
      "source": [
        "len(convo_text[994130:1325261])/len(convo_text) # Approx. 25% of dataset"
      ],
      "execution_count": 87,
      "outputs": [
        {
          "output_type": "execute_result",
          "data": {
            "text/plain": [
              "0.2498609707823591"
            ]
          },
          "metadata": {
            "tags": []
          },
          "execution_count": 87
        }
      ]
    },
    {
      "cell_type": "code",
      "metadata": {
        "id": "Us7da9eXlu4J",
        "colab_type": "code",
        "colab": {
          "base_uri": "https://localhost:8080/",
          "height": 51
        },
        "outputId": "901d57db-1edb-4191-b129-7ea3a41b8139"
      },
      "source": [
        "pp.pprint(convo_text[1325161:1325260])"
      ],
      "execution_count": 91,
      "outputs": [
        {
          "output_type": "stream",
          "text": [
            "('k perfect, book me! Consider it done! Have a good trip '\n",
            " ':slightly_smiling_face: Thanks! My pleasure!')\n"
          ],
          "name": "stdout"
        }
      ]
    },
    {
      "cell_type": "code",
      "metadata": {
        "id": "3_DAD_aZme-w",
        "colab_type": "code",
        "colab": {}
      },
      "source": [
        "convo_text_qtr_4 = convo_text[994130:1325260]"
      ],
      "execution_count": 0,
      "outputs": []
    },
    {
      "cell_type": "code",
      "metadata": {
        "id": "2cFexJSjmwjc",
        "colab_type": "code",
        "colab": {
          "base_uri": "https://localhost:8080/",
          "height": 34
        },
        "outputId": "1eb8148d-f5dc-4b0a-b7f0-b95692d39271"
      },
      "source": [
        "start = default_timer()\n",
        "expand_convo_text_qtr_4 = str(list(cont.expand_texts([convo_text_qtr_4], precise=False))) #this part takes forever\n",
        "end = default_timer()\n",
        "print(f'elapsed time: {(end-start)/60} min')"
      ],
      "execution_count": 93,
      "outputs": [
        {
          "output_type": "stream",
          "text": [
            "elapsed time: 91.1644320107833 min\n"
          ],
          "name": "stdout"
        }
      ]
    },
    {
      "cell_type": "code",
      "metadata": {
        "id": "y0b0ysajmzWb",
        "colab_type": "code",
        "colab": {}
      },
      "source": [
        "with open('expand_convo_text_qtr_4.txt', \"w\") as text_file:\n",
        "    text_file.write(expand_convo_text_qtr_4)"
      ],
      "execution_count": 0,
      "outputs": []
    },
    {
      "cell_type": "markdown",
      "metadata": {
        "id": "aNutabiNBZBF",
        "colab_type": "text"
      },
      "source": [
        "## Concatenate all parts\n"
      ]
    },
    {
      "cell_type": "code",
      "metadata": {
        "id": "Lxmo-bhLBvre",
        "colab_type": "code",
        "colab": {
          "base_uri": "https://localhost:8080/",
          "height": 34
        },
        "outputId": "b281a986-76eb-4afd-b6fd-e0c76126b7f1"
      },
      "source": [
        "print(expand_convo_text_qtr_1[0:10])"
      ],
      "execution_count": 100,
      "outputs": [
        {
          "output_type": "stream",
          "text": [
            "['I would \n"
          ],
          "name": "stdout"
        }
      ]
    },
    {
      "cell_type": "code",
      "metadata": {
        "id": "R7KZJuFyB0He",
        "colab_type": "code",
        "colab": {}
      },
      "source": [
        "expand_convo_text_full = expand_convo_text_qtr_1 + expand_convo_text_qtr_2 + expand_convo_text_qtr_3 + expand_convo_text_qtr_4"
      ],
      "execution_count": 0,
      "outputs": []
    },
    {
      "cell_type": "code",
      "metadata": {
        "id": "fdhlW6WBCWWV",
        "colab_type": "code",
        "colab": {
          "base_uri": "https://localhost:8080/",
          "height": 34
        },
        "outputId": "751217e1-991d-4912-c249-f0d907fab130"
      },
      "source": [
        "len(expand_convo_text_full) # Expanded contractions"
      ],
      "execution_count": 102,
      "outputs": [
        {
          "output_type": "execute_result",
          "data": {
            "text/plain": [
              "1332551"
            ]
          },
          "metadata": {
            "tags": []
          },
          "execution_count": 102
        }
      ]
    },
    {
      "cell_type": "code",
      "metadata": {
        "id": "NQpnCcO6CZ8Q",
        "colab_type": "code",
        "colab": {
          "base_uri": "https://localhost:8080/",
          "height": 34
        },
        "outputId": "8f8269a9-f950-4d8e-9ae3-37ea7469caac"
      },
      "source": [
        "len(convo_text) # Original text"
      ],
      "execution_count": 103,
      "outputs": [
        {
          "output_type": "execute_result",
          "data": {
            "text/plain": [
              "1325261"
            ]
          },
          "metadata": {
            "tags": []
          },
          "execution_count": 103
        }
      ]
    },
    {
      "cell_type": "code",
      "metadata": {
        "id": "rwjaqxV-CfcA",
        "colab_type": "code",
        "colab": {}
      },
      "source": [
        "with open('expand_convo_text_full.txt', \"w\") as text_file:\n",
        "    text_file.write(expand_convo_text_full)"
      ],
      "execution_count": 0,
      "outputs": []
    },
    {
      "cell_type": "markdown",
      "metadata": {
        "id": "jsioCZQpCs8O",
        "colab_type": "text"
      },
      "source": [
        "Total time was approximately 5 hours to fully expand all contractions in text."
      ]
    }
  ]
}