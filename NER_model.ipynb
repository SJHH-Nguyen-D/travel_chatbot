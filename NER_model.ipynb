{
  "nbformat": 4,
  "nbformat_minor": 0,
  "metadata": {
    "colab": {
      "name": "NER_model.ipynb",
      "provenance": [],
      "collapsed_sections": [
        "5IlAyS8PPVov",
        "kdNT9auiRoKO",
        "WpQCZqm1u8Rp",
        "EFm2B4ef16DS"
      ],
      "mount_file_id": "1OYlG4YphGkIwLI0Nnqv9HIGc-UdKa7-v",
      "authorship_tag": "ABX9TyNkAB4RxzUfiXkirpWnAzpc"
    },
    "kernelspec": {
      "name": "python3",
      "display_name": "Python 3"
    },
    "accelerator": "TPU"
  },
  "cells": [
    {
      "cell_type": "code",
      "metadata": {
        "id": "ttHOzxT3LRCT",
        "colab_type": "code",
        "colab": {}
      },
      "source": [
        "# ! sudo apt install openjdk-8-jdk\n",
        "# ! sudo update-alternatives --set java /usr/lib/jvm/java-8-openjdk-amd64/jre/bin/java \n",
        "# ! pip install language-check -qq\n",
        "# ! pip install pycontractions -qq"
      ],
      "execution_count": 0,
      "outputs": []
    },
    {
      "cell_type": "code",
      "metadata": {
        "id": "rYilNPsPjxYn",
        "colab_type": "code",
        "colab": {}
      },
      "source": [
        "! pip install chatterbot \n",
        "! pip install chatterbot_corpus"
      ],
      "execution_count": 0,
      "outputs": []
    },
    {
      "cell_type": "code",
      "metadata": {
        "id": "j15dAlF_sKtB",
        "colab_type": "code",
        "colab": {}
      },
      "source": [
        "! pip install --upgrade chatterbot \n",
        "! pip install --upgrade chatterbot_corpus"
      ],
      "execution_count": 0,
      "outputs": []
    },
    {
      "cell_type": "code",
      "metadata": {
        "id": "krjAXNNE_pGo",
        "colab_type": "code",
        "colab": {}
      },
      "source": [
        "import warnings\n",
        "warnings.filterwarnings('ignore')\n",
        "\n",
        "# Import statements\n",
        "import pandas as pd\n",
        "import numpy as np\n",
        "import pprint as pp\n",
        "import json\n",
        "from pandas.io.json import json_normalize\n",
        "import re\n",
        "from timeit import default_timer\n",
        "\n",
        "# Preprocessing\n",
        "# from pycontractions import Contractions\n",
        "\n",
        "# Tokenization imports\n",
        "import nltk\n",
        "from nltk.tokenize import sent_tokenize\n",
        "from nltk.tokenize import word_tokenize\n",
        "\n",
        "# Puncuation & lower case\n",
        "import string #punctuation removal\n",
        "\n",
        "# Stop words\n",
        "from nltk.corpus import stopwords\n",
        "\n",
        "# Stemming\n",
        "from nltk.stem.snowball import SnowballStemmer\n",
        "\n",
        "# Lemmatizer\n",
        "from nltk.stem.wordnet import WordNetLemmatizer\n",
        "\n",
        "# POS tagging\n",
        "from nltk.corpus import wordnet\n",
        "\n",
        "# NER\n",
        "import nltk, nltk.tag, nltk.chunk \n",
        "import spacy\n",
        "import pprint as pprint\n",
        "from gensim.summarization import summarize \n",
        "from collections import Counter \n",
        "import en_core_web_sm # CNN gets loaded in, sees what words depends on each other, POS tagging, entity recognition \n",
        "from spacy import displacy # Visualize NER\n",
        "\n",
        "# Chatterbot\n",
        "from chatterbot import ChatBot\n",
        "from chatterbot.trainers import ListTrainer"
      ],
      "execution_count": 0,
      "outputs": []
    },
    {
      "cell_type": "markdown",
      "metadata": {
        "id": "CeAAajV7zKU_",
        "colab_type": "text"
      },
      "source": [
        "# Data Preprocessing"
      ]
    },
    {
      "cell_type": "code",
      "metadata": {
        "id": "ju63vJs-FRiR",
        "colab_type": "code",
        "colab": {}
      },
      "source": [
        "# This is testing with part 1 - 10% of data\n",
        "with open('/content/drive/My Drive/contraction_data_parts/expand_convo_text_1.txt', 'r') as file:\n",
        "    convo_all = file.read()"
      ],
      "execution_count": 0,
      "outputs": []
    },
    {
      "cell_type": "code",
      "metadata": {
        "id": "pen9_RKDsJtO",
        "colab_type": "code",
        "outputId": "9848684c-ba0a-4bd3-adaa-0407852d2f52",
        "colab": {
          "base_uri": "https://localhost:8080/",
          "height": 255
        }
      },
      "source": [
        "# Let's see the text data, seems messy \n",
        "# When we extracted conversations from the frames dataset, we split every statement with a new line and every conversations with *\n",
        "# Through the use of pycontractions, every new line (\\n) was added with an extra \\\n",
        "pp.pprint(convo_all[0:1000]) "
      ],
      "execution_count": 5,
      "outputs": [
        {
          "output_type": "stream",
          "text": [
            "('[\"I would like to book a trip to Atlantis from Caprica on Saturday, August '\n",
            " '13, 2016 for 8 adults. I have a tight budget of 1700.\\\\nHi...I checked a few '\n",
            " 'options for you, and unfortunately, we do not currently have any trips that '\n",
            " 'meet this criteria.  Would you like to book an alternate travel '\n",
            " 'option?\\\\nYes, how about going to Neverland from Caprica on August 13, 2016 '\n",
            " 'for 5 adults. For this trip, my budget would be 1900.\\\\nI checked the '\n",
            " 'availability for this date and there were no trips available.  Would you '\n",
            " 'like to select some alternate dates?\\\\nI have no flexibility for dates... '\n",
            " 'but I can leave from Atlantis rather than Caprica. How about that?\\\\nI '\n",
            " 'checked the availability for that date and there were no trips available.  '\n",
            " 'Would you like to select some alternate dates?\\\\nI suppose I will speak with '\n",
            " 'my husband to see if we can choose other dates, and then I will come back to '\n",
            " 'you.Thanks for your help\\\\n******************************************Hello, '\n",
            " 'I am looking to book a vacation from Gotham Ci')\n"
          ],
          "name": "stdout"
        }
      ]
    },
    {
      "cell_type": "code",
      "metadata": {
        "id": "eOJOPGk3Xrs6",
        "colab_type": "code",
        "colab": {}
      },
      "source": [
        "# Splits text data into separate lists for each conversation\n",
        "def text_to_convo(text):\n",
        "  list_convos = [convo.split('\\n') for convo in text.split('*') if text]         # Conversation delimited by *\n",
        "  list_convos = [convo for convo in list_convos if convo != ['']]                # Remove empty conversation\n",
        "  return list_convos"
      ],
      "execution_count": 0,
      "outputs": []
    },
    {
      "cell_type": "code",
      "metadata": {
        "id": "OrriLBqZoT7t",
        "colab_type": "code",
        "colab": {}
      },
      "source": [
        "# Splits all the statements from a conversation into their own string\n",
        "def convo_to_statement(list_convos):\n",
        "  sep_convos = []\n",
        "  for items in list_convos: \n",
        "    sep_convos.append([])                     # Creates list for each conversation\n",
        "    for item in items:\n",
        "      item = item.split('\\\\n')                # Splits conversations into statements \n",
        "      sep_convos[-1].append(item)             # Adds all statements to corresponding list\n",
        "  return sep_convos"
      ],
      "execution_count": 0,
      "outputs": []
    },
    {
      "cell_type": "code",
      "metadata": {
        "id": "Bg9ULJTA7WAr",
        "colab_type": "code",
        "colab": {}
      },
      "source": [
        "# Flattens the list as there is a list in another list\n",
        "# - Handles sentence tokenization, as all statements are separated into their own string in this list \n",
        "def flatten_list(sep_convos): \n",
        "  flat_list = []\n",
        "  for convo in sep_convos:\n",
        "    for sublist in convo:\n",
        "      for item in sublist:\n",
        "            flat_list.append(item)\n",
        "  return flat_list"
      ],
      "execution_count": 0,
      "outputs": []
    },
    {
      "cell_type": "markdown",
      "metadata": {
        "id": "yPj0T71h5Vl9",
        "colab_type": "text"
      },
      "source": [
        "## Tokenization"
      ]
    },
    {
      "cell_type": "code",
      "metadata": {
        "id": "2xYbWKne5bnM",
        "colab_type": "code",
        "outputId": "11742752-e0d5-49db-f476-0348e3d7a8d4",
        "colab": {
          "base_uri": "https://localhost:8080/",
          "height": 68
        }
      },
      "source": [
        "nltk.download('punkt') # Punkt sentence tokenizer"
      ],
      "execution_count": 50,
      "outputs": [
        {
          "output_type": "stream",
          "text": [
            "[nltk_data] Downloading package punkt to /root/nltk_data...\n",
            "[nltk_data]   Package punkt is already up-to-date!\n"
          ],
          "name": "stdout"
        },
        {
          "output_type": "execute_result",
          "data": {
            "text/plain": [
              "True"
            ]
          },
          "metadata": {
            "tags": []
          },
          "execution_count": 50
        }
      ]
    },
    {
      "cell_type": "code",
      "metadata": {
        "id": "-p3Imi6DLhFJ",
        "colab_type": "code",
        "colab": {}
      },
      "source": [
        "# Splits sentences into words \n",
        "def word_token(flat_list):\n",
        "  tokenized_words=[]\n",
        "  tokenized_words.extend(word for word in word_tokenize(str(flat_list))) # Extends list by appending elements from the iterable\n",
        "  return tokenized_words"
      ],
      "execution_count": 0,
      "outputs": []
    },
    {
      "cell_type": "markdown",
      "metadata": {
        "id": "L6F_mTQzFnSP",
        "colab_type": "text"
      },
      "source": [
        "## Punctuation & Lower Case"
      ]
    },
    {
      "cell_type": "code",
      "metadata": {
        "id": "x3PxB5H4Qzwj",
        "colab_type": "code",
        "outputId": "f5463e96-f0ca-4985-825b-220558cb0ac7",
        "colab": {
          "base_uri": "https://localhost:8080/",
          "height": 34
        }
      },
      "source": [
        "string.punctuation"
      ],
      "execution_count": 69,
      "outputs": [
        {
          "output_type": "execute_result",
          "data": {
            "text/plain": [
              "'!\"#$%&\\'()*+,-./:;<=>?@[\\\\]^_`{|}~'"
            ]
          },
          "metadata": {
            "tags": []
          },
          "execution_count": 69
        }
      ]
    },
    {
      "cell_type": "code",
      "metadata": {
        "id": "h_CPUNqFTrOT",
        "colab_type": "code",
        "colab": {}
      },
      "source": [
        "def punc_removal(tokenized_words):\n",
        "  translator = str.maketrans('', '', string.punctuation) \n",
        "  no_punct = [word.translate(translator) for word in tokenized_words]\n",
        "  no_punct = [word for word in no_punct if word != '']   \n",
        "  return no_punct             # Remove empty strings"
      ],
      "execution_count": 0,
      "outputs": []
    },
    {
      "cell_type": "code",
      "metadata": {
        "id": "NWB3vDWsRt16",
        "colab_type": "code",
        "colab": {}
      },
      "source": [
        "# Main code to run with functions\n",
        "list_of_convo = text_to_convo(convo_all)\n",
        "list_of_statement = convo_to_statement(list_of_convo)\n",
        "flat_convo = flatten_list(list_of_statement)\n",
        "list_of_word = word_token(flat_convos)\n",
        "no_punct_words = punc_removal(list_of_word)"
      ],
      "execution_count": 0,
      "outputs": []
    },
    {
      "cell_type": "code",
      "metadata": {
        "id": "ps0VUaHxcTYt",
        "colab_type": "code",
        "colab": {
          "base_uri": "https://localhost:8080/",
          "height": 1000
        },
        "outputId": "65dea6f4-a319-4e82-e8a4-d40d4d114ffe"
      },
      "source": [
        "no_punct_words"
      ],
      "execution_count": 106,
      "outputs": [
        {
          "output_type": "execute_result",
          "data": {
            "text/plain": [
              "['I',\n",
              " 'would',\n",
              " 'like',\n",
              " 'to',\n",
              " 'book',\n",
              " 'a',\n",
              " 'trip',\n",
              " 'to',\n",
              " 'Atlantis',\n",
              " 'from',\n",
              " 'Caprica',\n",
              " 'on',\n",
              " 'Saturday',\n",
              " 'August',\n",
              " '13',\n",
              " '2016',\n",
              " 'for',\n",
              " '8',\n",
              " 'adults',\n",
              " 'I',\n",
              " 'have',\n",
              " 'a',\n",
              " 'tight',\n",
              " 'budget',\n",
              " 'of',\n",
              " '1700',\n",
              " 'Hi',\n",
              " 'I',\n",
              " 'checked',\n",
              " 'a',\n",
              " 'few',\n",
              " 'options',\n",
              " 'for',\n",
              " 'you',\n",
              " 'and',\n",
              " 'unfortunately',\n",
              " 'we',\n",
              " 'do',\n",
              " 'not',\n",
              " 'currently',\n",
              " 'have',\n",
              " 'any',\n",
              " 'trips',\n",
              " 'that',\n",
              " 'meet',\n",
              " 'this',\n",
              " 'criteria',\n",
              " 'Would',\n",
              " 'you',\n",
              " 'like',\n",
              " 'to',\n",
              " 'book',\n",
              " 'an',\n",
              " 'alternate',\n",
              " 'travel',\n",
              " 'option',\n",
              " 'Yes',\n",
              " 'how',\n",
              " 'about',\n",
              " 'going',\n",
              " 'to',\n",
              " 'Neverland',\n",
              " 'from',\n",
              " 'Caprica',\n",
              " 'on',\n",
              " 'August',\n",
              " '13',\n",
              " '2016',\n",
              " 'for',\n",
              " '5',\n",
              " 'adults',\n",
              " 'For',\n",
              " 'this',\n",
              " 'trip',\n",
              " 'my',\n",
              " 'budget',\n",
              " 'would',\n",
              " 'be',\n",
              " '1900',\n",
              " 'I',\n",
              " 'checked',\n",
              " 'the',\n",
              " 'availability',\n",
              " 'for',\n",
              " 'this',\n",
              " 'date',\n",
              " 'and',\n",
              " 'there',\n",
              " 'were',\n",
              " 'no',\n",
              " 'trips',\n",
              " 'available',\n",
              " 'Would',\n",
              " 'you',\n",
              " 'like',\n",
              " 'to',\n",
              " 'select',\n",
              " 'some',\n",
              " 'alternate',\n",
              " 'dates',\n",
              " 'I',\n",
              " 'have',\n",
              " 'no',\n",
              " 'flexibility',\n",
              " 'for',\n",
              " 'dates',\n",
              " 'but',\n",
              " 'I',\n",
              " 'can',\n",
              " 'leave',\n",
              " 'from',\n",
              " 'Atlantis',\n",
              " 'rather',\n",
              " 'than',\n",
              " 'Caprica',\n",
              " 'How',\n",
              " 'about',\n",
              " 'that',\n",
              " 'I',\n",
              " 'checked',\n",
              " 'the',\n",
              " 'availability',\n",
              " 'for',\n",
              " 'that',\n",
              " 'date',\n",
              " 'and',\n",
              " 'there',\n",
              " 'were',\n",
              " 'no',\n",
              " 'trips',\n",
              " 'available',\n",
              " 'Would',\n",
              " 'you',\n",
              " 'like',\n",
              " 'to',\n",
              " 'select',\n",
              " 'some',\n",
              " 'alternate',\n",
              " 'dates',\n",
              " 'I',\n",
              " 'suppose',\n",
              " 'I',\n",
              " 'will',\n",
              " 'speak',\n",
              " 'with',\n",
              " 'my',\n",
              " 'husband',\n",
              " 'to',\n",
              " 'see',\n",
              " 'if',\n",
              " 'we',\n",
              " 'can',\n",
              " 'choose',\n",
              " 'other',\n",
              " 'dates',\n",
              " 'and',\n",
              " 'then',\n",
              " 'I',\n",
              " 'will',\n",
              " 'come',\n",
              " 'back',\n",
              " 'to',\n",
              " 'youThanks',\n",
              " 'for',\n",
              " 'your',\n",
              " 'help',\n",
              " 'Hello',\n",
              " 'I',\n",
              " 'am',\n",
              " 'looking',\n",
              " 'to',\n",
              " 'book',\n",
              " 'a',\n",
              " 'vacation',\n",
              " 'from',\n",
              " 'Gotham',\n",
              " 'City',\n",
              " 'to',\n",
              " 'Mos',\n",
              " 'Eisley',\n",
              " 'for',\n",
              " '2100',\n",
              " 'Hi',\n",
              " 'Sorry',\n",
              " 'I',\n",
              " 'can',\n",
              " 'not',\n",
              " 'find',\n",
              " 'any',\n",
              " 'trips',\n",
              " 'from',\n",
              " 'Gotham',\n",
              " 'City',\n",
              " 'to',\n",
              " 'Mos',\n",
              " 'Eisley',\n",
              " 'for',\n",
              " 'you',\n",
              " 'What',\n",
              " 'about',\n",
              " 'a',\n",
              " 'trip',\n",
              " 'from',\n",
              " 'Gotham',\n",
              " 'City',\n",
              " 'to',\n",
              " 'Neverland',\n",
              " 'for',\n",
              " 'the',\n",
              " 'same',\n",
              " 'budget',\n",
              " 'Sorry',\n",
              " 'I',\n",
              " 'can',\n",
              " 'not',\n",
              " 'find',\n",
              " 'any',\n",
              " 'trips',\n",
              " 'leaving',\n",
              " 'from',\n",
              " 'Gotham',\n",
              " 'City',\n",
              " 'Could',\n",
              " 'you',\n",
              " 'suggest',\n",
              " 'another',\n",
              " 'nearby',\n",
              " 'departure',\n",
              " 'city',\n",
              " 'Would',\n",
              " 'any',\n",
              " 'packages',\n",
              " 'to',\n",
              " 'Mos',\n",
              " 'Eisley',\n",
              " 'be',\n",
              " 'available',\n",
              " 'if',\n",
              " 'I',\n",
              " 'increase',\n",
              " 'my',\n",
              " 'budget',\n",
              " 'to',\n",
              " '2500',\n",
              " 'There',\n",
              " 'are',\n",
              " 'no',\n",
              " 'trips',\n",
              " 'available',\n",
              " 'to',\n",
              " 'Mos',\n",
              " 'Eisley',\n",
              " 'You',\n",
              " 'know',\n",
              " 'what',\n",
              " 'I',\n",
              " 'would',\n",
              " 'like',\n",
              " 'to',\n",
              " 'try',\n",
              " 'and',\n",
              " 'visit',\n",
              " 'Neverland',\n",
              " 'I',\n",
              " 'can',\n",
              " 'not',\n",
              " 'find',\n",
              " 'any',\n",
              " 'trips',\n",
              " 'available',\n",
              " 'to',\n",
              " 'Neverland',\n",
              " 'Do',\n",
              " 'you',\n",
              " 'have',\n",
              " 'any',\n",
              " 'trips',\n",
              " 'from',\n",
              " 'Gotham',\n",
              " 'City',\n",
              " 'to',\n",
              " 'Kobe',\n",
              " 'for',\n",
              " 'my',\n",
              " 'original',\n",
              " 'budget',\n",
              " 'of',\n",
              " '2100',\n",
              " 'I',\n",
              " 'can',\n",
              " 'book',\n",
              " 'you',\n",
              " 'a',\n",
              " '3',\n",
              " 'day',\n",
              " 'trip',\n",
              " 'to',\n",
              " 'Kobe',\n",
              " 'leaving',\n",
              " 'from',\n",
              " 'Sapporo',\n",
              " 'Japan',\n",
              " 'Is',\n",
              " 'this',\n",
              " 'ok',\n",
              " 'No',\n",
              " 'that',\n",
              " 'is',\n",
              " 'too',\n",
              " 'far',\n",
              " 'for',\n",
              " 'me',\n",
              " 'I',\n",
              " 'need',\n",
              " 'a',\n",
              " 'flight',\n",
              " 'that',\n",
              " 'leaves',\n",
              " 'from',\n",
              " 'Birmingham',\n",
              " 'I',\n",
              " 'can',\n",
              " 'book',\n",
              " 'you',\n",
              " 'a',\n",
              " 'trip',\n",
              " 'from',\n",
              " 'Birmingham',\n",
              " 'to',\n",
              " 'Kobe',\n",
              " 'for',\n",
              " '27478',\n",
              " 'USD',\n",
              " 'How',\n",
              " 'many',\n",
              " 'days',\n",
              " 'would',\n",
              " 'I',\n",
              " 'be',\n",
              " 'in',\n",
              " 'Kobe',\n",
              " 'You',\n",
              " 'would',\n",
              " 'arrive',\n",
              " 'in',\n",
              " 'Kobe',\n",
              " 'August',\n",
              " '17th',\n",
              " 'and',\n",
              " 'return',\n",
              " 'to',\n",
              " 'Birmingham',\n",
              " 'on',\n",
              " 'August',\n",
              " '22nd',\n",
              " 'What',\n",
              " 'would',\n",
              " 'the',\n",
              " 'price',\n",
              " 'be',\n",
              " 'if',\n",
              " 'I',\n",
              " 'shortened',\n",
              " 'my',\n",
              " 'trip',\n",
              " 'by',\n",
              " 'one',\n",
              " 'day',\n",
              " 'I',\n",
              " 'can',\n",
              " 'not',\n",
              " 'find',\n",
              " 'any',\n",
              " 'trips',\n",
              " 'from',\n",
              " 'Birmingham',\n",
              " 'to',\n",
              " 'Kobe',\n",
              " 'for',\n",
              " '4',\n",
              " 'days',\n",
              " 'Ok',\n",
              " 'then',\n",
              " 'I',\n",
              " 'would',\n",
              " 'like',\n",
              " 'to',\n",
              " 'purchase',\n",
              " 'this',\n",
              " 'package',\n",
              " 'What',\n",
              " 'activities',\n",
              " 'are',\n",
              " 'included',\n",
              " 'in',\n",
              " 'this',\n",
              " 'package',\n",
              " 'There',\n",
              " 'are',\n",
              " 'no',\n",
              " 'activities',\n",
              " 'listed',\n",
              " 'for',\n",
              " 'this',\n",
              " 'package',\n",
              " 'You',\n",
              " 'will',\n",
              " 'be',\n",
              " 'staying',\n",
              " 'at',\n",
              " 'the',\n",
              " 'Ivory',\n",
              " 'Legacy',\n",
              " 'Hotel',\n",
              " 'for',\n",
              " '7',\n",
              " 'days',\n",
              " 'This',\n",
              " 'hotel',\n",
              " 'has',\n",
              " 'a',\n",
              " '45',\n",
              " 'star',\n",
              " 'rating',\n",
              " 'and',\n",
              " 'free',\n",
              " 'wifi',\n",
              " 'Will',\n",
              " 'I',\n",
              " 'go',\n",
              " 'ahead',\n",
              " 'and',\n",
              " 'book',\n",
              " 'this',\n",
              " 'package',\n",
              " 'Yes',\n",
              " 'I',\n",
              " 'would',\n",
              " 'like',\n",
              " 'to',\n",
              " 'book',\n",
              " 'this',\n",
              " 'package',\n",
              " 'Great',\n",
              " 'Your',\n",
              " 'flight',\n",
              " 'departs',\n",
              " 'from',\n",
              " 'Birmingham',\n",
              " 'at',\n",
              " '900',\n",
              " 'am',\n",
              " 'Wednesday',\n",
              " 'August',\n",
              " '17th',\n",
              " '2016',\n",
              " 'Enjoy',\n",
              " 'your',\n",
              " 'trip',\n",
              " 'I',\n",
              " 'have',\n",
              " 'booked',\n",
              " 'this',\n",
              " 'package',\n",
              " 'for',\n",
              " 'you',\n",
              " 'Hello',\n",
              " 'there',\n",
              " 'i',\n",
              " 'am',\n",
              " 'looking',\n",
              " 'to',\n",
              " 'go',\n",
              " 'on',\n",
              " 'a',\n",
              " 'vacation',\n",
              " 'with',\n",
              " 'my',\n",
              " 'family',\n",
              " 'to',\n",
              " 'Gotham',\n",
              " 'City',\n",
              " 'can',\n",
              " 'you',\n",
              " 'help',\n",
              " 'me',\n",
              " 'when',\n",
              " 'would',\n",
              " 'you',\n",
              " 'like',\n",
              " 'to',\n",
              " 'travel',\n",
              " 'and',\n",
              " 'how',\n",
              " 'many',\n",
              " 'people',\n",
              " 'will',\n",
              " 'you',\n",
              " 'be',\n",
              " 'Not',\n",
              " 'sure',\n",
              " 'when',\n",
              " 'we',\n",
              " 'want',\n",
              " 'to',\n",
              " 'leave',\n",
              " 'but',\n",
              " 'we',\n",
              " 'are',\n",
              " '12',\n",
              " 'kids',\n",
              " 'and',\n",
              " '5',\n",
              " 'adults',\n",
              " 'do',\n",
              " 'you',\n",
              " 'have',\n",
              " 'a',\n",
              " 'budget',\n",
              " 'yes',\n",
              " 'i',\n",
              " 'do',\n",
              " 'it',\n",
              " 'is',\n",
              " 'around',\n",
              " '2200',\n",
              " 'where',\n",
              " 'will',\n",
              " 'you',\n",
              " 'be',\n",
              " 'travelling',\n",
              " 'from',\n",
              " 'We',\n",
              " 'are',\n",
              " 'from',\n",
              " 'Neverland',\n",
              " 'We',\n",
              " 'have',\n",
              " 'nothing',\n",
              " 'available',\n",
              " 'leaving',\n",
              " 'from',\n",
              " 'Neverland',\n",
              " 'are',\n",
              " 'you',\n",
              " 'able',\n",
              " 'to',\n",
              " 'depart',\n",
              " 'from',\n",
              " 'another',\n",
              " 'city',\n",
              " 'we',\n",
              " 'can',\n",
              " 'depart',\n",
              " 'from',\n",
              " 'Toronto',\n",
              " 'Gotham',\n",
              " 'City',\n",
              " 'is',\n",
              " 'not',\n",
              " 'a',\n",
              " 'destination',\n",
              " 'we',\n",
              " 'travel',\n",
              " 'to',\n",
              " 'Are',\n",
              " 'you',\n",
              " 'interested',\n",
              " 'in',\n",
              " 'any',\n",
              " 'other',\n",
              " 'destinations',\n",
              " 'hmm',\n",
              " 'what',\n",
              " 'options',\n",
              " 'would',\n",
              " 'i',\n",
              " 'have',\n",
              " 'out',\n",
              " 'of',\n",
              " 'Toronto',\n",
              " 'Would',\n",
              " 'you',\n",
              " 'be',\n",
              " 'interested',\n",
              " 'in',\n",
              " 'Calgary',\n",
              " 'that',\n",
              " 'would',\n",
              " 'be',\n",
              " 'nice',\n",
              " 'I',\n",
              " 'have',\n",
              " 'a',\n",
              " 'departure',\n",
              " 'from',\n",
              " 'Toronto',\n",
              " 'to',\n",
              " 'Calgary',\n",
              " 'on',\n",
              " 'August',\n",
              " '17',\n",
              " 'returning',\n",
              " 'on',\n",
              " 'August',\n",
              " '24',\n",
              " 'Does',\n",
              " 'that',\n",
              " 'work',\n",
              " 'for',\n",
              " 'you',\n",
              " 'No',\n",
              " 'sorry',\n",
              " 'i',\n",
              " 'was',\n",
              " 'planning',\n",
              " 'on',\n",
              " 'getting',\n",
              " 'a',\n",
              " 'tan',\n",
              " 'this',\n",
              " 'vacation',\n",
              " 'Thanks',\n",
              " 'is',\n",
              " 'there',\n",
              " 'anywhere',\n",
              " 'else',\n",
              " 'Thank',\n",
              " 'you',\n",
              " 'is',\n",
              " 'there',\n",
              " 'anywhere',\n",
              " 'else',\n",
              " 'How',\n",
              " 'about',\n",
              " 'a',\n",
              " 'trip',\n",
              " 'to',\n",
              " 'Dominican',\n",
              " 'Republic',\n",
              " 'it',\n",
              " 'is',\n",
              " 'quite',\n",
              " 'cheap',\n",
              " 'at',\n",
              " 'this',\n",
              " 'time',\n",
              " 'of',\n",
              " 'year',\n",
              " 'What',\n",
              " 'options',\n",
              " 'do',\n",
              " 'you',\n",
              " 'have',\n",
              " 'available',\n",
              " 'for',\n",
              " 'me',\n",
              " 'I',\n",
              " 'have',\n",
              " 'the',\n",
              " 'el',\n",
              " 'Mar',\n",
              " 'hotel',\n",
              " 'available',\n",
              " 'in',\n",
              " 'Punta',\n",
              " 'Cana',\n",
              " 'this',\n",
              " 'week',\n",
              " 'That',\n",
              " 'sounds',\n",
              " 'interesting',\n",
              " 'how',\n",
              " 'many',\n",
              " 'stars',\n",
              " 'does',\n",
              " 'the',\n",
              " 'hotel',\n",
              " 'have',\n",
              " '25',\n",
              " 'stars',\n",
              " 'You',\n",
              " 'would',\n",
              " 'have',\n",
              " 'to',\n",
              " 'fly',\n",
              " 'out',\n",
              " 'of',\n",
              " 'Melbourne',\n",
              " 'though',\n",
              " 'Ahh',\n",
              " 'maybe',\n",
              " 'another',\n",
              " 'time',\n",
              " 'Hi',\n",
              " 'I',\n",
              " 'would',\n",
              " 'like',\n",
              " 'to',\n",
              " 'go',\n",
              " 'to',\n",
              " 'Caprica',\n",
              " 'from',\n",
              " 'Busan',\n",
              " 'between',\n",
              " 'Sunday',\n",
              " 'August',\n",
              " '21',\n",
              " '2016',\n",
              " 'and',\n",
              " 'Wednesday',\n",
              " 'August',\n",
              " '31',\n",
              " '2016',\n",
              " 'And',\n",
              " 'what',\n",
              " 'would',\n",
              " 'be',\n",
              " 'your',\n",
              " 'maximum',\n",
              " 'budget',\n",
              " 'for',\n",
              " 'this',\n",
              " 'trip',\n",
              " 'Actually',\n",
              " 'it',\n",
              " 'is',\n",
              " 'unlimited',\n",
              " 'for',\n",
              " 'this',\n",
              " 'trip',\n",
              " 'How',\n",
              " 'many',\n",
              " 'adults',\n",
              " 'and',\n",
              " 'how',\n",
              " 'many',\n",
              " 'children',\n",
              " 'will',\n",
              " 'be',\n",
              " 'making',\n",
              " 'this',\n",
              " 'trip',\n",
              " '2',\n",
              " 'adults',\n",
              " 'I',\n",
              " 'have',\n",
              " 'no',\n",
              " 'trips',\n",
              " 'to',\n",
              " 'Caprica',\n",
              " 'from',\n",
              " 'Busan',\n",
              " 'I',\n",
              " 'do',\n",
              " 'have',\n",
              " 'a',\n",
              " 'trip',\n",
              " 'to',\n",
              " 'Mannheim',\n",
              " 'Germany',\n",
              " 'one',\n",
              " 'to',\n",
              " 'Kingston',\n",
              " 'Canada',\n",
              " 'and',\n",
              " 'another',\n",
              " 'to',\n",
              " 'Toronto',\n",
              " 'Canada',\n",
              " 'Would',\n",
              " 'you',\n",
              " 'like',\n",
              " 'to',\n",
              " 'select',\n",
              " 'alternate',\n",
              " 'dates',\n",
              " 'or',\n",
              " 'an',\n",
              " 'alternate',\n",
              " 'travel',\n",
              " 'destination',\n",
              " 'Do',\n",
              " 'you',\n",
              " 'have',\n",
              " 'anything',\n",
              " 'for',\n",
              " 'San',\n",
              " 'Antonio',\n",
              " 'as',\n",
              " 'a',\n",
              " 'destination',\n",
              " 'Yes',\n",
              " 'I',\n",
              " 'do',\n",
              " 'I',\n",
              " 'have',\n",
              " 'one',\n",
              " 'for',\n",
              " '844537',\n",
              " 'USD',\n",
              " 'Would',\n",
              " 'you',\n",
              " 'like',\n",
              " 'to',\n",
              " 'book',\n",
              " 'this',\n",
              " 'package',\n",
              " 'The',\n",
              " 'guest',\n",
              " 'rating',\n",
              " 'is',\n",
              " '71510',\n",
              " 'and',\n",
              " 'there',\n",
              " 'is',\n",
              " 'free',\n",
              " 'parking',\n",
              " 'and',\n",
              " 'free',\n",
              " 'wifi',\n",
              " 'Leaving',\n",
              " 'Sunday',\n",
              " 'August',\n",
              " '21st',\n",
              " 'at',\n",
              " '1100',\n",
              " 'am',\n",
              " 'and',\n",
              " 'returning',\n",
              " 'Sunday',\n",
              " 'August',\n",
              " '28th',\n",
              " 'at',\n",
              " '100',\n",
              " 'am',\n",
              " 'Is',\n",
              " 'breakfast',\n",
              " 'included',\n",
              " 'Yes',\n",
              " 'it',\n",
              " 'is',\n",
              " 'That',\n",
              " 'sounds',\n",
              " 'great',\n",
              " '100',\n",
              " 'am',\n",
              " 'return',\n",
              " 'on',\n",
              " 'Sunday',\n",
              " 'August',\n",
              " '28th',\n",
              " 'is',\n",
              " 'very',\n",
              " 'early',\n",
              " 'in',\n",
              " 'the',\n",
              " 'morning',\n",
              " 'Would',\n",
              " 'you',\n",
              " 'like',\n",
              " 'to',\n",
              " 'book',\n",
              " 'this',\n",
              " 'package',\n",
              " 'Yes',\n",
              " 'I',\n",
              " 'would',\n",
              " 'Thanks',\n",
              " 'for',\n",
              " 'your',\n",
              " 'help',\n",
              " 'Hello',\n",
              " 'I',\n",
              " 'am',\n",
              " 'looking',\n",
              " 'to',\n",
              " 'book',\n",
              " 'a',\n",
              " 'trip',\n",
              " 'for',\n",
              " '2',\n",
              " 'adults',\n",
              " 'and',\n",
              " '6',\n",
              " 'children',\n",
              " 'for',\n",
              " '21300',\n",
              " 'or',\n",
              " 'less',\n",
              " 'We',\n",
              " 'are',\n",
              " 'departing',\n",
              " 'from',\n",
              " 'Kochi',\n",
              " 'for',\n",
              " 'Denver',\n",
              " 'I',\n",
              " 'have',\n",
              " 'several',\n",
              " 'options',\n",
              " 'available',\n",
              " 'within',\n",
              " 'your',\n",
              " 'budget',\n",
              " 'How',\n",
              " 'long',\n",
              " 'would',\n",
              " 'you',\n",
              " 'like',\n",
              " 'to',\n",
              " 'travel',\n",
              " 'for',\n",
              " 'And',\n",
              " 'do',\n",
              " 'you',\n",
              " 'have',\n",
              " 'dates',\n",
              " 'in',\n",
              " 'mind',\n",
              " 'I',\n",
              " 'do',\n",
              " 'not',\n",
              " 'have',\n",
              " 'any',\n",
              " 'dates',\n",
              " 'in',\n",
              " 'mind',\n",
              " 'I',\n",
              " 'would',\n",
              " 'like',\n",
              " 'to',\n",
              " 'spend',\n",
              " 'as',\n",
              " 'much',\n",
              " 'time',\n",
              " 'in',\n",
              " 'Denver',\n",
              " 'as',\n",
              " 'my',\n",
              " 'budget',\n",
              " 'will',\n",
              " 'allow',\n",
              " 'I',\n",
              " 'can',\n",
              " 'book',\n",
              " '7',\n",
              " 'days',\n",
              " 'at',\n",
              " 'a',\n",
              " '40',\n",
              " 'star',\n",
              " 'hotel',\n",
              " 'for',\n",
              " '1902893USD',\n",
              " 'I',\n",
              " 'can',\n",
              " 'also',\n",
              " 'book',\n",
              " '7',\n",
              " 'days',\n",
              " 'at',\n",
              " 'a',\n",
              " '30',\n",
              " 'star',\n",
              " 'hotel',\n",
              " 'for',\n",
              " '1282484USD',\n",
              " 'Do',\n",
              " 'these',\n",
              " 'packages',\n",
              " 'have',\n",
              " 'different',\n",
              " 'departure',\n",
              " 'dates',\n",
              " 'When',\n",
              " 'would',\n",
              " 'I',\n",
              " 'be',\n",
              " 'leaving',\n",
              " 'for',\n",
              " 'each',\n",
              " 'of',\n",
              " 'them',\n",
              " 'The',\n",
              " '30',\n",
              " 'star',\n",
              " 'trip',\n",
              " 'leaves',\n",
              " 'Kochi',\n",
              " 'August',\n",
              " '26',\n",
              " 'and',\n",
              " 'returns',\n",
              " 'August',\n",
              " '31',\n",
              " 'The',\n",
              " '40',\n",
              " 'star',\n",
              " 'leaves',\n",
              " ...]"
            ]
          },
          "metadata": {
            "tags": []
          },
          "execution_count": 106
        }
      ]
    },
    {
      "cell_type": "code",
      "metadata": {
        "id": "kN_v90X9OLCG",
        "colab_type": "code",
        "colab": {}
      },
      "source": [
        "no_punct = [word.strip('\\'') for word in no_punct] # Pesky ' attatched to word\n",
        "no_punct = [word.replace('.',' ') for word in no_punct] # Pesky . attatched to word"
      ],
      "execution_count": 0,
      "outputs": []
    },
    {
      "cell_type": "code",
      "metadata": {
        "id": "4ofBua-nGuYE",
        "colab_type": "code",
        "outputId": "64c836fc-8b7b-42b2-d044-71b6ae9410dc",
        "colab": {
          "base_uri": "https://localhost:8080/",
          "height": 34
        }
      },
      "source": [
        "# Lowercase text\n",
        "data_lower = [word.lower() for word in no_punct]\n",
        "print(data_lower[-10:])"
      ],
      "execution_count": 0,
      "outputs": [
        {
          "output_type": "stream",
          "text": [
            "['i', 'will', 'come', 'back', 'to', 'you thanks', 'for', 'your', 'help', '']\n"
          ],
          "name": "stdout"
        }
      ]
    },
    {
      "cell_type": "markdown",
      "metadata": {
        "id": "DvNQtNPVG49I",
        "colab_type": "text"
      },
      "source": [
        "## Stop Words"
      ]
    },
    {
      "cell_type": "code",
      "metadata": {
        "id": "MgIaa9qiIuFP",
        "colab_type": "code",
        "outputId": "f54dd68b-cba3-4461-9a5b-1107f8e51155",
        "colab": {
          "base_uri": "https://localhost:8080/",
          "height": 68
        }
      },
      "source": [
        "nltk.download('stopwords')"
      ],
      "execution_count": 0,
      "outputs": [
        {
          "output_type": "stream",
          "text": [
            "[nltk_data] Downloading package stopwords to /root/nltk_data...\n",
            "[nltk_data]   Package stopwords is already up-to-date!\n"
          ],
          "name": "stdout"
        },
        {
          "output_type": "execute_result",
          "data": {
            "text/plain": [
              "True"
            ]
          },
          "metadata": {
            "tags": []
          },
          "execution_count": 75
        }
      ]
    },
    {
      "cell_type": "code",
      "metadata": {
        "id": "MJUMTOcTIxZd",
        "colab_type": "code",
        "outputId": "49504190-f537-465a-8f42-a94c6a0aa234",
        "colab": {
          "base_uri": "https://localhost:8080/",
          "height": 54
        }
      },
      "source": [
        "stop_words = stopwords.words('english')\n",
        "add_stop_words = ['would','could']\n",
        "stop_words += add_stop_words\n",
        "print(stop_words)"
      ],
      "execution_count": 0,
      "outputs": [
        {
          "output_type": "stream",
          "text": [
            "['i', 'me', 'my', 'myself', 'we', 'our', 'ours', 'ourselves', 'you', \"you're\", \"you've\", \"you'll\", \"you'd\", 'your', 'yours', 'yourself', 'yourselves', 'he', 'him', 'his', 'himself', 'she', \"she's\", 'her', 'hers', 'herself', 'it', \"it's\", 'its', 'itself', 'they', 'them', 'their', 'theirs', 'themselves', 'what', 'which', 'who', 'whom', 'this', 'that', \"that'll\", 'these', 'those', 'am', 'is', 'are', 'was', 'were', 'be', 'been', 'being', 'have', 'has', 'had', 'having', 'do', 'does', 'did', 'doing', 'a', 'an', 'the', 'and', 'but', 'if', 'or', 'because', 'as', 'until', 'while', 'of', 'at', 'by', 'for', 'with', 'about', 'against', 'between', 'into', 'through', 'during', 'before', 'after', 'above', 'below', 'to', 'from', 'up', 'down', 'in', 'out', 'on', 'off', 'over', 'under', 'again', 'further', 'then', 'once', 'here', 'there', 'when', 'where', 'why', 'how', 'all', 'any', 'both', 'each', 'few', 'more', 'most', 'other', 'some', 'such', 'no', 'nor', 'not', 'only', 'own', 'same', 'so', 'than', 'too', 'very', 's', 't', 'can', 'will', 'just', 'don', \"don't\", 'should', \"should've\", 'now', 'd', 'll', 'm', 'o', 're', 've', 'y', 'ain', 'aren', \"aren't\", 'couldn', \"couldn't\", 'didn', \"didn't\", 'doesn', \"doesn't\", 'hadn', \"hadn't\", 'hasn', \"hasn't\", 'haven', \"haven't\", 'isn', \"isn't\", 'ma', 'mightn', \"mightn't\", 'mustn', \"mustn't\", 'needn', \"needn't\", 'shan', \"shan't\", 'shouldn', \"shouldn't\", 'wasn', \"wasn't\", 'weren', \"weren't\", 'won', \"won't\", 'wouldn', \"wouldn't\", 'would', 'could']\n"
          ],
          "name": "stdout"
        }
      ]
    },
    {
      "cell_type": "code",
      "metadata": {
        "id": "K6gxeqbRIfQs",
        "colab_type": "code",
        "colab": {}
      },
      "source": [
        "filtered_word = []\n",
        "for word in data_lower:\n",
        "  if word not in stop_words:\n",
        "    filtered_word.append(word)"
      ],
      "execution_count": 0,
      "outputs": []
    },
    {
      "cell_type": "code",
      "metadata": {
        "id": "bcosHlzldnYF",
        "colab_type": "code",
        "outputId": "a1abb6d9-2aa2-42af-805d-2e4c67e19858",
        "colab": {
          "base_uri": "https://localhost:8080/",
          "height": 1000
        }
      },
      "source": [
        "filtered_word"
      ],
      "execution_count": 0,
      "outputs": [
        {
          "output_type": "execute_result",
          "data": {
            "text/plain": [
              "['like',\n",
              " 'book',\n",
              " 'trip',\n",
              " 'atlantis',\n",
              " 'caprica',\n",
              " 'saturday',\n",
              " 'august',\n",
              " '13',\n",
              " '2016',\n",
              " '8',\n",
              " 'adults',\n",
              " 'tight',\n",
              " 'budget',\n",
              " '1700',\n",
              " 'hi',\n",
              " 'checked',\n",
              " 'options',\n",
              " 'unfortunately',\n",
              " 'currently',\n",
              " 'trips',\n",
              " 'meet',\n",
              " 'criteria',\n",
              " 'like',\n",
              " 'book',\n",
              " 'alternate',\n",
              " 'travel',\n",
              " 'option',\n",
              " 'yes',\n",
              " 'going',\n",
              " 'neverland',\n",
              " 'caprica',\n",
              " 'august',\n",
              " '13',\n",
              " '2016',\n",
              " '5',\n",
              " 'adults',\n",
              " 'trip',\n",
              " 'budget',\n",
              " '1900',\n",
              " 'checked',\n",
              " 'availability',\n",
              " 'date',\n",
              " 'trips',\n",
              " 'available',\n",
              " 'like',\n",
              " 'select',\n",
              " 'alternate',\n",
              " 'dates',\n",
              " 'flexibility',\n",
              " 'dates',\n",
              " 'leave',\n",
              " 'atlantis',\n",
              " 'rather',\n",
              " 'caprica',\n",
              " 'checked',\n",
              " 'availability',\n",
              " 'date',\n",
              " 'trips',\n",
              " 'available',\n",
              " 'like',\n",
              " 'select',\n",
              " 'alternate',\n",
              " 'dates',\n",
              " 'suppose',\n",
              " 'speak',\n",
              " 'husband',\n",
              " 'see',\n",
              " 'choose',\n",
              " 'dates',\n",
              " 'come',\n",
              " 'back',\n",
              " 'you thanks',\n",
              " 'help',\n",
              " '']"
            ]
          },
          "metadata": {
            "tags": []
          },
          "execution_count": 90
        }
      ]
    },
    {
      "cell_type": "markdown",
      "metadata": {
        "id": "5IlAyS8PPVov",
        "colab_type": "text"
      },
      "source": [
        "### Emoji removal"
      ]
    },
    {
      "cell_type": "code",
      "metadata": {
        "id": "GslwOGSgOgIa",
        "colab_type": "code",
        "colab": {}
      },
      "source": [
        "for word in filtered_word[:]:       #makes a copy of the list words and then iterates over that copy. Then, modifies the original list.\n",
        "    if word.endswith('_face'): \n",
        "        filtered_word.remove(word) "
      ],
      "execution_count": 0,
      "outputs": []
    },
    {
      "cell_type": "markdown",
      "metadata": {
        "id": "kdNT9auiRoKO",
        "colab_type": "text"
      },
      "source": [
        "## Stemming"
      ]
    },
    {
      "cell_type": "code",
      "metadata": {
        "id": "hJet3LjsJAjr",
        "colab_type": "code",
        "colab": {}
      },
      "source": [
        "stemmer = SnowballStemmer('english', ignore_stopwords=True) # Already removed stopwords"
      ],
      "execution_count": 0,
      "outputs": []
    },
    {
      "cell_type": "code",
      "metadata": {
        "id": "zwauVi_ZYpDg",
        "colab_type": "code",
        "colab": {}
      },
      "source": [
        "stemmed_words = []\n",
        "\n",
        "for words in filtered_sent:\n",
        "  \n",
        "  stemmed_words.append(stemmer.stem(words)) \n",
        "\n",
        "  print('Words '+words+' - stemmer:'+stemmer.stem(words))"
      ],
      "execution_count": 0,
      "outputs": []
    },
    {
      "cell_type": "code",
      "metadata": {
        "id": "0Z20xkS5uSJ5",
        "colab_type": "code",
        "colab": {}
      },
      "source": [
        "filtered_words = []\n",
        "for word in stemmed_words:\n",
        "  if word not in stop_words:\n",
        "    filtered_words.append(word)"
      ],
      "execution_count": 0,
      "outputs": []
    },
    {
      "cell_type": "code",
      "metadata": {
        "id": "7fE0Dx67u5Qq",
        "colab_type": "code",
        "colab": {}
      },
      "source": [
        "filtered_words"
      ],
      "execution_count": 0,
      "outputs": []
    },
    {
      "cell_type": "markdown",
      "metadata": {
        "id": "WpQCZqm1u8Rp",
        "colab_type": "text"
      },
      "source": [
        "## Lemmatizing with appropriate POS tag"
      ]
    },
    {
      "cell_type": "code",
      "metadata": {
        "id": "rUnoQv-mzbfT",
        "colab_type": "code",
        "outputId": "c7224264-413c-4855-bd78-accb79f74cd8",
        "colab": {
          "base_uri": "https://localhost:8080/",
          "height": 119
        }
      },
      "source": [
        "nltk.download('wordnet')                        # Lemmatization\n",
        "nltk.download('averaged_perceptron_tagger')     # POS tagging"
      ],
      "execution_count": 0,
      "outputs": [
        {
          "output_type": "stream",
          "text": [
            "[nltk_data] Downloading package wordnet to /root/nltk_data...\n",
            "[nltk_data]   Unzipping corpora/wordnet.zip.\n",
            "[nltk_data] Downloading package averaged_perceptron_tagger to\n",
            "[nltk_data]     /root/nltk_data...\n",
            "[nltk_data]   Unzipping taggers/averaged_perceptron_tagger.zip.\n"
          ],
          "name": "stdout"
        },
        {
          "output_type": "execute_result",
          "data": {
            "text/plain": [
              "True"
            ]
          },
          "metadata": {
            "tags": []
          },
          "execution_count": 48
        }
      ]
    },
    {
      "cell_type": "code",
      "metadata": {
        "id": "8CV6dH8mA0zV",
        "colab_type": "code",
        "colab": {}
      },
      "source": [
        "def get_wordnet_pos(word):\n",
        "    \"\"\"Map POS tag to first character lemmatize() accepts\"\"\"\n",
        "    tag = nltk.pos_tag([word])[0][1][0].upper()\n",
        "    tag_dict = {\"J\": wordnet.ADJ,\n",
        "                \"N\": wordnet.NOUN,\n",
        "                \"V\": wordnet.VERB,\n",
        "                \"R\": wordnet.ADV}\n",
        "\n",
        "    return tag_dict.get(tag, wordnet.NOUN)"
      ],
      "execution_count": 0,
      "outputs": []
    },
    {
      "cell_type": "code",
      "metadata": {
        "id": "RXmXofCZA7a_",
        "colab_type": "code",
        "colab": {}
      },
      "source": [
        "lem_words = []\n",
        "lem = WordNetLemmatizer()\n",
        "lem_words = [lem.lemmatize(word, get_wordnet_pos(word)) for word in filtered_word if word]"
      ],
      "execution_count": 0,
      "outputs": []
    },
    {
      "cell_type": "code",
      "metadata": {
        "id": "7s7HwBPUPHMV",
        "colab_type": "code",
        "outputId": "0aaa5847-ed62-4142-e627-deb41251fbea",
        "colab": {
          "base_uri": "https://localhost:8080/",
          "height": 187
        }
      },
      "source": [
        "lem_words[-10:]"
      ],
      "execution_count": 0,
      "outputs": [
        {
          "output_type": "execute_result",
          "data": {
            "text/plain": [
              "['suppose',\n",
              " 'speak',\n",
              " 'husband',\n",
              " 'see',\n",
              " 'choose',\n",
              " 'date',\n",
              " 'come',\n",
              " 'back',\n",
              " 'you thanks',\n",
              " 'help']"
            ]
          },
          "metadata": {
            "tags": []
          },
          "execution_count": 94
        }
      ]
    },
    {
      "cell_type": "markdown",
      "metadata": {
        "id": "EFm2B4ef16DS",
        "colab_type": "text"
      },
      "source": [
        "## NER"
      ]
    },
    {
      "cell_type": "code",
      "metadata": {
        "id": "JbeCJfPx5SzE",
        "colab_type": "code",
        "colab": {}
      },
      "source": [
        "nlp = en_core_web_sm.load()"
      ],
      "execution_count": 0,
      "outputs": []
    },
    {
      "cell_type": "code",
      "metadata": {
        "id": "liAePA-pGfTg",
        "colab_type": "code",
        "colab": {}
      },
      "source": [
        "text = ' '.join(lem_words)"
      ],
      "execution_count": 0,
      "outputs": []
    },
    {
      "cell_type": "code",
      "metadata": {
        "id": "DBf54P3g_gY4",
        "colab_type": "code",
        "colab": {}
      },
      "source": [
        "convo_nlp = nlp(text)"
      ],
      "execution_count": 0,
      "outputs": []
    },
    {
      "cell_type": "code",
      "metadata": {
        "id": "szVMuC5rDKrN",
        "colab_type": "code",
        "outputId": "a58257a5-9087-4e42-a9ea-08b25585cd52",
        "colab": {
          "base_uri": "https://localhost:8080/",
          "height": 34
        }
      },
      "source": [
        "labels = [ent.label_ for ent in convo_nlp.ents]\n",
        "Counter(labels)"
      ],
      "execution_count": 0,
      "outputs": [
        {
          "output_type": "execute_result",
          "data": {
            "text/plain": [
              "Counter({'CARDINAL': 1, 'DATE': 4, 'PRODUCT': 2})"
            ]
          },
          "metadata": {
            "tags": []
          },
          "execution_count": 99
        }
      ]
    },
    {
      "cell_type": "code",
      "metadata": {
        "id": "NeCbrqtmDY5R",
        "colab_type": "code",
        "outputId": "0f71e25f-d122-4b06-f7cb-f6bcde763875",
        "colab": {
          "base_uri": "https://localhost:8080/",
          "height": 54
        }
      },
      "source": [
        "#Print a random sentence from these conversations \n",
        "sentences = [x for x in convo_nlp.sents]\n",
        "print(sentences[0])"
      ],
      "execution_count": 0,
      "outputs": [
        {
          "output_type": "stream",
          "text": [
            "like book trip atlantis caprica saturday august 13 2016 8 adult tight budget 1700 hi checked option unfortunately currently trip meet criterion like book alternate travel option yes go neverland caprica august 13 2016 5 adult trip budget 1900 checked\n"
          ],
          "name": "stdout"
        }
      ]
    },
    {
      "cell_type": "code",
      "metadata": {
        "id": "3QfN-ZlGJx2u",
        "colab_type": "code",
        "outputId": "214dda2c-b760-43e5-db54-2640886983fe",
        "colab": {
          "base_uri": "https://localhost:8080/",
          "height": 267
        }
      },
      "source": [
        "displacy.render(convo_nlp, jupyter=True, style='ent', page=True)"
      ],
      "execution_count": 0,
      "outputs": [
        {
          "output_type": "display_data",
          "data": {
            "text/html": [
              "<span class=\"tex2jax_ignore\"><!DOCTYPE html>\n",
              "<html lang=\"en\">\n",
              "    <head>\n",
              "        <title>displaCy</title>\n",
              "    </head>\n",
              "\n",
              "    <body style=\"font-size: 16px; font-family: -apple-system, BlinkMacSystemFont, 'Segoe UI', Helvetica, Arial, sans-serif, 'Apple Color Emoji', 'Segoe UI Emoji', 'Segoe UI Symbol'; padding: 4rem 2rem; direction: ltr\">\n",
              "<figure style=\"margin-bottom: 6rem\">\n",
              "<div class=\"entities\" style=\"line-height: 2.5; direction: ltr\">like book trip \n",
              "<mark class=\"entity\" style=\"background: #bfeeb7; padding: 0.45em 0.6em; margin: 0 0.25em; line-height: 1; border-radius: 0.35em;\">\n",
              "    atlantis\n",
              "    <span style=\"font-size: 0.8em; font-weight: bold; line-height: 1; border-radius: 0.35em; text-transform: uppercase; vertical-align: middle; margin-left: 0.5rem\">PRODUCT</span>\n",
              "</mark>\n",
              " caprica \n",
              "<mark class=\"entity\" style=\"background: #bfe1d9; padding: 0.45em 0.6em; margin: 0 0.25em; line-height: 1; border-radius: 0.35em;\">\n",
              "    saturday\n",
              "    <span style=\"font-size: 0.8em; font-weight: bold; line-height: 1; border-radius: 0.35em; text-transform: uppercase; vertical-align: middle; margin-left: 0.5rem\">DATE</span>\n",
              "</mark>\n",
              " \n",
              "<mark class=\"entity\" style=\"background: #bfe1d9; padding: 0.45em 0.6em; margin: 0 0.25em; line-height: 1; border-radius: 0.35em;\">\n",
              "    august 13 2016 8\n",
              "    <span style=\"font-size: 0.8em; font-weight: bold; line-height: 1; border-radius: 0.35em; text-transform: uppercase; vertical-align: middle; margin-left: 0.5rem\">DATE</span>\n",
              "</mark>\n",
              " adult tight budget \n",
              "<mark class=\"entity\" style=\"background: #e4e7d2; padding: 0.45em 0.6em; margin: 0 0.25em; line-height: 1; border-radius: 0.35em;\">\n",
              "    1700\n",
              "    <span style=\"font-size: 0.8em; font-weight: bold; line-height: 1; border-radius: 0.35em; text-transform: uppercase; vertical-align: middle; margin-left: 0.5rem\">CARDINAL</span>\n",
              "</mark>\n",
              " hi checked option unfortunately currently trip meet criterion like book alternate travel option yes go neverland caprica \n",
              "<mark class=\"entity\" style=\"background: #bfe1d9; padding: 0.45em 0.6em; margin: 0 0.25em; line-height: 1; border-radius: 0.35em;\">\n",
              "    august 13 2016 5\n",
              "    <span style=\"font-size: 0.8em; font-weight: bold; line-height: 1; border-radius: 0.35em; text-transform: uppercase; vertical-align: middle; margin-left: 0.5rem\">DATE</span>\n",
              "</mark>\n",
              " adult trip budget \n",
              "<mark class=\"entity\" style=\"background: #bfe1d9; padding: 0.45em 0.6em; margin: 0 0.25em; line-height: 1; border-radius: 0.35em;\">\n",
              "    1900\n",
              "    <span style=\"font-size: 0.8em; font-weight: bold; line-height: 1; border-radius: 0.35em; text-transform: uppercase; vertical-align: middle; margin-left: 0.5rem\">DATE</span>\n",
              "</mark>\n",
              " checked availability date trip available like select alternate date flexibility date leave \n",
              "<mark class=\"entity\" style=\"background: #bfeeb7; padding: 0.45em 0.6em; margin: 0 0.25em; line-height: 1; border-radius: 0.35em;\">\n",
              "    atlantis\n",
              "    <span style=\"font-size: 0.8em; font-weight: bold; line-height: 1; border-radius: 0.35em; text-transform: uppercase; vertical-align: middle; margin-left: 0.5rem\">PRODUCT</span>\n",
              "</mark>\n",
              " rather caprica checked availability date trip available like select alternate date suppose speak husband see choose date come back you thanks help</div>\n",
              "</figure>\n",
              "</body>\n",
              "</html></span>"
            ],
            "text/plain": [
              "<IPython.core.display.HTML object>"
            ]
          },
          "metadata": {
            "tags": []
          }
        }
      ]
    },
    {
      "cell_type": "markdown",
      "metadata": {
        "id": "DvdBuHQtKXTG",
        "colab_type": "text"
      },
      "source": [
        "# Chatterbot"
      ]
    },
    {
      "cell_type": "code",
      "metadata": {
        "id": "xJ12G7U4ibb7",
        "colab_type": "code",
        "outputId": "d09e7bf9-c8ff-4301-fbbf-db344f6d6c94",
        "colab": {
          "base_uri": "https://localhost:8080/",
          "height": 119
        }
      },
      "source": [
        "# Create a new chat bot named Charlie\n",
        "chatbot = ChatBot('Charlie')\n",
        "trainer = ListTrainer(chatbot)"
      ],
      "execution_count": 0,
      "outputs": [
        {
          "output_type": "stream",
          "text": [
            "[nltk_data] Downloading package averaged_perceptron_tagger to\n",
            "[nltk_data]     /root/nltk_data...\n",
            "[nltk_data]   Package averaged_perceptron_tagger is already up-to-\n",
            "[nltk_data]       date!\n",
            "[nltk_data] Downloading package stopwords to /root/nltk_data...\n",
            "[nltk_data]   Package stopwords is already up-to-date!\n"
          ],
          "name": "stdout"
        }
      ]
    },
    {
      "cell_type": "code",
      "metadata": {
        "id": "50vn2vPxwteJ",
        "colab_type": "code",
        "outputId": "7eb330e6-1e08-4689-d80e-f380bb1d9b53",
        "colab": {
          "base_uri": "https://localhost:8080/",
          "height": 34
        }
      },
      "source": [
        "trainer.train([\n",
        "    'How are you?',\n",
        "    'I am good.',\n",
        "    'That is good to hear.',\n",
        "    'Thank you',\n",
        "    'You are welcome.',\n",
        "])"
      ],
      "execution_count": 0,
      "outputs": [
        {
          "output_type": "stream",
          "text": [
            "List Trainer: [####################] 100%\n"
          ],
          "name": "stdout"
        }
      ]
    },
    {
      "cell_type": "code",
      "metadata": {
        "id": "hoOohofQ5sgJ",
        "colab_type": "code",
        "outputId": "672bae01-3b0c-45ea-c70c-c525344f6c4f",
        "colab": {
          "base_uri": "https://localhost:8080/",
          "height": 34
        }
      },
      "source": [
        "trainer.train(flat_list)"
      ],
      "execution_count": 0,
      "outputs": [
        {
          "output_type": "stream",
          "text": [
            "List Trainer: [####################] 100%\n"
          ],
          "name": "stdout"
        }
      ]
    },
    {
      "cell_type": "code",
      "metadata": {
        "id": "fzLGP8kKsBmG",
        "colab_type": "code",
        "outputId": "83ff2809-129d-4816-c043-e549b2b259f3",
        "colab": {
          "base_uri": "https://localhost:8080/",
          "height": 54
        }
      },
      "source": [
        "print(chatbot.get_response('Hi'))"
      ],
      "execution_count": 0,
      "outputs": [
        {
          "output_type": "stream",
          "text": [
            "To start, just give me some information on where you would like to travel, your budget, your point of departure, or any other travel info you can think of.\n"
          ],
          "name": "stdout"
        }
      ]
    },
    {
      "cell_type": "code",
      "metadata": {
        "id": "iVG3GUofrJ24",
        "colab_type": "code",
        "outputId": "0683069c-d081-4b26-b7ae-18f900ee6e3f",
        "colab": {
          "base_uri": "https://localhost:8080/",
          "height": 34
        }
      },
      "source": [
        "print(chatbot.get_response('I would like to travel from Toronto to Japan'))"
      ],
      "execution_count": 0,
      "outputs": [
        {
          "output_type": "stream",
          "text": [
            "Did you have any specific dates in mind?\n"
          ],
          "name": "stdout"
        }
      ]
    },
    {
      "cell_type": "code",
      "metadata": {
        "id": "iPTYd5-j7_C1",
        "colab_type": "code",
        "outputId": "f3529a0f-593c-4a84-f376-11f69f9c625c",
        "colab": {
          "base_uri": "https://localhost:8080/",
          "height": 34
        }
      },
      "source": [
        "print(chatbot.get_response('June to August'))"
      ],
      "execution_count": 0,
      "outputs": [
        {
          "output_type": "stream",
          "text": [
            "How much would that be?\n"
          ],
          "name": "stdout"
        }
      ]
    },
    {
      "cell_type": "code",
      "metadata": {
        "id": "I9-q63wu8JRS",
        "colab_type": "code",
        "outputId": "31619179-dc76-4848-a04d-d3ae9cb11280",
        "colab": {
          "base_uri": "https://localhost:8080/",
          "height": 34
        }
      },
      "source": [
        "print(chatbot.get_response('under 1200'))"
      ],
      "execution_count": 0,
      "outputs": [
        {
          "output_type": "stream",
          "text": [
            "Perfect. Thank you.\n"
          ],
          "name": "stdout"
        }
      ]
    },
    {
      "cell_type": "code",
      "metadata": {
        "id": "JhAhlBR68NOi",
        "colab_type": "code",
        "colab": {}
      },
      "source": [
        ""
      ],
      "execution_count": 0,
      "outputs": []
    }
  ]
}