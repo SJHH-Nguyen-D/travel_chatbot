{
  "nbformat": 4,
  "nbformat_minor": 0,
  "metadata": {
    "colab": {
      "name": "NER_model.ipynb",
      "provenance": [],
      "collapsed_sections": [
        "xfX7scixzPlr",
        "CeAAajV7zKU_",
        "yPj0T71h5Vl9",
        "L6F_mTQzFnSP",
        "DvNQtNPVG49I",
        "5IlAyS8PPVov",
        "kdNT9auiRoKO",
        "WpQCZqm1u8Rp",
        "EFm2B4ef16DS"
      ],
      "mount_file_id": "1MRCL8Z4EfDQTrG1RVw20oqOYRLcpgxn1",
      "authorship_tag": "ABX9TyNYV7rXtnEv9l4+4i4UPV8r"
    },
    "kernelspec": {
      "name": "python3",
      "display_name": "Python 3"
    },
    "accelerator": "TPU"
  },
  "cells": [
    {
      "cell_type": "code",
      "metadata": {
        "id": "ttHOzxT3LRCT",
        "colab_type": "code",
        "colab": {}
      },
      "source": [
        "# ! sudo apt install openjdk-8-jdk\n",
        "# ! sudo update-alternatives --set java /usr/lib/jvm/java-8-openjdk-amd64/jre/bin/java \n",
        "# ! pip install language-check -qq\n",
        "# ! pip install pycontractions -qq"
      ],
      "execution_count": 0,
      "outputs": []
    },
    {
      "cell_type": "code",
      "metadata": {
        "id": "rYilNPsPjxYn",
        "colab_type": "code",
        "colab": {}
      },
      "source": [
        "! pip install chatterbot \n",
        "! pip install chatterbot_corpus"
      ],
      "execution_count": 0,
      "outputs": []
    },
    {
      "cell_type": "code",
      "metadata": {
        "id": "j15dAlF_sKtB",
        "colab_type": "code",
        "colab": {}
      },
      "source": [
        "! pip install --upgrade chatterbot \n",
        "! pip install --upgrade chatterbot_corpus"
      ],
      "execution_count": 0,
      "outputs": []
    },
    {
      "cell_type": "code",
      "metadata": {
        "id": "krjAXNNE_pGo",
        "colab_type": "code",
        "colab": {}
      },
      "source": [
        "# Import statements\n",
        "import pandas as pd\n",
        "import numpy as np\n",
        "import pprint as pp\n",
        "import json\n",
        "from pandas.io.json import json_normalize\n",
        "import re\n",
        "from timeit import default_timer\n",
        "\n",
        "# Preprocessing\n",
        "# from pycontractions import Contractions\n",
        "\n",
        "# Tokenization imports\n",
        "import nltk\n",
        "from nltk.tokenize import sent_tokenize\n",
        "from nltk.tokenize import word_tokenize\n",
        "\n",
        "# Puncuation & lower case\n",
        "import string #punctuation removal\n",
        "\n",
        "# Stop words\n",
        "from nltk.corpus import stopwords\n",
        "\n",
        "# Stemming\n",
        "from nltk.stem.snowball import SnowballStemmer\n",
        "\n",
        "# Lemmatizer\n",
        "from nltk.stem.wordnet import WordNetLemmatizer\n",
        "\n",
        "# POS tagging\n",
        "from nltk.corpus import wordnet\n",
        "\n",
        "# NER\n",
        "import nltk, nltk.tag, nltk.chunk \n",
        "import spacy\n",
        "import pprint as pprint\n",
        "from gensim.summarization import summarize \n",
        "from collections import Counter \n",
        "import en_core_web_sm # CNN gets loaded in, sees what words depends on each other, POS tagging, entity recognition \n",
        "from spacy import displacy # Visualize NER\n",
        "\n",
        "# Chatterbot\n",
        "from chatterbot import ChatBot\n",
        "from chatterbot.trainers import ListTrainer"
      ],
      "execution_count": 0,
      "outputs": []
    },
    {
      "cell_type": "markdown",
      "metadata": {
        "id": "xfX7scixzPlr",
        "colab_type": "text"
      },
      "source": [
        "# Data extraction"
      ]
    },
    {
      "cell_type": "code",
      "metadata": {
        "id": "KwMwbltd_wlu",
        "colab_type": "code",
        "colab": {}
      },
      "source": [
        "# Load JSON file into dataframe\n",
        "data = pd.read_json('/content/drive/My Drive/frames.json')\n",
        "df = pd.DataFrame(data)"
      ],
      "execution_count": 0,
      "outputs": []
    },
    {
      "cell_type": "code",
      "metadata": {
        "id": "1nJcJSb1lfi9",
        "colab_type": "code",
        "outputId": "d5c81189-b2af-4758-d5bb-7a70da3301af",
        "colab": {
          "base_uri": "https://localhost:8080/",
          "height": 289
        }
      },
      "source": [
        "df.head() # Looks like turns and labels are nested dictionaries"
      ],
      "execution_count": 0,
      "outputs": [
        {
          "output_type": "execute_result",
          "data": {
            "text/html": [
              "<div>\n",
              "<style scoped>\n",
              "    .dataframe tbody tr th:only-of-type {\n",
              "        vertical-align: middle;\n",
              "    }\n",
              "\n",
              "    .dataframe tbody tr th {\n",
              "        vertical-align: top;\n",
              "    }\n",
              "\n",
              "    .dataframe thead th {\n",
              "        text-align: right;\n",
              "    }\n",
              "</style>\n",
              "<table border=\"1\" class=\"dataframe\">\n",
              "  <thead>\n",
              "    <tr style=\"text-align: right;\">\n",
              "      <th></th>\n",
              "      <th>user_id</th>\n",
              "      <th>turns</th>\n",
              "      <th>wizard_id</th>\n",
              "      <th>id</th>\n",
              "      <th>labels</th>\n",
              "    </tr>\n",
              "  </thead>\n",
              "  <tbody>\n",
              "    <tr>\n",
              "      <th>0</th>\n",
              "      <td>U22HTHYNP</td>\n",
              "      <td>[{'text': 'I'd like to book a trip to Atlantis...</td>\n",
              "      <td>U21DKG18C</td>\n",
              "      <td>e2c0fc6c-2134-4891-8353-ef16d8412c9a</td>\n",
              "      <td>{'userSurveyRating': 4.0, 'wizardSurveyTaskSuc...</td>\n",
              "    </tr>\n",
              "    <tr>\n",
              "      <th>1</th>\n",
              "      <td>U21E41CQP</td>\n",
              "      <td>[{'text': 'Hello, I am looking to book a vacat...</td>\n",
              "      <td>U21DMV0KA</td>\n",
              "      <td>4a3bfa39-2c22-42c8-8694-32b4e34415e9</td>\n",
              "      <td>{'userSurveyRating': 3.0, 'wizardSurveyTaskSuc...</td>\n",
              "    </tr>\n",
              "    <tr>\n",
              "      <th>2</th>\n",
              "      <td>U21RP4FCY</td>\n",
              "      <td>[{'text': 'Hello there i am looking to go on a...</td>\n",
              "      <td>U21E0179B</td>\n",
              "      <td>6e67ed28-e94c-4fab-96b6-68569a92682f</td>\n",
              "      <td>{'userSurveyRating': 2.0, 'wizardSurveyTaskSuc...</td>\n",
              "    </tr>\n",
              "    <tr>\n",
              "      <th>3</th>\n",
              "      <td>U22HTHYNP</td>\n",
              "      <td>[{'text': 'Hi I'd like to go to Caprica from B...</td>\n",
              "      <td>U21DKG18C</td>\n",
              "      <td>5ae76e50-5b48-4166-9f6d-67aaabd7bcaa</td>\n",
              "      <td>{'userSurveyRating': 5.0, 'wizardSurveyTaskSuc...</td>\n",
              "    </tr>\n",
              "    <tr>\n",
              "      <th>4</th>\n",
              "      <td>U21E41CQP</td>\n",
              "      <td>[{'text': 'Hello, I am looking to book a trip ...</td>\n",
              "      <td>U21DMV0KA</td>\n",
              "      <td>24603086-bb53-431e-a0d8-1dcc63518ba9</td>\n",
              "      <td>{'userSurveyRating': 5.0, 'wizardSurveyTaskSuc...</td>\n",
              "    </tr>\n",
              "  </tbody>\n",
              "</table>\n",
              "</div>"
            ],
            "text/plain": [
              "     user_id  ...                                             labels\n",
              "0  U22HTHYNP  ...  {'userSurveyRating': 4.0, 'wizardSurveyTaskSuc...\n",
              "1  U21E41CQP  ...  {'userSurveyRating': 3.0, 'wizardSurveyTaskSuc...\n",
              "2  U21RP4FCY  ...  {'userSurveyRating': 2.0, 'wizardSurveyTaskSuc...\n",
              "3  U22HTHYNP  ...  {'userSurveyRating': 5.0, 'wizardSurveyTaskSuc...\n",
              "4  U21E41CQP  ...  {'userSurveyRating': 5.0, 'wizardSurveyTaskSuc...\n",
              "\n",
              "[5 rows x 5 columns]"
            ]
          },
          "metadata": {
            "tags": []
          },
          "execution_count": 90
        }
      ]
    },
    {
      "cell_type": "code",
      "metadata": {
        "id": "S96tkDNHrto5",
        "colab_type": "code",
        "outputId": "b396778b-aa76-4c9a-e11a-4228ed02c0d0",
        "colab": {
          "base_uri": "https://localhost:8080/",
          "height": 34
        }
      },
      "source": [
        "df['id'].nunique() # There are 1369 unique ID for the dialogue"
      ],
      "execution_count": 0,
      "outputs": [
        {
          "output_type": "execute_result",
          "data": {
            "text/plain": [
              "1369"
            ]
          },
          "metadata": {
            "tags": []
          },
          "execution_count": 91
        }
      ]
    },
    {
      "cell_type": "code",
      "metadata": {
        "id": "uyFJyy1frHkV",
        "colab_type": "code",
        "colab": {}
      },
      "source": [
        "# labels is a nested dictionary\n",
        "labels_df = json_normalize(df['labels'])"
      ],
      "execution_count": 0,
      "outputs": []
    },
    {
      "cell_type": "code",
      "metadata": {
        "id": "SZkcT2nWrnQT",
        "colab_type": "code",
        "outputId": "27dea1f2-d7c3-46a9-f313-345033d6b525",
        "colab": {
          "base_uri": "https://localhost:8080/",
          "height": 204
        }
      },
      "source": [
        "labels_df.head()"
      ],
      "execution_count": 0,
      "outputs": [
        {
          "output_type": "execute_result",
          "data": {
            "text/html": [
              "<div>\n",
              "<style scoped>\n",
              "    .dataframe tbody tr th:only-of-type {\n",
              "        vertical-align: middle;\n",
              "    }\n",
              "\n",
              "    .dataframe tbody tr th {\n",
              "        vertical-align: top;\n",
              "    }\n",
              "\n",
              "    .dataframe thead th {\n",
              "        text-align: right;\n",
              "    }\n",
              "</style>\n",
              "<table border=\"1\" class=\"dataframe\">\n",
              "  <thead>\n",
              "    <tr style=\"text-align: right;\">\n",
              "      <th></th>\n",
              "      <th>userSurveyRating</th>\n",
              "      <th>wizardSurveyTaskSuccessful</th>\n",
              "    </tr>\n",
              "  </thead>\n",
              "  <tbody>\n",
              "    <tr>\n",
              "      <th>0</th>\n",
              "      <td>4.0</td>\n",
              "      <td>True</td>\n",
              "    </tr>\n",
              "    <tr>\n",
              "      <th>1</th>\n",
              "      <td>3.0</td>\n",
              "      <td>True</td>\n",
              "    </tr>\n",
              "    <tr>\n",
              "      <th>2</th>\n",
              "      <td>2.0</td>\n",
              "      <td>False</td>\n",
              "    </tr>\n",
              "    <tr>\n",
              "      <th>3</th>\n",
              "      <td>5.0</td>\n",
              "      <td>True</td>\n",
              "    </tr>\n",
              "    <tr>\n",
              "      <th>4</th>\n",
              "      <td>5.0</td>\n",
              "      <td>True</td>\n",
              "    </tr>\n",
              "  </tbody>\n",
              "</table>\n",
              "</div>"
            ],
            "text/plain": [
              "   userSurveyRating  wizardSurveyTaskSuccessful\n",
              "0               4.0                        True\n",
              "1               3.0                        True\n",
              "2               2.0                       False\n",
              "3               5.0                        True\n",
              "4               5.0                        True"
            ]
          },
          "metadata": {
            "tags": []
          },
          "execution_count": 93
        }
      ]
    },
    {
      "cell_type": "markdown",
      "metadata": {
        "id": "hFeJ6uqDM4of",
        "colab_type": "text"
      },
      "source": [
        "`userSurveyRating` - value that represents the user’s satisfaction with the Wizard’s service, ranging from 1 – complete dissatisfaction to 5 – complete satisfaction\n",
        "\n",
        "`wizardSurveyTaskSuccessful` - boolean which is true if the wizard thinks at the end of the dialogue that the user’s goal was achieved"
      ]
    },
    {
      "cell_type": "code",
      "metadata": {
        "id": "zNW5wq9Ashn-",
        "colab_type": "code",
        "colab": {}
      },
      "source": [
        "# Attempted json_normalize but kept getting the error: 'list' object has no attribute 'values'\n",
        "# This happens because of list enclosing each of the dictionary.\n",
        "#   - Multiple dictionaries with matching keys enclosed by a list.\n",
        "#   - A dictionary with keys as columns and values in the form of list.\n",
        "\n",
        "# Thus we try another approach\n",
        "text_list = []\n",
        "for item in df['turns']:\n",
        "  text_list.append(item)\n",
        "turns_df = pd.DataFrame(text_list)"
      ],
      "execution_count": 0,
      "outputs": []
    },
    {
      "cell_type": "code",
      "metadata": {
        "id": "MuzW449PiBjp",
        "colab_type": "code",
        "outputId": "938d7956-6da9-40f5-d9c5-64c4ec4f0b58",
        "colab": {
          "base_uri": "https://localhost:8080/",
          "height": 369
        }
      },
      "source": [
        "turns_df[476:478] # Every row is a dialogue "
      ],
      "execution_count": 0,
      "outputs": [
        {
          "output_type": "execute_result",
          "data": {
            "text/html": [
              "<div>\n",
              "<style scoped>\n",
              "    .dataframe tbody tr th:only-of-type {\n",
              "        vertical-align: middle;\n",
              "    }\n",
              "\n",
              "    .dataframe tbody tr th {\n",
              "        vertical-align: top;\n",
              "    }\n",
              "\n",
              "    .dataframe thead th {\n",
              "        text-align: right;\n",
              "    }\n",
              "</style>\n",
              "<table border=\"1\" class=\"dataframe\">\n",
              "  <thead>\n",
              "    <tr style=\"text-align: right;\">\n",
              "      <th></th>\n",
              "      <th>0</th>\n",
              "      <th>1</th>\n",
              "      <th>2</th>\n",
              "      <th>3</th>\n",
              "      <th>4</th>\n",
              "      <th>5</th>\n",
              "      <th>6</th>\n",
              "      <th>7</th>\n",
              "      <th>8</th>\n",
              "      <th>9</th>\n",
              "      <th>10</th>\n",
              "      <th>11</th>\n",
              "      <th>12</th>\n",
              "      <th>13</th>\n",
              "      <th>14</th>\n",
              "      <th>15</th>\n",
              "      <th>16</th>\n",
              "      <th>17</th>\n",
              "      <th>18</th>\n",
              "      <th>19</th>\n",
              "      <th>20</th>\n",
              "      <th>21</th>\n",
              "      <th>22</th>\n",
              "      <th>23</th>\n",
              "      <th>24</th>\n",
              "      <th>25</th>\n",
              "      <th>26</th>\n",
              "      <th>27</th>\n",
              "      <th>28</th>\n",
              "      <th>29</th>\n",
              "      <th>30</th>\n",
              "      <th>31</th>\n",
              "      <th>32</th>\n",
              "      <th>33</th>\n",
              "      <th>34</th>\n",
              "      <th>35</th>\n",
              "      <th>36</th>\n",
              "      <th>37</th>\n",
              "      <th>38</th>\n",
              "      <th>39</th>\n",
              "      <th>40</th>\n",
              "      <th>41</th>\n",
              "      <th>42</th>\n",
              "      <th>43</th>\n",
              "      <th>44</th>\n",
              "      <th>45</th>\n",
              "      <th>46</th>\n",
              "      <th>47</th>\n",
              "    </tr>\n",
              "  </thead>\n",
              "  <tbody>\n",
              "    <tr>\n",
              "      <th>476</th>\n",
              "      <td>{'text': 'So I live in Long Beach. What do you...</td>\n",
              "      <td>{'db': {'result': [], 'search': []}, 'text': '...</td>\n",
              "      <td>{'text': 'just me and it can be between august...</td>\n",
              "      <td>{'db': {'result': [[{'trip': {'returning': {'d...</td>\n",
              "      <td>{'text': 'yes that would be great', 'labels': ...</td>\n",
              "      <td>{'db': {'result': [], 'search': []}, 'text': '...</td>\n",
              "      <td>{'text': 'I thought you said it fit my dates, ...</td>\n",
              "      <td>{'db': {'result': [], 'search': []}, 'text': '...</td>\n",
              "      <td>{'text': 'Not really, is that all you have for...</td>\n",
              "      <td>{'db': {'result': [], 'search': []}, 'text': '...</td>\n",
              "      <td>{'text': 'Yes, next on my list is San Francisc...</td>\n",
              "      <td>{'db': {'result': [[{'trip': {'returning': {'d...</td>\n",
              "      <td>{'text': '10 days should be good', 'labels': {...</td>\n",
              "      <td>{'db': {'result': [], 'search': []}, 'text': '...</td>\n",
              "      <td>{'text': 'I haven't set a budget for myself, I...</td>\n",
              "      <td>{'db': {'result': [], 'search': []}, 'text': '...</td>\n",
              "      <td>{'text': 'I like the idea of being in the hear...</td>\n",
              "      <td>{'db': {'result': [], 'search': []}, 'text': '...</td>\n",
              "      <td>{'text': 'economy', 'labels': {'acts': [{'args...</td>\n",
              "      <td>{'db': {'result': [], 'search': []}, 'text': '...</td>\n",
              "      <td>{'text': 'nice! that's a great deal!', 'labels...</td>\n",
              "      <td>{'db': {'result': [], 'search': []}, 'text': '...</td>\n",
              "      <td>{'text': 'have past guests been satisfied ther...</td>\n",
              "      <td>{'db': {'result': [], 'search': []}, 'text': '...</td>\n",
              "      <td>{'text': 'ok, so decent reviews, for the price...</td>\n",
              "      <td>{'db': {'result': [], 'search': []}, 'text': '...</td>\n",
              "      <td>{'text': 'yup I don't have to leave exactly th...</td>\n",
              "      <td>{'db': {'result': [[{'trip': {'returning': {'d...</td>\n",
              "      <td>{'text': 'cool, tell me more!', 'labels': {'ac...</td>\n",
              "      <td>{'db': {'result': [], 'search': []}, 'text': '...</td>\n",
              "      <td>{'text': 'any free wifi?', 'labels': {'acts': ...</td>\n",
              "      <td>{'db': {'result': [], 'search': []}, 'text': '...</td>\n",
              "      <td>{'text': 'cool thanks!', 'labels': {'acts': [{...</td>\n",
              "      <td>{'db': {'result': [], 'search': []}, 'text': '...</td>\n",
              "      <td>{'text': 'Last place is Hamburg, do you have a...</td>\n",
              "      <td>{'db': {'result': [[{'trip': {'returning': {'d...</td>\n",
              "      <td>{'text': 'I don't mind, is of them in the hear...</td>\n",
              "      <td>{'db': {'result': [], 'search': []}, 'text': '...</td>\n",
              "      <td>{'text': 'That sounds like good hotel, how muc...</td>\n",
              "      <td>{'db': {'result': [], 'search': []}, 'text': '...</td>\n",
              "      <td>{'text': 'i prefer economy', 'labels': {'acts'...</td>\n",
              "      <td>{'db': {'result': [], 'search': []}, 'text': '...</td>\n",
              "      <td>{'text': 'Does this hotel have better reviews ...</td>\n",
              "      <td>{'db': {'result': [], 'search': []}, 'text': '...</td>\n",
              "      <td>{'text': 'Ok, Hamburg was the destination I wa...</td>\n",
              "      <td>{'db': {'result': [], 'search': []}, 'text': '...</td>\n",
              "      <td>{'text': 'I'll take a chance there wih the 10 ...</td>\n",
              "      <td>{'db': {'result': [], 'search': []}, 'text': '...</td>\n",
              "    </tr>\n",
              "    <tr>\n",
              "      <th>477</th>\n",
              "      <td>{'text': 'Get me on a flight to San Antonio, s...</td>\n",
              "      <td>{'db': {'result': [], 'search': []}, 'text': '...</td>\n",
              "      <td>{'text': 'Kyoto. Get me the best hotel also', ...</td>\n",
              "      <td>{'db': {'result': [], 'search': []}, 'text': '...</td>\n",
              "      <td>{'text': 'I want to keep it under $5500 if pos...</td>\n",
              "      <td>{'db': {'result': [], 'search': []}, 'text': '...</td>\n",
              "      <td>{'text': 'Yes all by my lonesome', 'labels': {...</td>\n",
              "      <td>{'db': {'result': [[{'trip': {'returning': {'d...</td>\n",
              "      <td>{'text': 'Its gotta be San Antonio man, damn O...</td>\n",
              "      <td></td>\n",
              "      <td></td>\n",
              "      <td></td>\n",
              "      <td></td>\n",
              "      <td></td>\n",
              "      <td></td>\n",
              "      <td></td>\n",
              "      <td></td>\n",
              "      <td></td>\n",
              "      <td></td>\n",
              "      <td></td>\n",
              "      <td></td>\n",
              "      <td></td>\n",
              "      <td></td>\n",
              "      <td></td>\n",
              "      <td></td>\n",
              "      <td></td>\n",
              "      <td></td>\n",
              "      <td></td>\n",
              "      <td></td>\n",
              "      <td></td>\n",
              "      <td></td>\n",
              "      <td></td>\n",
              "      <td></td>\n",
              "      <td></td>\n",
              "      <td></td>\n",
              "      <td></td>\n",
              "      <td></td>\n",
              "      <td></td>\n",
              "      <td></td>\n",
              "      <td></td>\n",
              "      <td></td>\n",
              "      <td></td>\n",
              "      <td></td>\n",
              "      <td></td>\n",
              "      <td></td>\n",
              "      <td></td>\n",
              "      <td></td>\n",
              "      <td></td>\n",
              "    </tr>\n",
              "  </tbody>\n",
              "</table>\n",
              "</div>"
            ],
            "text/plain": [
              "                                                     0  ...                                                 47\n",
              "476  {'text': 'So I live in Long Beach. What do you...  ...  {'db': {'result': [], 'search': []}, 'text': '...\n",
              "477  {'text': 'Get me on a flight to San Antonio, s...  ...                                                   \n",
              "\n",
              "[2 rows x 48 columns]"
            ]
          },
          "metadata": {
            "tags": []
          },
          "execution_count": 103
        }
      ]
    },
    {
      "cell_type": "code",
      "metadata": {
        "id": "P6SG1ZTHPoxi",
        "colab_type": "code",
        "colab": {}
      },
      "source": [
        "turns_df.replace(np.nan,'',inplace=True) # Replace all null values"
      ],
      "execution_count": 0,
      "outputs": []
    },
    {
      "cell_type": "code",
      "metadata": {
        "id": "JrfuJYPWfcaB",
        "colab_type": "code",
        "colab": {}
      },
      "source": [
        "turns_df_T = turns_df.transpose() # Transposed the dataframe to have proper conversation turns"
      ],
      "execution_count": 0,
      "outputs": []
    },
    {
      "cell_type": "code",
      "metadata": {
        "id": "bohC-0R5jezD",
        "colab_type": "code",
        "colab": {}
      },
      "source": [
        "# Iterates through the data frame and gets all values with a text key\n",
        "convo_text = ''\n",
        "for i in turns_df_T:                                 # 1369 columns\n",
        "  for j in range(0,48):                              # 48 rows\n",
        "    try:\n",
        "      get_text = turns_df_T[i][j].get('text')        # Gets the value from the corresponding key\n",
        "      convo_text += get_text + '\\n'                   # Concatenates all text\n",
        "    except AttributeError:\n",
        "      convo_text += '*'                               # Concatenates '' if there is no text key - used for switching conversations"
      ],
      "execution_count": 0,
      "outputs": []
    },
    {
      "cell_type": "code",
      "metadata": {
        "id": "CckL8FWhOvWK",
        "colab_type": "code",
        "outputId": "a8d7e978-ad9a-4400-8206-2f52c5f107ae",
        "colab": {
          "base_uri": "https://localhost:8080/",
          "height": 306
        }
      },
      "source": [
        "pp.pprint(convo_text[0:1000])"
      ],
      "execution_count": 0,
      "outputs": [
        {
          "output_type": "stream",
          "text": [
            "(\"I'd like to book a trip to Atlantis from Caprica on Saturday, August 13, \"\n",
            " '2016 for 8 adults. I have a tight budget of 1700.\\n'\n",
            " 'Hi...I checked a few options for you, and unfortunately, we do not currently '\n",
            " 'have any trips that meet this criteria.  Would you like to book an alternate '\n",
            " 'travel option?\\n'\n",
            " 'Yes, how about going to Neverland from Caprica on August 13, 2016 for 5 '\n",
            " 'adults. For this trip, my budget would be 1900.\\n'\n",
            " 'I checked the availability for this date and there were no trips available.  '\n",
            " 'Would you like to select some alternate dates?\\n'\n",
            " 'I have no flexibility for dates... but I can leave from Atlantis rather than '\n",
            " 'Caprica. How about that?\\n'\n",
            " 'I checked the availability for that date and there were no trips available.  '\n",
            " 'Would you like to select some alternate dates?\\n'\n",
            " \"I suppose I'll speak with my husband to see if we can choose other dates, \"\n",
            " \"and then I'll come back to you.Thanks for your help\\n\"\n",
            " '*****************************************Hello, I am looking to book a '\n",
            " 'vacation from Gotham City to Mos Eisley f')\n"
          ],
          "name": "stdout"
        }
      ]
    },
    {
      "cell_type": "code",
      "metadata": {
        "id": "vp2BisyHPqe4",
        "colab_type": "code",
        "colab": {}
      },
      "source": [
        "with open('convo_text.txt', \"w\") as text_file:\n",
        "    text_file.write(convo_text)"
      ],
      "execution_count": 0,
      "outputs": []
    },
    {
      "cell_type": "markdown",
      "metadata": {
        "id": "CeAAajV7zKU_",
        "colab_type": "text"
      },
      "source": [
        "# Data Preprocessing"
      ]
    },
    {
      "cell_type": "code",
      "metadata": {
        "id": "ju63vJs-FRiR",
        "colab_type": "code",
        "colab": {}
      },
      "source": [
        "# This is testing with part 1 - 10% of data\n",
        "with open('/content/drive/My Drive/contraction_data_parts/expand_convo_text_1.txt', 'r') as file:\n",
        "    convo_all = file.read()"
      ],
      "execution_count": 0,
      "outputs": []
    },
    {
      "cell_type": "code",
      "metadata": {
        "id": "pen9_RKDsJtO",
        "colab_type": "code",
        "outputId": "cd569f33-b0a3-4c47-d0a9-6f708c00d6fd",
        "colab": {
          "base_uri": "https://localhost:8080/",
          "height": 255
        }
      },
      "source": [
        "# Conversation sample\n",
        "pp.pprint(convo_all[0:1000]) "
      ],
      "execution_count": 0,
      "outputs": [
        {
          "output_type": "stream",
          "text": [
            "('[\"I would like to book a trip to Atlantis from Caprica on Saturday, August '\n",
            " '13, 2016 for 8 adults. I have a tight budget of 1700.\\\\nHi...I checked a few '\n",
            " 'options for you, and unfortunately, we do not currently have any trips that '\n",
            " 'meet this criteria.  Would you like to book an alternate travel '\n",
            " 'option?\\\\nYes, how about going to Neverland from Caprica on August 13, 2016 '\n",
            " 'for 5 adults. For this trip, my budget would be 1900.\\\\nI checked the '\n",
            " 'availability for this date and there were no trips available.  Would you '\n",
            " 'like to select some alternate dates?\\\\nI have no flexibility for dates... '\n",
            " 'but I can leave from Atlantis rather than Caprica. How about that?\\\\nI '\n",
            " 'checked the availability for that date and there were no trips available.  '\n",
            " 'Would you like to select some alternate dates?\\\\nI suppose I will speak with '\n",
            " 'my husband to see if we can choose other dates, and then I will come back to '\n",
            " 'you.Thanks for your help\\\\n******************************************Hello, '\n",
            " 'I am looking to book a vacation from Gotham Ci')\n"
          ],
          "name": "stdout"
        }
      ]
    },
    {
      "cell_type": "code",
      "metadata": {
        "id": "2ItbPZ-Fl1YM",
        "colab_type": "code",
        "colab": {}
      },
      "source": [
        "# Let's break this text into separate lists for each conversation \n",
        "list_convos = [convo.split('\\n') for convo in convo_all.split('*') if convo_all] # Conversation delimited by *\n",
        "list_convos = [convo for convo in list_convos if convo != ['']]                  # Remove empty conversation"
      ],
      "execution_count": 0,
      "outputs": []
    },
    {
      "cell_type": "code",
      "metadata": {
        "id": "ZDQEZ4LGaJPq",
        "colab_type": "code",
        "outputId": "f0836d16-da7c-4857-9720-fb2445b2ed31",
        "colab": {
          "base_uri": "https://localhost:8080/",
          "height": 221
        }
      },
      "source": [
        "# Now we need to break each conversation by separate statements\n",
        "pp.pprint(list_convos[10])"
      ],
      "execution_count": 0,
      "outputs": [
        {
          "output_type": "stream",
          "text": [
            "['I would like to get away from Monday, August 15, 2016 to Wednesday, August '\n",
            " '31, 2016. My budget is $3200 and I would leave from Detroit.\\\\nAnd what '\n",
            " 'destination would you like to travel to?\\\\nAnywhere, I am looking for an '\n",
            " 'adventure. What do you have?\\\\nHow about Mexico or Porto Alegre?\\\\nlet us '\n",
            " 'look at both\\\\nMexico is unavailable.  Porto Alegre is available, but you '\n",
            " 'would have to leave from Santos.\\\\nCan you please suggest some destinations '\n",
            " 'that are available? I am leaving from Detroit.\\\\nI have no departures '\n",
            " 'available from Detroit. for these dates.  Would you like to make a date '\n",
            " 'change?\\\\nAnything between August 15 and August 31?\\\\nI am sorry, but we do '\n",
            " 'not have any departures from Detroit available for these dates for the '\n",
            " 'budget you provided.  Would you like to adjust your budget for this '\n",
            " 'trip?\\\\nNo I cannot. Thank you for your help\\\\n']\n"
          ],
          "name": "stdout"
        }
      ]
    },
    {
      "cell_type": "code",
      "metadata": {
        "id": "7Eh3OtxTcDqI",
        "colab_type": "code",
        "colab": {}
      },
      "source": [
        "test_convo_1 = list_convos[0][0].split('\\\\n')"
      ],
      "execution_count": 0,
      "outputs": []
    },
    {
      "cell_type": "code",
      "metadata": {
        "id": "OrriLBqZoT7t",
        "colab_type": "code",
        "colab": {}
      },
      "source": [
        "sep_convos = []\n",
        "for items in list_convos:\n",
        "  sep_convos.append([])\n",
        "  for item in items:\n",
        "    item = item.split('\\\\n')\n",
        "    sep_convos[-1].append(item)"
      ],
      "execution_count": 0,
      "outputs": []
    },
    {
      "cell_type": "code",
      "metadata": {
        "id": "edUAO6jGzgbw",
        "colab_type": "code",
        "outputId": "4c9ddc24-3235-4a84-829f-63140eada4d7",
        "colab": {
          "base_uri": "https://localhost:8080/",
          "height": 34
        }
      },
      "source": [
        "len(sep_convos)"
      ],
      "execution_count": 0,
      "outputs": [
        {
          "output_type": "execute_result",
          "data": {
            "text/plain": [
              "120"
            ]
          },
          "metadata": {
            "tags": []
          },
          "execution_count": 31
        }
      ]
    },
    {
      "cell_type": "code",
      "metadata": {
        "id": "y-pjowBz3Lc2",
        "colab_type": "code",
        "outputId": "cccaf969-6bda-401a-a266-a4e2fcb6a738",
        "colab": {
          "base_uri": "https://localhost:8080/",
          "height": 173
        }
      },
      "source": [
        "sep_convos[0]"
      ],
      "execution_count": 0,
      "outputs": [
        {
          "output_type": "execute_result",
          "data": {
            "text/plain": [
              "[['[\"I would like to book a trip to Atlantis from Caprica on Saturday, August 13, 2016 for 8 adults. I have a tight budget of 1700.',\n",
              "  'Hi...I checked a few options for you, and unfortunately, we do not currently have any trips that meet this criteria.  Would you like to book an alternate travel option?',\n",
              "  'Yes, how about going to Neverland from Caprica on August 13, 2016 for 5 adults. For this trip, my budget would be 1900.',\n",
              "  'I checked the availability for this date and there were no trips available.  Would you like to select some alternate dates?',\n",
              "  'I have no flexibility for dates... but I can leave from Atlantis rather than Caprica. How about that?',\n",
              "  'I checked the availability for that date and there were no trips available.  Would you like to select some alternate dates?',\n",
              "  'I suppose I will speak with my husband to see if we can choose other dates, and then I will come back to you.Thanks for your help',\n",
              "  '']]"
            ]
          },
          "metadata": {
            "tags": []
          },
          "execution_count": 41
        }
      ]
    },
    {
      "cell_type": "code",
      "metadata": {
        "id": "xIyjCyhp1t9h",
        "colab_type": "code",
        "colab": {}
      },
      "source": [
        "sep_convos_remove = []\n",
        "for convo in sep_convos:\n",
        "  sep_convos_remove.append([])\n",
        "  for statement in convo:\n",
        "    statement = re.sub(r\"[\\[\\]]\", \"\", statement)\n",
        "    sep_convos_remove[-1].append(item)\n",
        "\n",
        "len(sep_convos[0])\n",
        "flat_list = [item for sublist in sep_convos[0] for item in sublist]\n",
        "\n",
        "flat_list = [item for sublist in l for item in sublist]\n",
        "flat_list = []\n",
        "for convo in sep_convos:\n",
        "  for sublist in convo:\n",
        "      for item in sublist:\n",
        "          flat_list.append(item)"
      ],
      "execution_count": 0,
      "outputs": []
    },
    {
      "cell_type": "code",
      "metadata": {
        "id": "Bg9ULJTA7WAr",
        "colab_type": "code",
        "colab": {}
      },
      "source": [
        "flat_list = []\n",
        "for convo in sep_convos:\n",
        "  for sublist in convo:\n",
        "      for item in sublist:\n",
        "          flat_list.append(item)"
      ],
      "execution_count": 0,
      "outputs": []
    },
    {
      "cell_type": "code",
      "metadata": {
        "id": "RNsHUX6c7YhJ",
        "colab_type": "code",
        "outputId": "a66b3d2a-8cc9-47c5-c90b-152c032ac5f0",
        "colab": {
          "base_uri": "https://localhost:8080/",
          "height": 34
        }
      },
      "source": [
        "len(flat_list)"
      ],
      "execution_count": 0,
      "outputs": [
        {
          "output_type": "execute_result",
          "data": {
            "text/plain": [
              "1938"
            ]
          },
          "metadata": {
            "tags": []
          },
          "execution_count": 58
        }
      ]
    },
    {
      "cell_type": "markdown",
      "metadata": {
        "id": "yPj0T71h5Vl9",
        "colab_type": "text"
      },
      "source": [
        "## Tokenization"
      ]
    },
    {
      "cell_type": "code",
      "metadata": {
        "id": "2xYbWKne5bnM",
        "colab_type": "code",
        "outputId": "d093ce08-2a46-4bc8-ecc6-c838b6f7eafd",
        "colab": {
          "base_uri": "https://localhost:8080/",
          "height": 68
        }
      },
      "source": [
        "nltk.download('punkt') # Punkt sentence tokenizer"
      ],
      "execution_count": 0,
      "outputs": [
        {
          "output_type": "stream",
          "text": [
            "[nltk_data] Downloading package punkt to /root/nltk_data...\n",
            "[nltk_data]   Unzipping tokenizers/punkt.zip.\n"
          ],
          "name": "stdout"
        },
        {
          "output_type": "execute_result",
          "data": {
            "text/plain": [
              "True"
            ]
          },
          "metadata": {
            "tags": []
          },
          "execution_count": 25
        }
      ]
    },
    {
      "cell_type": "code",
      "metadata": {
        "id": "JWpurcuf-Ye6",
        "colab_type": "code",
        "outputId": "8a2b9936-94ac-41d7-f0a1-e7880f8fcae5",
        "colab": {
          "base_uri": "https://localhost:8080/",
          "height": 54
        }
      },
      "source": [
        "#split into sentences; sent_tokenize doesn't do the job properly\n",
        "tokenized_sent = sent_tokenize(list_convos[0][0])\n",
        "print(tokenized_sent[0:5])"
      ],
      "execution_count": 0,
      "outputs": [
        {
          "output_type": "stream",
          "text": [
            "['[\"I would like to book a trip to Atlantis from Caprica on Saturday, August 13, 2016 for 8 adults.', 'I have a tight budget of 1700.\\\\nHi...I checked a few options for you, and unfortunately, we do not currently have any trips that meet this criteria.', 'Would you like to book an alternate travel option?\\\\nYes, how about going to Neverland from Caprica on August 13, 2016 for 5 adults.', 'For this trip, my budget would be 1900.\\\\nI checked the availability for this date and there were no trips available.', 'Would you like to select some alternate dates?\\\\nI have no flexibility for dates... but I can leave from Atlantis rather than Caprica.']\n"
          ],
          "name": "stdout"
        }
      ]
    },
    {
      "cell_type": "code",
      "metadata": {
        "id": "JHMmiSDO_ILw",
        "colab_type": "code",
        "outputId": "de732e80-a513-4552-9336-a673bf9ec327",
        "colab": {
          "base_uri": "https://localhost:8080/",
          "height": 34
        }
      },
      "source": [
        "len(test_convo_1) # has 8 sentences"
      ],
      "execution_count": 0,
      "outputs": [
        {
          "output_type": "execute_result",
          "data": {
            "text/plain": [
              "8"
            ]
          },
          "metadata": {
            "tags": []
          },
          "execution_count": 35
        }
      ]
    },
    {
      "cell_type": "code",
      "metadata": {
        "id": "ji6_PAgJEvlv",
        "colab_type": "code",
        "outputId": "e78c3158-e42b-4f31-d9b3-62090927ba00",
        "colab": {
          "base_uri": "https://localhost:8080/",
          "height": 34
        }
      },
      "source": [
        "#split into words\n",
        "tokenized_words=[]\n",
        "tokenized_words.extend(word for word in word_tokenize(str(test_convo_1)))\n",
        "pp.pprint(tokenized_words[-10:])"
      ],
      "execution_count": 0,
      "outputs": [
        {
          "output_type": "stream",
          "text": [
            "['back', 'to', 'you.Thanks', 'for', 'your', 'help', \"'\", ',', \"''\", ']']\n"
          ],
          "name": "stdout"
        }
      ]
    },
    {
      "cell_type": "markdown",
      "metadata": {
        "id": "L6F_mTQzFnSP",
        "colab_type": "text"
      },
      "source": [
        "## Punctuation & Lower Case"
      ]
    },
    {
      "cell_type": "code",
      "metadata": {
        "id": "wmUhpSFsJcnU",
        "colab_type": "code",
        "colab": {}
      },
      "source": [
        "string.punctuation = string.punctuation + '``' + '...'"
      ],
      "execution_count": 0,
      "outputs": []
    },
    {
      "cell_type": "code",
      "metadata": {
        "id": "x3PxB5H4Qzwj",
        "colab_type": "code",
        "outputId": "3cb76cb1-badf-46d1-fe93-6be08ff06cf3",
        "colab": {
          "base_uri": "https://localhost:8080/",
          "height": 34
        }
      },
      "source": [
        "string.punctuation"
      ],
      "execution_count": 0,
      "outputs": [
        {
          "output_type": "execute_result",
          "data": {
            "text/plain": [
              "'!\"#$%&\\'()*+,-./:;<=>?@[\\\\]^_`{|}~``...``...'"
            ]
          },
          "metadata": {
            "tags": []
          },
          "execution_count": 60
        }
      ]
    },
    {
      "cell_type": "code",
      "metadata": {
        "id": "UGiIb7YfFsew",
        "colab_type": "code",
        "outputId": "5d413f29-97be-41a2-f581-df1244ff679e",
        "colab": {
          "base_uri": "https://localhost:8080/",
          "height": 34
        }
      },
      "source": [
        "# Removes punctuation\n",
        "no_punct = [token for token in tokenized_words if token not in string.punctuation] \n",
        "print(no_punct[-10:])"
      ],
      "execution_count": 0,
      "outputs": [
        {
          "output_type": "stream",
          "text": [
            "['I', 'will', 'come', 'back', 'to', 'you.Thanks', 'for', 'your', 'help', \"''\"]\n"
          ],
          "name": "stdout"
        }
      ]
    },
    {
      "cell_type": "code",
      "metadata": {
        "id": "kN_v90X9OLCG",
        "colab_type": "code",
        "colab": {}
      },
      "source": [
        "no_punct = [word.strip('\\'') for word in no_punct] # Pesky ' attatched to word\n",
        "no_punct = [word.replace('.',' ') for word in no_punct] # Pesky . attatched to word"
      ],
      "execution_count": 0,
      "outputs": []
    },
    {
      "cell_type": "code",
      "metadata": {
        "id": "4ofBua-nGuYE",
        "colab_type": "code",
        "outputId": "64c836fc-8b7b-42b2-d044-71b6ae9410dc",
        "colab": {
          "base_uri": "https://localhost:8080/",
          "height": 34
        }
      },
      "source": [
        "# Lowercase text\n",
        "data_lower = [word.lower() for word in no_punct]\n",
        "print(data_lower[-10:])"
      ],
      "execution_count": 0,
      "outputs": [
        {
          "output_type": "stream",
          "text": [
            "['i', 'will', 'come', 'back', 'to', 'you thanks', 'for', 'your', 'help', '']\n"
          ],
          "name": "stdout"
        }
      ]
    },
    {
      "cell_type": "markdown",
      "metadata": {
        "id": "DvNQtNPVG49I",
        "colab_type": "text"
      },
      "source": [
        "## Stop Words"
      ]
    },
    {
      "cell_type": "code",
      "metadata": {
        "id": "MgIaa9qiIuFP",
        "colab_type": "code",
        "outputId": "f54dd68b-cba3-4461-9a5b-1107f8e51155",
        "colab": {
          "base_uri": "https://localhost:8080/",
          "height": 68
        }
      },
      "source": [
        "nltk.download('stopwords')"
      ],
      "execution_count": 0,
      "outputs": [
        {
          "output_type": "stream",
          "text": [
            "[nltk_data] Downloading package stopwords to /root/nltk_data...\n",
            "[nltk_data]   Package stopwords is already up-to-date!\n"
          ],
          "name": "stdout"
        },
        {
          "output_type": "execute_result",
          "data": {
            "text/plain": [
              "True"
            ]
          },
          "metadata": {
            "tags": []
          },
          "execution_count": 75
        }
      ]
    },
    {
      "cell_type": "code",
      "metadata": {
        "id": "MJUMTOcTIxZd",
        "colab_type": "code",
        "outputId": "49504190-f537-465a-8f42-a94c6a0aa234",
        "colab": {
          "base_uri": "https://localhost:8080/",
          "height": 54
        }
      },
      "source": [
        "stop_words = stopwords.words('english')\n",
        "add_stop_words = ['would','could']\n",
        "stop_words += add_stop_words\n",
        "print(stop_words)"
      ],
      "execution_count": 0,
      "outputs": [
        {
          "output_type": "stream",
          "text": [
            "['i', 'me', 'my', 'myself', 'we', 'our', 'ours', 'ourselves', 'you', \"you're\", \"you've\", \"you'll\", \"you'd\", 'your', 'yours', 'yourself', 'yourselves', 'he', 'him', 'his', 'himself', 'she', \"she's\", 'her', 'hers', 'herself', 'it', \"it's\", 'its', 'itself', 'they', 'them', 'their', 'theirs', 'themselves', 'what', 'which', 'who', 'whom', 'this', 'that', \"that'll\", 'these', 'those', 'am', 'is', 'are', 'was', 'were', 'be', 'been', 'being', 'have', 'has', 'had', 'having', 'do', 'does', 'did', 'doing', 'a', 'an', 'the', 'and', 'but', 'if', 'or', 'because', 'as', 'until', 'while', 'of', 'at', 'by', 'for', 'with', 'about', 'against', 'between', 'into', 'through', 'during', 'before', 'after', 'above', 'below', 'to', 'from', 'up', 'down', 'in', 'out', 'on', 'off', 'over', 'under', 'again', 'further', 'then', 'once', 'here', 'there', 'when', 'where', 'why', 'how', 'all', 'any', 'both', 'each', 'few', 'more', 'most', 'other', 'some', 'such', 'no', 'nor', 'not', 'only', 'own', 'same', 'so', 'than', 'too', 'very', 's', 't', 'can', 'will', 'just', 'don', \"don't\", 'should', \"should've\", 'now', 'd', 'll', 'm', 'o', 're', 've', 'y', 'ain', 'aren', \"aren't\", 'couldn', \"couldn't\", 'didn', \"didn't\", 'doesn', \"doesn't\", 'hadn', \"hadn't\", 'hasn', \"hasn't\", 'haven', \"haven't\", 'isn', \"isn't\", 'ma', 'mightn', \"mightn't\", 'mustn', \"mustn't\", 'needn', \"needn't\", 'shan', \"shan't\", 'shouldn', \"shouldn't\", 'wasn', \"wasn't\", 'weren', \"weren't\", 'won', \"won't\", 'wouldn', \"wouldn't\", 'would', 'could']\n"
          ],
          "name": "stdout"
        }
      ]
    },
    {
      "cell_type": "code",
      "metadata": {
        "id": "K6gxeqbRIfQs",
        "colab_type": "code",
        "colab": {}
      },
      "source": [
        "filtered_word = []\n",
        "for word in data_lower:\n",
        "  if word not in stop_words:\n",
        "    filtered_word.append(word)"
      ],
      "execution_count": 0,
      "outputs": []
    },
    {
      "cell_type": "code",
      "metadata": {
        "id": "bcosHlzldnYF",
        "colab_type": "code",
        "outputId": "a1abb6d9-2aa2-42af-805d-2e4c67e19858",
        "colab": {
          "base_uri": "https://localhost:8080/",
          "height": 1000
        }
      },
      "source": [
        "filtered_word"
      ],
      "execution_count": 0,
      "outputs": [
        {
          "output_type": "execute_result",
          "data": {
            "text/plain": [
              "['like',\n",
              " 'book',\n",
              " 'trip',\n",
              " 'atlantis',\n",
              " 'caprica',\n",
              " 'saturday',\n",
              " 'august',\n",
              " '13',\n",
              " '2016',\n",
              " '8',\n",
              " 'adults',\n",
              " 'tight',\n",
              " 'budget',\n",
              " '1700',\n",
              " 'hi',\n",
              " 'checked',\n",
              " 'options',\n",
              " 'unfortunately',\n",
              " 'currently',\n",
              " 'trips',\n",
              " 'meet',\n",
              " 'criteria',\n",
              " 'like',\n",
              " 'book',\n",
              " 'alternate',\n",
              " 'travel',\n",
              " 'option',\n",
              " 'yes',\n",
              " 'going',\n",
              " 'neverland',\n",
              " 'caprica',\n",
              " 'august',\n",
              " '13',\n",
              " '2016',\n",
              " '5',\n",
              " 'adults',\n",
              " 'trip',\n",
              " 'budget',\n",
              " '1900',\n",
              " 'checked',\n",
              " 'availability',\n",
              " 'date',\n",
              " 'trips',\n",
              " 'available',\n",
              " 'like',\n",
              " 'select',\n",
              " 'alternate',\n",
              " 'dates',\n",
              " 'flexibility',\n",
              " 'dates',\n",
              " 'leave',\n",
              " 'atlantis',\n",
              " 'rather',\n",
              " 'caprica',\n",
              " 'checked',\n",
              " 'availability',\n",
              " 'date',\n",
              " 'trips',\n",
              " 'available',\n",
              " 'like',\n",
              " 'select',\n",
              " 'alternate',\n",
              " 'dates',\n",
              " 'suppose',\n",
              " 'speak',\n",
              " 'husband',\n",
              " 'see',\n",
              " 'choose',\n",
              " 'dates',\n",
              " 'come',\n",
              " 'back',\n",
              " 'you thanks',\n",
              " 'help',\n",
              " '']"
            ]
          },
          "metadata": {
            "tags": []
          },
          "execution_count": 90
        }
      ]
    },
    {
      "cell_type": "markdown",
      "metadata": {
        "id": "5IlAyS8PPVov",
        "colab_type": "text"
      },
      "source": [
        "### Emoji removal"
      ]
    },
    {
      "cell_type": "code",
      "metadata": {
        "id": "GslwOGSgOgIa",
        "colab_type": "code",
        "colab": {}
      },
      "source": [
        "for word in filtered_word[:]:       #makes a copy of the list words and then iterates over that copy. Then, modifies the original list.\n",
        "    if word.endswith('_face'): \n",
        "        filtered_word.remove(word) "
      ],
      "execution_count": 0,
      "outputs": []
    },
    {
      "cell_type": "markdown",
      "metadata": {
        "id": "kdNT9auiRoKO",
        "colab_type": "text"
      },
      "source": [
        "## Stemming"
      ]
    },
    {
      "cell_type": "code",
      "metadata": {
        "id": "hJet3LjsJAjr",
        "colab_type": "code",
        "colab": {}
      },
      "source": [
        "stemmer = SnowballStemmer('english', ignore_stopwords=True) # Already removed stopwords"
      ],
      "execution_count": 0,
      "outputs": []
    },
    {
      "cell_type": "code",
      "metadata": {
        "id": "zwauVi_ZYpDg",
        "colab_type": "code",
        "colab": {}
      },
      "source": [
        "stemmed_words = []\n",
        "\n",
        "for words in filtered_sent:\n",
        "  \n",
        "  stemmed_words.append(stemmer.stem(words)) \n",
        "\n",
        "  print('Words '+words+' - stemmer:'+stemmer.stem(words))"
      ],
      "execution_count": 0,
      "outputs": []
    },
    {
      "cell_type": "code",
      "metadata": {
        "id": "0Z20xkS5uSJ5",
        "colab_type": "code",
        "colab": {}
      },
      "source": [
        "filtered_words = []\n",
        "for word in stemmed_words:\n",
        "  if word not in stop_words:\n",
        "    filtered_words.append(word)"
      ],
      "execution_count": 0,
      "outputs": []
    },
    {
      "cell_type": "code",
      "metadata": {
        "id": "7fE0Dx67u5Qq",
        "colab_type": "code",
        "colab": {}
      },
      "source": [
        "filtered_words"
      ],
      "execution_count": 0,
      "outputs": []
    },
    {
      "cell_type": "markdown",
      "metadata": {
        "id": "WpQCZqm1u8Rp",
        "colab_type": "text"
      },
      "source": [
        "## Lemmatizing with appropriate POS tag"
      ]
    },
    {
      "cell_type": "code",
      "metadata": {
        "id": "rUnoQv-mzbfT",
        "colab_type": "code",
        "outputId": "c7224264-413c-4855-bd78-accb79f74cd8",
        "colab": {
          "base_uri": "https://localhost:8080/",
          "height": 119
        }
      },
      "source": [
        "nltk.download('wordnet')                        # Lemmatization\n",
        "nltk.download('averaged_perceptron_tagger')     # POS tagging"
      ],
      "execution_count": 0,
      "outputs": [
        {
          "output_type": "stream",
          "text": [
            "[nltk_data] Downloading package wordnet to /root/nltk_data...\n",
            "[nltk_data]   Unzipping corpora/wordnet.zip.\n",
            "[nltk_data] Downloading package averaged_perceptron_tagger to\n",
            "[nltk_data]     /root/nltk_data...\n",
            "[nltk_data]   Unzipping taggers/averaged_perceptron_tagger.zip.\n"
          ],
          "name": "stdout"
        },
        {
          "output_type": "execute_result",
          "data": {
            "text/plain": [
              "True"
            ]
          },
          "metadata": {
            "tags": []
          },
          "execution_count": 48
        }
      ]
    },
    {
      "cell_type": "code",
      "metadata": {
        "id": "8CV6dH8mA0zV",
        "colab_type": "code",
        "colab": {}
      },
      "source": [
        "def get_wordnet_pos(word):\n",
        "    \"\"\"Map POS tag to first character lemmatize() accepts\"\"\"\n",
        "    tag = nltk.pos_tag([word])[0][1][0].upper()\n",
        "    tag_dict = {\"J\": wordnet.ADJ,\n",
        "                \"N\": wordnet.NOUN,\n",
        "                \"V\": wordnet.VERB,\n",
        "                \"R\": wordnet.ADV}\n",
        "\n",
        "    return tag_dict.get(tag, wordnet.NOUN)"
      ],
      "execution_count": 0,
      "outputs": []
    },
    {
      "cell_type": "code",
      "metadata": {
        "id": "RXmXofCZA7a_",
        "colab_type": "code",
        "colab": {}
      },
      "source": [
        "lem_words = []\n",
        "lem = WordNetLemmatizer()\n",
        "lem_words = [lem.lemmatize(word, get_wordnet_pos(word)) for word in filtered_word if word]"
      ],
      "execution_count": 0,
      "outputs": []
    },
    {
      "cell_type": "code",
      "metadata": {
        "id": "7s7HwBPUPHMV",
        "colab_type": "code",
        "outputId": "0aaa5847-ed62-4142-e627-deb41251fbea",
        "colab": {
          "base_uri": "https://localhost:8080/",
          "height": 187
        }
      },
      "source": [
        "lem_words[-10:]"
      ],
      "execution_count": 0,
      "outputs": [
        {
          "output_type": "execute_result",
          "data": {
            "text/plain": [
              "['suppose',\n",
              " 'speak',\n",
              " 'husband',\n",
              " 'see',\n",
              " 'choose',\n",
              " 'date',\n",
              " 'come',\n",
              " 'back',\n",
              " 'you thanks',\n",
              " 'help']"
            ]
          },
          "metadata": {
            "tags": []
          },
          "execution_count": 94
        }
      ]
    },
    {
      "cell_type": "markdown",
      "metadata": {
        "id": "EFm2B4ef16DS",
        "colab_type": "text"
      },
      "source": [
        "## NER"
      ]
    },
    {
      "cell_type": "code",
      "metadata": {
        "id": "JbeCJfPx5SzE",
        "colab_type": "code",
        "colab": {}
      },
      "source": [
        "nlp = en_core_web_sm.load()"
      ],
      "execution_count": 0,
      "outputs": []
    },
    {
      "cell_type": "code",
      "metadata": {
        "id": "liAePA-pGfTg",
        "colab_type": "code",
        "colab": {}
      },
      "source": [
        "text = ' '.join(lem_words)"
      ],
      "execution_count": 0,
      "outputs": []
    },
    {
      "cell_type": "code",
      "metadata": {
        "id": "DBf54P3g_gY4",
        "colab_type": "code",
        "colab": {}
      },
      "source": [
        "convo_nlp = nlp(text)"
      ],
      "execution_count": 0,
      "outputs": []
    },
    {
      "cell_type": "code",
      "metadata": {
        "id": "szVMuC5rDKrN",
        "colab_type": "code",
        "outputId": "a58257a5-9087-4e42-a9ea-08b25585cd52",
        "colab": {
          "base_uri": "https://localhost:8080/",
          "height": 34
        }
      },
      "source": [
        "labels = [ent.label_ for ent in convo_nlp.ents]\n",
        "Counter(labels)"
      ],
      "execution_count": 0,
      "outputs": [
        {
          "output_type": "execute_result",
          "data": {
            "text/plain": [
              "Counter({'CARDINAL': 1, 'DATE': 4, 'PRODUCT': 2})"
            ]
          },
          "metadata": {
            "tags": []
          },
          "execution_count": 99
        }
      ]
    },
    {
      "cell_type": "code",
      "metadata": {
        "id": "NeCbrqtmDY5R",
        "colab_type": "code",
        "outputId": "0f71e25f-d122-4b06-f7cb-f6bcde763875",
        "colab": {
          "base_uri": "https://localhost:8080/",
          "height": 54
        }
      },
      "source": [
        "#Print a random sentence from these conversations \n",
        "sentences = [x for x in convo_nlp.sents]\n",
        "print(sentences[0])"
      ],
      "execution_count": 0,
      "outputs": [
        {
          "output_type": "stream",
          "text": [
            "like book trip atlantis caprica saturday august 13 2016 8 adult tight budget 1700 hi checked option unfortunately currently trip meet criterion like book alternate travel option yes go neverland caprica august 13 2016 5 adult trip budget 1900 checked\n"
          ],
          "name": "stdout"
        }
      ]
    },
    {
      "cell_type": "code",
      "metadata": {
        "id": "3QfN-ZlGJx2u",
        "colab_type": "code",
        "outputId": "214dda2c-b760-43e5-db54-2640886983fe",
        "colab": {
          "base_uri": "https://localhost:8080/",
          "height": 267
        }
      },
      "source": [
        "displacy.render(convo_nlp, jupyter=True, style='ent', page=True)"
      ],
      "execution_count": 0,
      "outputs": [
        {
          "output_type": "display_data",
          "data": {
            "text/html": [
              "<span class=\"tex2jax_ignore\"><!DOCTYPE html>\n",
              "<html lang=\"en\">\n",
              "    <head>\n",
              "        <title>displaCy</title>\n",
              "    </head>\n",
              "\n",
              "    <body style=\"font-size: 16px; font-family: -apple-system, BlinkMacSystemFont, 'Segoe UI', Helvetica, Arial, sans-serif, 'Apple Color Emoji', 'Segoe UI Emoji', 'Segoe UI Symbol'; padding: 4rem 2rem; direction: ltr\">\n",
              "<figure style=\"margin-bottom: 6rem\">\n",
              "<div class=\"entities\" style=\"line-height: 2.5; direction: ltr\">like book trip \n",
              "<mark class=\"entity\" style=\"background: #bfeeb7; padding: 0.45em 0.6em; margin: 0 0.25em; line-height: 1; border-radius: 0.35em;\">\n",
              "    atlantis\n",
              "    <span style=\"font-size: 0.8em; font-weight: bold; line-height: 1; border-radius: 0.35em; text-transform: uppercase; vertical-align: middle; margin-left: 0.5rem\">PRODUCT</span>\n",
              "</mark>\n",
              " caprica \n",
              "<mark class=\"entity\" style=\"background: #bfe1d9; padding: 0.45em 0.6em; margin: 0 0.25em; line-height: 1; border-radius: 0.35em;\">\n",
              "    saturday\n",
              "    <span style=\"font-size: 0.8em; font-weight: bold; line-height: 1; border-radius: 0.35em; text-transform: uppercase; vertical-align: middle; margin-left: 0.5rem\">DATE</span>\n",
              "</mark>\n",
              " \n",
              "<mark class=\"entity\" style=\"background: #bfe1d9; padding: 0.45em 0.6em; margin: 0 0.25em; line-height: 1; border-radius: 0.35em;\">\n",
              "    august 13 2016 8\n",
              "    <span style=\"font-size: 0.8em; font-weight: bold; line-height: 1; border-radius: 0.35em; text-transform: uppercase; vertical-align: middle; margin-left: 0.5rem\">DATE</span>\n",
              "</mark>\n",
              " adult tight budget \n",
              "<mark class=\"entity\" style=\"background: #e4e7d2; padding: 0.45em 0.6em; margin: 0 0.25em; line-height: 1; border-radius: 0.35em;\">\n",
              "    1700\n",
              "    <span style=\"font-size: 0.8em; font-weight: bold; line-height: 1; border-radius: 0.35em; text-transform: uppercase; vertical-align: middle; margin-left: 0.5rem\">CARDINAL</span>\n",
              "</mark>\n",
              " hi checked option unfortunately currently trip meet criterion like book alternate travel option yes go neverland caprica \n",
              "<mark class=\"entity\" style=\"background: #bfe1d9; padding: 0.45em 0.6em; margin: 0 0.25em; line-height: 1; border-radius: 0.35em;\">\n",
              "    august 13 2016 5\n",
              "    <span style=\"font-size: 0.8em; font-weight: bold; line-height: 1; border-radius: 0.35em; text-transform: uppercase; vertical-align: middle; margin-left: 0.5rem\">DATE</span>\n",
              "</mark>\n",
              " adult trip budget \n",
              "<mark class=\"entity\" style=\"background: #bfe1d9; padding: 0.45em 0.6em; margin: 0 0.25em; line-height: 1; border-radius: 0.35em;\">\n",
              "    1900\n",
              "    <span style=\"font-size: 0.8em; font-weight: bold; line-height: 1; border-radius: 0.35em; text-transform: uppercase; vertical-align: middle; margin-left: 0.5rem\">DATE</span>\n",
              "</mark>\n",
              " checked availability date trip available like select alternate date flexibility date leave \n",
              "<mark class=\"entity\" style=\"background: #bfeeb7; padding: 0.45em 0.6em; margin: 0 0.25em; line-height: 1; border-radius: 0.35em;\">\n",
              "    atlantis\n",
              "    <span style=\"font-size: 0.8em; font-weight: bold; line-height: 1; border-radius: 0.35em; text-transform: uppercase; vertical-align: middle; margin-left: 0.5rem\">PRODUCT</span>\n",
              "</mark>\n",
              " rather caprica checked availability date trip available like select alternate date suppose speak husband see choose date come back you thanks help</div>\n",
              "</figure>\n",
              "</body>\n",
              "</html></span>"
            ],
            "text/plain": [
              "<IPython.core.display.HTML object>"
            ]
          },
          "metadata": {
            "tags": []
          }
        }
      ]
    },
    {
      "cell_type": "markdown",
      "metadata": {
        "id": "DvdBuHQtKXTG",
        "colab_type": "text"
      },
      "source": [
        "# Chatterbot"
      ]
    },
    {
      "cell_type": "code",
      "metadata": {
        "id": "xJ12G7U4ibb7",
        "colab_type": "code",
        "outputId": "d09e7bf9-c8ff-4301-fbbf-db344f6d6c94",
        "colab": {
          "base_uri": "https://localhost:8080/",
          "height": 119
        }
      },
      "source": [
        "# Create a new chat bot named Charlie\n",
        "chatbot = ChatBot('Charlie')\n",
        "trainer = ListTrainer(chatbot)"
      ],
      "execution_count": 0,
      "outputs": [
        {
          "output_type": "stream",
          "text": [
            "[nltk_data] Downloading package averaged_perceptron_tagger to\n",
            "[nltk_data]     /root/nltk_data...\n",
            "[nltk_data]   Package averaged_perceptron_tagger is already up-to-\n",
            "[nltk_data]       date!\n",
            "[nltk_data] Downloading package stopwords to /root/nltk_data...\n",
            "[nltk_data]   Package stopwords is already up-to-date!\n"
          ],
          "name": "stdout"
        }
      ]
    },
    {
      "cell_type": "code",
      "metadata": {
        "id": "50vn2vPxwteJ",
        "colab_type": "code",
        "outputId": "7eb330e6-1e08-4689-d80e-f380bb1d9b53",
        "colab": {
          "base_uri": "https://localhost:8080/",
          "height": 34
        }
      },
      "source": [
        "trainer.train([\n",
        "    'How are you?',\n",
        "    'I am good.',\n",
        "    'That is good to hear.',\n",
        "    'Thank you',\n",
        "    'You are welcome.',\n",
        "])"
      ],
      "execution_count": 0,
      "outputs": [
        {
          "output_type": "stream",
          "text": [
            "List Trainer: [####################] 100%\n"
          ],
          "name": "stdout"
        }
      ]
    },
    {
      "cell_type": "code",
      "metadata": {
        "id": "hoOohofQ5sgJ",
        "colab_type": "code",
        "outputId": "672bae01-3b0c-45ea-c70c-c525344f6c4f",
        "colab": {
          "base_uri": "https://localhost:8080/",
          "height": 34
        }
      },
      "source": [
        "trainer.train(flat_list)"
      ],
      "execution_count": 0,
      "outputs": [
        {
          "output_type": "stream",
          "text": [
            "List Trainer: [####################] 100%\n"
          ],
          "name": "stdout"
        }
      ]
    },
    {
      "cell_type": "code",
      "metadata": {
        "id": "fzLGP8kKsBmG",
        "colab_type": "code",
        "outputId": "83ff2809-129d-4816-c043-e549b2b259f3",
        "colab": {
          "base_uri": "https://localhost:8080/",
          "height": 54
        }
      },
      "source": [
        "print(chatbot.get_response('Hi'))"
      ],
      "execution_count": 0,
      "outputs": [
        {
          "output_type": "stream",
          "text": [
            "To start, just give me some information on where you would like to travel, your budget, your point of departure, or any other travel info you can think of.\n"
          ],
          "name": "stdout"
        }
      ]
    },
    {
      "cell_type": "code",
      "metadata": {
        "id": "iVG3GUofrJ24",
        "colab_type": "code",
        "outputId": "0683069c-d081-4b26-b7ae-18f900ee6e3f",
        "colab": {
          "base_uri": "https://localhost:8080/",
          "height": 34
        }
      },
      "source": [
        "print(chatbot.get_response('I would like to travel from Toronto to Japan'))"
      ],
      "execution_count": 0,
      "outputs": [
        {
          "output_type": "stream",
          "text": [
            "Did you have any specific dates in mind?\n"
          ],
          "name": "stdout"
        }
      ]
    },
    {
      "cell_type": "code",
      "metadata": {
        "id": "iPTYd5-j7_C1",
        "colab_type": "code",
        "outputId": "f3529a0f-593c-4a84-f376-11f69f9c625c",
        "colab": {
          "base_uri": "https://localhost:8080/",
          "height": 34
        }
      },
      "source": [
        "print(chatbot.get_response('June to August'))"
      ],
      "execution_count": 0,
      "outputs": [
        {
          "output_type": "stream",
          "text": [
            "How much would that be?\n"
          ],
          "name": "stdout"
        }
      ]
    },
    {
      "cell_type": "code",
      "metadata": {
        "id": "I9-q63wu8JRS",
        "colab_type": "code",
        "outputId": "31619179-dc76-4848-a04d-d3ae9cb11280",
        "colab": {
          "base_uri": "https://localhost:8080/",
          "height": 34
        }
      },
      "source": [
        "print(chatbot.get_response('under 1200'))"
      ],
      "execution_count": 0,
      "outputs": [
        {
          "output_type": "stream",
          "text": [
            "Perfect. Thank you.\n"
          ],
          "name": "stdout"
        }
      ]
    },
    {
      "cell_type": "code",
      "metadata": {
        "id": "JhAhlBR68NOi",
        "colab_type": "code",
        "colab": {}
      },
      "source": [
        ""
      ],
      "execution_count": 0,
      "outputs": []
    }
  ]
}