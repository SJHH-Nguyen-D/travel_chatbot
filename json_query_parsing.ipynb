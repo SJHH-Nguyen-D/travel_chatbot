{
 "cells": [
  {
   "cell_type": "code",
   "execution_count": 155,
   "metadata": {},
   "outputs": [],
   "source": [
    "import pandas as pd\n",
    "import json"
   ]
  },
  {
   "cell_type": "code",
   "execution_count": 183,
   "metadata": {
    "scrolled": true
   },
   "outputs": [
    {
     "name": "stdout",
     "output_type": "stream",
     "text": [
      "dict_keys(['data', 'dictionaries', 'meta'])\n"
     ]
    }
   ],
   "source": [
    "\"\"\"\n",
    "\n",
    "Travel Chat Bot for Slack\n",
    "title:  amadeus_query.py\n",
    "author: George Thoraninh\n",
    "usage:  python amadeus_query.py\n",
    "\n",
    "\"\"\"\n",
    "# import statements\n",
    "import os\n",
    "import ssl\n",
    "import requests\n",
    "from functools import lru_cache\n",
    "\n",
    "amadeus_api_key = os.environ['AMADEUS_API_KEY']\n",
    "amadeus_api_secret = os.environ['AMADEUS_API_SECRET']\n",
    "\n",
    "\n",
    "auth_response = requests.post('https://api.amadeus.com/v1/security/oauth2/token',\n",
    "                              data={'grant_type': 'client_credentials',\n",
    "                                    'client_id': amadeus_api_key,\n",
    "                                    'client_secret': amadeus_api_secret})\n",
    "bearer = auth_response.json()['access_token']\n",
    "#print(bearer)\n",
    "# API has quotas, so better to cache everything\n",
    "@lru_cache(maxsize=2048)\n",
    "def call_api(url, **params):\n",
    "    full_url = f'https://api.amadeus.com/v1{url}'\n",
    "    response = requests.get(full_url,\n",
    "                            params=params,\n",
    "                            headers={'Authorization': f'Bearer {bearer}',\n",
    "                                     'Content-Type': 'application/vnd.amadeus+json'})\n",
    "    return response.json()\n",
    "\n",
    "response = call_api('/shopping/flight-offers',\n",
    "                origin='YYZ',\n",
    "                destination='JFK',\n",
    "                departureDate='2020-08-01',\n",
    "                returnDate='2020-08-15',\n",
    "                adults='1',\n",
    "                nonStop='true',\n",
    "                currency='CAD',\n",
    "                maxPrice='8000',\n",
    "                max='2'\n",
    "                )\n",
    "print(response.keys())"
   ]
  },
  {
   "cell_type": "code",
   "execution_count": 184,
   "metadata": {},
   "outputs": [],
   "source": [
    "df = pd.DataFrame(response['data'])"
   ]
  },
  {
   "cell_type": "code",
   "execution_count": 291,
   "metadata": {},
   "outputs": [
    {
     "data": {
      "text/plain": [
       "{'carriers': {'DL': 'DELTA AIR LINES', 'WS': 'WESTJET'},\n",
       " 'currencies': {'CAD': 'CANADIAN DOLLAR'},\n",
       " 'aircraft': {'CR9': 'CANADAIR REGIONAL JET 900'},\n",
       " 'locations': {'YYZ': {'subType': 'AIRPORT',\n",
       "   'detailedName': 'LESTER B. PEARSON INTL'},\n",
       "  'JFK': {'subType': 'AIRPORT', 'detailedName': 'JOHN F KENNEDY INTL'}}}"
      ]
     },
     "execution_count": 291,
     "metadata": {},
     "output_type": "execute_result"
    }
   ],
   "source": [
    "response['dictionaries']"
   ]
  },
  {
   "cell_type": "code",
   "execution_count": 313,
   "metadata": {},
   "outputs": [
    {
     "data": {
      "text/plain": [
       "[{'type': 'flight-offer',\n",
       "  'id': '1586922740942-248136524',\n",
       "  'offerItems': [{'services': [{'segments': [{'flightSegment': {'departure': {'iataCode': 'YYZ',\n",
       "          'terminal': '3',\n",
       "          'at': '2020-08-01T10:15:00-04:00'},\n",
       "         'arrival': {'iataCode': 'JFK',\n",
       "          'terminal': '4',\n",
       "          'at': '2020-08-01T11:49:00-04:00'},\n",
       "         'carrierCode': 'DL',\n",
       "         'number': '4982',\n",
       "         'aircraft': {'code': 'CR9'},\n",
       "         'operating': {'number': '4982'},\n",
       "         'duration': '0DT1H34M'},\n",
       "        'pricingDetailPerAdult': {'travelClass': 'ECONOMY',\n",
       "         'fareClass': 'K',\n",
       "         'availability': 9,\n",
       "         'fareBasis': 'KA0OA0MQ'}}]},\n",
       "     {'segments': [{'flightSegment': {'departure': {'iataCode': 'JFK',\n",
       "          'terminal': '4',\n",
       "          'at': '2020-08-15T10:55:00-04:00'},\n",
       "         'arrival': {'iataCode': 'YYZ',\n",
       "          'terminal': '3',\n",
       "          'at': '2020-08-15T12:36:00-04:00'},\n",
       "         'carrierCode': 'DL',\n",
       "         'number': '4983',\n",
       "         'aircraft': {'code': 'CR9'},\n",
       "         'operating': {'number': '4983'},\n",
       "         'duration': '0DT1H41M'},\n",
       "        'pricingDetailPerAdult': {'travelClass': 'ECONOMY',\n",
       "         'fareClass': 'T',\n",
       "         'availability': 9,\n",
       "         'fareBasis': 'TAUNA0EL'}}]}],\n",
       "    'price': {'total': '360.96', 'totalTaxes': '91.97'},\n",
       "    'pricePerAdult': {'total': '360.96', 'totalTaxes': '91.97'}}]},\n",
       " {'type': 'flight-offer',\n",
       "  'id': '1586922740942--1460165086',\n",
       "  'offerItems': [{'services': [{'segments': [{'flightSegment': {'departure': {'iataCode': 'YYZ',\n",
       "          'terminal': '3',\n",
       "          'at': '2020-08-01T10:15:00-04:00'},\n",
       "         'arrival': {'iataCode': 'JFK',\n",
       "          'terminal': '4',\n",
       "          'at': '2020-08-01T11:49:00-04:00'},\n",
       "         'carrierCode': 'WS',\n",
       "         'number': '6332',\n",
       "         'aircraft': {'code': 'CR9'},\n",
       "         'operating': {'number': '6332'},\n",
       "         'duration': '0DT1H34M'},\n",
       "        'pricingDetailPerAdult': {'travelClass': 'ECONOMY',\n",
       "         'fareClass': 'M',\n",
       "         'availability': 7,\n",
       "         'fareBasis': 'MOQD0ZFS'}}]},\n",
       "     {'segments': [{'flightSegment': {'departure': {'iataCode': 'JFK',\n",
       "          'terminal': '4',\n",
       "          'at': '2020-08-15T10:55:00-04:00'},\n",
       "         'arrival': {'iataCode': 'YYZ',\n",
       "          'terminal': '3',\n",
       "          'at': '2020-08-15T12:36:00-04:00'},\n",
       "         'carrierCode': 'WS',\n",
       "         'number': '6342',\n",
       "         'aircraft': {'code': 'CR9'},\n",
       "         'operating': {'number': '6342'},\n",
       "         'duration': '0DT1H41M'},\n",
       "        'pricingDetailPerAdult': {'travelClass': 'ECONOMY',\n",
       "         'fareClass': 'N',\n",
       "         'availability': 7,\n",
       "         'fareBasis': 'NOQF5ZES'}}]}],\n",
       "    'price': {'total': '427.10', 'totalTaxes': '95.12'},\n",
       "    'pricePerAdult': {'total': '427.10', 'totalTaxes': '95.12'}}]}]"
      ]
     },
     "execution_count": 313,
     "metadata": {},
     "output_type": "execute_result"
    }
   ],
   "source": [
    "response['data']"
   ]
  },
  {
   "cell_type": "code",
   "execution_count": 186,
   "metadata": {},
   "outputs": [
    {
     "data": {
      "text/plain": [
       "\"{'services': [{'segments': [{'flightSegment': {'departure': {'iataCode': 'YYZ', 'terminal': '3', 'at': '2020-08-01T10:15:00-04:00'}, 'arrival': {'iataCode': 'JFK', 'terminal': '4', 'at': '2020-08-01T11:49:00-04:00'}, 'carrierCode': 'DL', 'number': '4982', 'aircraft': {'code': 'CR9'}, 'operating': {'number': '4982'}, 'duration': '0DT1H34M'}, 'pricingDetailPerAdult': {'travelClass': 'ECONOMY', 'fareClass': 'K', 'availability': 9, 'fareBasis': 'KA0OA0MQ'}}]}, {'segments': [{'flightSegment': {'departure': {'iataCode': 'JFK', 'terminal': '4', 'at': '2020-08-15T10:55:00-04:00'}, 'arrival': {'iataCode': 'YYZ', 'terminal': '3', 'at': '2020-08-15T12:36:00-04:00'}, 'carrierCode': 'DL', 'number': '4983', 'aircraft': {'code': 'CR9'}, 'operating': {'number': '4983'}, 'duration': '0DT1H41M'}, 'pricingDetailPerAdult': {'travelClass': 'ECONOMY', 'fareClass': 'T', 'availability': 9, 'fareBasis': 'TAUNA0EL'}}]}], 'price': {'total': '360.96', 'totalTaxes': '91.97'}, 'pricePerAdult': {'total': '360.96', 'totalTaxes': '91.97'}}\""
      ]
     },
     "execution_count": 186,
     "metadata": {},
     "output_type": "execute_result"
    }
   ],
   "source": [
    "# converts to string so we can get rid of square brackets []\n",
    "str(df['offerItems'][0])[1:-1] "
   ]
  },
  {
   "cell_type": "code",
   "execution_count": 187,
   "metadata": {},
   "outputs": [],
   "source": [
    "test = str(df['offerItems'][0])[1:-1] "
   ]
  },
  {
   "cell_type": "code",
   "execution_count": 189,
   "metadata": {},
   "outputs": [],
   "source": [
    "# needs to be in double quotes \n",
    "test2 = json.loads(test.replace('\\'','\\\"'))"
   ]
  },
  {
   "cell_type": "code",
   "execution_count": 196,
   "metadata": {},
   "outputs": [
    {
     "data": {
      "text/plain": [
       "dict"
      ]
     },
     "execution_count": 196,
     "metadata": {},
     "output_type": "execute_result"
    }
   ],
   "source": [
    "type(test2)"
   ]
  },
  {
   "cell_type": "code",
   "execution_count": 191,
   "metadata": {},
   "outputs": [
    {
     "data": {
      "text/plain": [
       "'360.96'"
      ]
     },
     "execution_count": 191,
     "metadata": {},
     "output_type": "execute_result"
    }
   ],
   "source": [
    "# gets price of a ticket \n",
    "price = test2['price']['total']\n",
    "price"
   ]
  },
  {
   "cell_type": "code",
   "execution_count": 193,
   "metadata": {},
   "outputs": [
    {
     "data": {
      "text/plain": [
       "dict_keys(['services', 'price', 'pricePerAdult'])"
      ]
     },
     "execution_count": 193,
     "metadata": {},
     "output_type": "execute_result"
    }
   ],
   "source": [
    "test2.keys()"
   ]
  },
  {
   "cell_type": "code",
   "execution_count": 200,
   "metadata": {},
   "outputs": [
    {
     "data": {
      "text/html": [
       "<div>\n",
       "<style scoped>\n",
       "    .dataframe tbody tr th:only-of-type {\n",
       "        vertical-align: middle;\n",
       "    }\n",
       "\n",
       "    .dataframe tbody tr th {\n",
       "        vertical-align: top;\n",
       "    }\n",
       "\n",
       "    .dataframe thead th {\n",
       "        text-align: right;\n",
       "    }\n",
       "</style>\n",
       "<table border=\"1\" class=\"dataframe\">\n",
       "  <thead>\n",
       "    <tr style=\"text-align: right;\">\n",
       "      <th></th>\n",
       "      <th>type</th>\n",
       "      <th>id</th>\n",
       "      <th>offerItems</th>\n",
       "    </tr>\n",
       "  </thead>\n",
       "  <tbody>\n",
       "    <tr>\n",
       "      <th>0</th>\n",
       "      <td>flight-offer</td>\n",
       "      <td>1586922740942-248136524</td>\n",
       "      <td>[{'services': [{'segments': [{'flightSegment':...</td>\n",
       "    </tr>\n",
       "    <tr>\n",
       "      <th>1</th>\n",
       "      <td>flight-offer</td>\n",
       "      <td>1586922740942--1460165086</td>\n",
       "      <td>[{'services': [{'segments': [{'flightSegment':...</td>\n",
       "    </tr>\n",
       "  </tbody>\n",
       "</table>\n",
       "</div>"
      ],
      "text/plain": [
       "           type                         id  \\\n",
       "0  flight-offer    1586922740942-248136524   \n",
       "1  flight-offer  1586922740942--1460165086   \n",
       "\n",
       "                                          offerItems  \n",
       "0  [{'services': [{'segments': [{'flightSegment':...  \n",
       "1  [{'services': [{'segments': [{'flightSegment':...  "
      ]
     },
     "execution_count": 200,
     "metadata": {},
     "output_type": "execute_result"
    }
   ],
   "source": [
    "df"
   ]
  },
  {
   "cell_type": "code",
   "execution_count": 202,
   "metadata": {},
   "outputs": [
    {
     "data": {
      "text/html": [
       "<div>\n",
       "<style scoped>\n",
       "    .dataframe tbody tr th:only-of-type {\n",
       "        vertical-align: middle;\n",
       "    }\n",
       "\n",
       "    .dataframe tbody tr th {\n",
       "        vertical-align: top;\n",
       "    }\n",
       "\n",
       "    .dataframe thead th {\n",
       "        text-align: right;\n",
       "    }\n",
       "</style>\n",
       "<table border=\"1\" class=\"dataframe\">\n",
       "  <thead>\n",
       "    <tr style=\"text-align: right;\">\n",
       "      <th></th>\n",
       "      <th>offerItems</th>\n",
       "    </tr>\n",
       "  </thead>\n",
       "  <tbody>\n",
       "    <tr>\n",
       "      <th>0</th>\n",
       "      <td>[{'services': [{'segments': [{'flightSegment':...</td>\n",
       "    </tr>\n",
       "    <tr>\n",
       "      <th>1</th>\n",
       "      <td>[{'services': [{'segments': [{'flightSegment':...</td>\n",
       "    </tr>\n",
       "  </tbody>\n",
       "</table>\n",
       "</div>"
      ],
      "text/plain": [
       "                                          offerItems\n",
       "0  [{'services': [{'segments': [{'flightSegment':...\n",
       "1  [{'services': [{'segments': [{'flightSegment':..."
      ]
     },
     "execution_count": 202,
     "metadata": {},
     "output_type": "execute_result"
    }
   ],
   "source": [
    "df[['offerItems']]"
   ]
  },
  {
   "cell_type": "code",
   "execution_count": 303,
   "metadata": {},
   "outputs": [],
   "source": [
    "def json_parser(df, key):\n",
    "    df = df[[key]] #takes data frame and dives deeper to nested JSON\n",
    "    offer_json = str(df[key][0])[1:-1] # remove square brackets * only does one json for now\n",
    "    return json.loads(offer_json.replace('\\'','\\\"'))    "
   ]
  },
  {
   "cell_type": "code",
   "execution_count": 304,
   "metadata": {},
   "outputs": [],
   "source": [
    "test2 = json_parser(df, 'offerItems')"
   ]
  },
  {
   "cell_type": "code",
   "execution_count": 305,
   "metadata": {},
   "outputs": [],
   "source": [
    "test3 = str(test2['services'])[1:-1]\n",
    "# test3 = json.loads(test3.replace('\\'','\\\"'))  "
   ]
  },
  {
   "cell_type": "code",
   "execution_count": 306,
   "metadata": {},
   "outputs": [],
   "source": [
    "# departing flight segment\n",
    "listtest = [*test2['services'][0].values()] # used to unpack dict values"
   ]
  },
  {
   "cell_type": "code",
   "execution_count": 307,
   "metadata": {},
   "outputs": [],
   "source": [
    "listtest_str = str(listtest)[2:-2] # got rid of these square brackets\n",
    "listtest_dict = json.loads(listtest_str.replace('\\'','\\\"'))    "
   ]
  },
  {
   "cell_type": "code",
   "execution_count": 308,
   "metadata": {},
   "outputs": [
    {
     "data": {
      "text/plain": [
       "dict_keys(['flightSegment', 'pricingDetailPerAdult'])"
      ]
     },
     "execution_count": 308,
     "metadata": {},
     "output_type": "execute_result"
    }
   ],
   "source": [
    "listtest_dict.keys()"
   ]
  },
  {
   "cell_type": "code",
   "execution_count": 309,
   "metadata": {},
   "outputs": [
    {
     "data": {
      "text/plain": [
       "9"
      ]
     },
     "execution_count": 309,
     "metadata": {},
     "output_type": "execute_result"
    }
   ],
   "source": [
    "# amount of tickets left\n",
    "ticket_avail = listtest_dict['pricingDetailPerAdult']['availability']\n",
    "ticket_avail"
   ]
  },
  {
   "cell_type": "code",
   "execution_count": 337,
   "metadata": {},
   "outputs": [
    {
     "data": {
      "text/plain": [
       "'2020-08-01T10:15:00-04:00'"
      ]
     },
     "execution_count": 337,
     "metadata": {},
     "output_type": "execute_result"
    }
   ],
   "source": [
    "# depart time - needs parsing \n",
    "de_time = listtest_dict['flightSegment']['departure']['at']\n",
    "de_time"
   ]
  },
  {
   "cell_type": "code",
   "execution_count": 338,
   "metadata": {},
   "outputs": [
    {
     "data": {
      "text/plain": [
       "'2020-08-01T11:49:00-04:00'"
      ]
     },
     "execution_count": 338,
     "metadata": {},
     "output_type": "execute_result"
    }
   ],
   "source": [
    "# return time - needs parsing \n",
    "re_time = listtest_dict['flightSegment']['arrival']['at']\n",
    "re_time"
   ]
  },
  {
   "cell_type": "code",
   "execution_count": 321,
   "metadata": {},
   "outputs": [
    {
     "data": {
      "text/plain": [
       "{'departure': {'iataCode': 'YYZ',\n",
       "  'terminal': '3',\n",
       "  'at': '2020-08-01T10:15:00-04:00'},\n",
       " 'arrival': {'iataCode': 'JFK',\n",
       "  'terminal': '4',\n",
       "  'at': '2020-08-01T11:49:00-04:00'},\n",
       " 'carrierCode': 'DL',\n",
       " 'number': '4982',\n",
       " 'aircraft': {'code': 'CR9'},\n",
       " 'operating': {'number': '4982'},\n",
       " 'duration': '0DT1H34M'}"
      ]
     },
     "execution_count": 321,
     "metadata": {},
     "output_type": "execute_result"
    }
   ],
   "source": [
    "listtest_dict['flightSegment']['duration']"
   ]
  },
  {
   "cell_type": "code",
   "execution_count": 341,
   "metadata": {},
   "outputs": [
    {
     "data": {
      "text/plain": [
       "'0DT1H34M'"
      ]
     },
     "execution_count": 341,
     "metadata": {},
     "output_type": "execute_result"
    }
   ],
   "source": [
    "# flight duration - needs parsing \n",
    "trip_duration = listtest_dict['flightSegment']['duration']\n",
    "trip_duration"
   ]
  },
  {
   "cell_type": "code",
   "execution_count": 343,
   "metadata": {},
   "outputs": [
    {
     "data": {
      "text/plain": [
       "'DL'"
      ]
     },
     "execution_count": 343,
     "metadata": {},
     "output_type": "execute_result"
    }
   ],
   "source": [
    "# flight carrier - needs parsing \n",
    "flight_carrier = listtest_dict['flightSegment']['carrierCode']\n",
    "flight_carrier"
   ]
  },
  {
   "cell_type": "code",
   "execution_count": null,
   "metadata": {},
   "outputs": [],
   "source": [
    "listtest_dict['flightSegment']['carrierCode']"
   ]
  },
  {
   "cell_type": "code",
   "execution_count": 324,
   "metadata": {},
   "outputs": [
    {
     "data": {
      "text/plain": [
       "{'segments': [{'flightSegment': {'departure': {'iataCode': 'JFK',\n",
       "     'terminal': '4',\n",
       "     'at': '2020-08-15T10:55:00-04:00'},\n",
       "    'arrival': {'iataCode': 'YYZ',\n",
       "     'terminal': '3',\n",
       "     'at': '2020-08-15T12:36:00-04:00'},\n",
       "    'carrierCode': 'DL',\n",
       "    'number': '4983',\n",
       "    'aircraft': {'code': 'CR9'},\n",
       "    'operating': {'number': '4983'},\n",
       "    'duration': '0DT1H41M'},\n",
       "   'pricingDetailPerAdult': {'travelClass': 'ECONOMY',\n",
       "    'fareClass': 'T',\n",
       "    'availability': 9,\n",
       "    'fareBasis': 'TAUNA0EL'}}]}"
      ]
     },
     "execution_count": 324,
     "metadata": {},
     "output_type": "execute_result"
    }
   ],
   "source": [
    "# returning flight segment\n",
    "test2['services'][1]"
   ]
  },
  {
   "cell_type": "code",
   "execution_count": 325,
   "metadata": {},
   "outputs": [
    {
     "data": {
      "text/plain": [
       "{'carriers': {'DL': 'DELTA AIR LINES', 'WS': 'WESTJET'},\n",
       " 'currencies': {'CAD': 'CANADIAN DOLLAR'},\n",
       " 'aircraft': {'CR9': 'CANADAIR REGIONAL JET 900'},\n",
       " 'locations': {'YYZ': {'subType': 'AIRPORT',\n",
       "   'detailedName': 'LESTER B. PEARSON INTL'},\n",
       "  'JFK': {'subType': 'AIRPORT', 'detailedName': 'JOHN F KENNEDY INTL'}}}"
      ]
     },
     "execution_count": 325,
     "metadata": {},
     "output_type": "execute_result"
    }
   ],
   "source": [
    "response['dictionaries']"
   ]
  },
  {
   "cell_type": "code",
   "execution_count": 333,
   "metadata": {},
   "outputs": [
    {
     "data": {
      "text/plain": [
       "['YYZ', 'JFK']"
      ]
     },
     "execution_count": 333,
     "metadata": {},
     "output_type": "execute_result"
    }
   ],
   "source": [
    "locations = [*response['dictionaries']['locations'].keys()]\n",
    "locations"
   ]
  },
  {
   "cell_type": "code",
   "execution_count": 344,
   "metadata": {},
   "outputs": [
    {
     "data": {
      "text/plain": [
       "{'DL': 'DELTA AIR LINES', 'WS': 'WESTJET'}"
      ]
     },
     "execution_count": 344,
     "metadata": {},
     "output_type": "execute_result"
    }
   ],
   "source": [
    "response['dictionaries']['carriers']"
   ]
  },
  {
   "cell_type": "code",
   "execution_count": 357,
   "metadata": {},
   "outputs": [],
   "source": [
    "for key, value in response['dictionaries']['carriers'].items():\n",
    "    if flight_carrier == key:\n",
    "        flight_carrier_str = value"
   ]
  },
  {
   "cell_type": "code",
   "execution_count": 358,
   "metadata": {},
   "outputs": [
    {
     "name": "stdout",
     "output_type": "stream",
     "text": [
      "Flight Offer 1: Toronto - YYZ -> New York - JFK\n",
      "Departing at: 2020-08-01T10:15:00-04:00\n",
      "Arriving at: 2020-08-01T11:49:00-04:00\n",
      "Trip Duration: 0DT1H34M\n",
      "Flight Carrier: DELTA AIR LINES\n",
      "9 tickets left\n"
     ]
    }
   ],
   "source": [
    "# crafting response for user\n",
    "i = 1\n",
    "print(f'Flight Offer {i}: Toronto - {locations[0]} -> New York - {locations[1]}')\n",
    "print(f'Departing at: {de_time}')\n",
    "print(f'Arriving at: {re_time}')\n",
    "print(f'Trip Duration: {trip_duration}')\n",
    "print(f'Flight Carrier: {flight_carrier_str}')\n",
    "print(f'{ticket_avail} tickets left')"
   ]
  },
  {
   "cell_type": "code",
   "execution_count": null,
   "metadata": {},
   "outputs": [],
   "source": []
  }
 ],
 "metadata": {
  "kernelspec": {
   "display_name": "Python 3",
   "language": "python",
   "name": "python3"
  },
  "language_info": {
   "codemirror_mode": {
    "name": "ipython",
    "version": 3
   },
   "file_extension": ".py",
   "mimetype": "text/x-python",
   "name": "python",
   "nbconvert_exporter": "python",
   "pygments_lexer": "ipython3",
   "version": "3.7.4"
  }
 },
 "nbformat": 4,
 "nbformat_minor": 4
}
