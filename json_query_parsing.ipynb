{
 "cells": [
  {
   "cell_type": "code",
   "execution_count": 155,
   "metadata": {},
   "outputs": [],
   "source": [
    "import pandas as pd\n",
    "import json"
   ]
  },
  {
   "cell_type": "code",
   "execution_count": 71,
   "metadata": {
    "scrolled": true
   },
   "outputs": [
    {
     "name": "stdout",
     "output_type": "stream",
     "text": [
      "dict_keys(['data', 'dictionaries', 'meta'])\n"
     ]
    }
   ],
   "source": [
    "\"\"\"\n",
    "\n",
    "Travel Chat Bot for Slack\n",
    "title:  amadeus_query.py\n",
    "author: George Thoraninh\n",
    "usage:  python amadeus_query.py\n",
    "\n",
    "\"\"\"\n",
    "# import statements\n",
    "import os\n",
    "import ssl\n",
    "import requests\n",
    "from functools import lru_cache\n",
    "\n",
    "amadeus_api_key = os.environ['AMADEUS_API_KEY']\n",
    "amadeus_api_secret = os.environ['AMADEUS_API_SECRET']\n",
    "\n",
    "\n",
    "auth_response = requests.post('https://api.amadeus.com/v1/security/oauth2/token',\n",
    "                              data={'grant_type': 'client_credentials',\n",
    "                                    'client_id': amadeus_api_key,\n",
    "                                    'client_secret': amadeus_api_secret})\n",
    "bearer = auth_response.json()['access_token']\n",
    "#print(bearer)\n",
    "# API has quotas, so better to cache everything\n",
    "@lru_cache(maxsize=2048)\n",
    "def call_api(url, **params):\n",
    "    full_url = f'https://api.amadeus.com/v1{url}'\n",
    "    response = requests.get(full_url,\n",
    "                            params=params,\n",
    "                            headers={'Authorization': f'Bearer {bearer}',\n",
    "                                     'Content-Type': 'application/vnd.amadeus+json'})\n",
    "    return response.json()\n",
    "\n",
    "response = call_api('/shopping/flight-offers',\n",
    "                origin='YYZ',\n",
    "                destination='NYC',\n",
    "                departureDate='2020-08-01',\n",
    "                returnDate='2020-08-15',\n",
    "                adults='1',\n",
    "                currency='CAD',\n",
    "                maxPrice='1000',\n",
    "                max='1'\n",
    "                )\n",
    "print(response.keys())"
   ]
  },
  {
   "cell_type": "code",
   "execution_count": 119,
   "metadata": {},
   "outputs": [],
   "source": [
    "df = pd.DataFrame(response['data'])"
   ]
  },
  {
   "cell_type": "code",
   "execution_count": 154,
   "metadata": {},
   "outputs": [
    {
     "data": {
      "text/plain": [
       "{'data': [{'type': 'flight-offer',\n",
       "   'id': '1586763857613--519338455',\n",
       "   'offerItems': [{'services': [{'segments': [{'flightSegment': {'departure': {'iataCode': 'YYZ',\n",
       "           'terminal': '3',\n",
       "           'at': '2020-08-01T09:35:00-04:00'},\n",
       "          'arrival': {'iataCode': 'LGA',\n",
       "           'terminal': 'C',\n",
       "           'at': '2020-08-01T11:04:00-04:00'},\n",
       "          'carrierCode': 'WS',\n",
       "          'number': '1202',\n",
       "          'aircraft': {'code': '73H'},\n",
       "          'operating': {'carrierCode': 'WS', 'number': '1202'},\n",
       "          'duration': '0DT1H29M'},\n",
       "         'pricingDetailPerAdult': {'travelClass': 'ECONOMY',\n",
       "          'fareClass': 'E',\n",
       "          'availability': 7,\n",
       "          'fareBasis': 'LT7D0ZBG'}}]},\n",
       "      {'segments': [{'flightSegment': {'departure': {'iataCode': 'LGA',\n",
       "           'terminal': 'C',\n",
       "           'at': '2020-08-15T06:05:00-04:00'},\n",
       "          'arrival': {'iataCode': 'YYZ',\n",
       "           'terminal': '3',\n",
       "           'at': '2020-08-15T07:36:00-04:00'},\n",
       "          'carrierCode': 'WS',\n",
       "          'number': '1201',\n",
       "          'aircraft': {'code': '73W'},\n",
       "          'operating': {'carrierCode': 'WS', 'number': '1201'},\n",
       "          'duration': '0DT1H31M'},\n",
       "         'pricingDetailPerAdult': {'travelClass': 'ECONOMY',\n",
       "          'fareClass': 'E',\n",
       "          'availability': 7,\n",
       "          'fareBasis': 'LT7D0ZBG'}}]}],\n",
       "     'price': {'total': '166.92', 'totalTaxes': '82.92'},\n",
       "     'pricePerAdult': {'total': '166.92', 'totalTaxes': '82.92'}}]}],\n",
       " 'dictionaries': {'carriers': {'WS': 'WESTJET'},\n",
       "  'currencies': {'CAD': 'CANADIAN DOLLAR'},\n",
       "  'aircraft': {'73W': 'BOEING 737-700 (WINGLETS)',\n",
       "   '73H': 'BOEING 737-800 (WINGLETS)'},\n",
       "  'locations': {'LGA': {'subType': 'AIRPORT', 'detailedName': 'LAGUARDIA'},\n",
       "   'YYZ': {'subType': 'AIRPORT', 'detailedName': 'LESTER B. PEARSON INTL'}}},\n",
       " 'meta': {'links': {'self': 'https://api.amadeus.com/v1/shopping/flight-offers?origin=YYZ&destination=NYC&departureDate=2020-08-01&returnDate=2020-08-15&adults=1&nonStop=false&currency=CAD&maxPrice=1000&max=1'},\n",
       "  'currency': 'CAD',\n",
       "  'defaults': {'nonStop': False}}}"
      ]
     },
     "execution_count": 154,
     "metadata": {},
     "output_type": "execute_result"
    }
   ],
   "source": [
    "response"
   ]
  },
  {
   "cell_type": "code",
   "execution_count": 120,
   "metadata": {},
   "outputs": [
    {
     "data": {
      "text/html": [
       "<div>\n",
       "<style scoped>\n",
       "    .dataframe tbody tr th:only-of-type {\n",
       "        vertical-align: middle;\n",
       "    }\n",
       "\n",
       "    .dataframe tbody tr th {\n",
       "        vertical-align: top;\n",
       "    }\n",
       "\n",
       "    .dataframe thead th {\n",
       "        text-align: right;\n",
       "    }\n",
       "</style>\n",
       "<table border=\"1\" class=\"dataframe\">\n",
       "  <thead>\n",
       "    <tr style=\"text-align: right;\">\n",
       "      <th></th>\n",
       "      <th>type</th>\n",
       "      <th>id</th>\n",
       "      <th>offerItems</th>\n",
       "    </tr>\n",
       "  </thead>\n",
       "  <tbody>\n",
       "    <tr>\n",
       "      <th>0</th>\n",
       "      <td>flight-offer</td>\n",
       "      <td>1586763857613--519338455</td>\n",
       "      <td>[{'services': [{'segments': [{'flightSegment':...</td>\n",
       "    </tr>\n",
       "  </tbody>\n",
       "</table>\n",
       "</div>"
      ],
      "text/plain": [
       "           type                        id  \\\n",
       "0  flight-offer  1586763857613--519338455   \n",
       "\n",
       "                                          offerItems  \n",
       "0  [{'services': [{'segments': [{'flightSegment':...  "
      ]
     },
     "execution_count": 120,
     "metadata": {},
     "output_type": "execute_result"
    }
   ],
   "source": [
    "df"
   ]
  },
  {
   "cell_type": "code",
   "execution_count": 143,
   "metadata": {},
   "outputs": [],
   "source": [
    "test = str(df['offerItems'][0])[1:-1] "
   ]
  },
  {
   "cell_type": "code",
   "execution_count": 148,
   "metadata": {},
   "outputs": [],
   "source": [
    "test2 = json.loads(test.replace('\\'','\\\"'))"
   ]
  },
  {
   "cell_type": "code",
   "execution_count": 156,
   "metadata": {},
   "outputs": [
    {
     "data": {
      "text/plain": [
       "'166.92'"
      ]
     },
     "execution_count": 156,
     "metadata": {},
     "output_type": "execute_result"
    }
   ],
   "source": [
    "test2['price']['total']"
   ]
  },
  {
   "cell_type": "code",
   "execution_count": null,
   "metadata": {},
   "outputs": [],
   "source": []
  }
 ],
 "metadata": {
  "kernelspec": {
   "display_name": "Python 3",
   "language": "python",
   "name": "python3"
  },
  "language_info": {
   "codemirror_mode": {
    "name": "ipython",
    "version": 3
   },
   "file_extension": ".py",
   "mimetype": "text/x-python",
   "name": "python",
   "nbconvert_exporter": "python",
   "pygments_lexer": "ipython3",
   "version": "3.7.4"
  }
 },
 "nbformat": 4,
 "nbformat_minor": 4
}
