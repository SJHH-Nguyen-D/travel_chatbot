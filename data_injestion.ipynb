{
  "nbformat": 4,
  "nbformat_minor": 0,
  "metadata": {
    "colab": {
      "name": "data_injestion.ipynb",
      "provenance": [],
      "collapsed_sections": [],
      "toc_visible": true,
      "mount_file_id": "1MRCL8Z4EfDQTrG1RVw20oqOYRLcpgxn1",
      "authorship_tag": "ABX9TyM5EieWATX5yHZzvVI0VDmR"
    },
    "kernelspec": {
      "name": "python3",
      "display_name": "Python 3"
    },
    "accelerator": "GPU"
  },
  "cells": [
    {
      "cell_type": "code",
      "metadata": {
        "id": "ttHOzxT3LRCT",
        "colab_type": "code",
        "outputId": "7cc41a97-f275-4a32-8869-24ffb5b671eb",
        "colab": {
          "base_uri": "https://localhost:8080/",
          "height": 1000
        }
      },
      "source": [
        "! sudo apt install openjdk-8-jdk\n",
        "! sudo update-alternatives --set java /usr/lib/jvm/java-8-openjdk-amd64/jre/bin/java\n",
        "! pip install language-check -qq\n",
        "! pip install pycontractions -qq"
      ],
      "execution_count": 34,
      "outputs": [
        {
          "output_type": "stream",
          "text": [
            "Reading package lists... Done\n",
            "Building dependency tree       \n",
            "Reading state information... Done\n",
            "The following additional packages will be installed:\n",
            "  fonts-dejavu-core fonts-dejavu-extra libatk-wrapper-java\n",
            "  libatk-wrapper-java-jni libxxf86dga1 openjdk-8-jre x11-utils\n",
            "Suggested packages:\n",
            "  openjdk-8-demo openjdk-8-source visualvm icedtea-8-plugin mesa-utils\n",
            "The following NEW packages will be installed:\n",
            "  fonts-dejavu-core fonts-dejavu-extra libatk-wrapper-java\n",
            "  libatk-wrapper-java-jni libxxf86dga1 openjdk-8-jdk openjdk-8-jre x11-utils\n",
            "0 upgraded, 8 newly installed, 0 to remove and 25 not upgraded.\n",
            "Need to get 4,942 kB of archives.\n",
            "After this operation, 13.3 MB of additional disk space will be used.\n",
            "Get:1 http://archive.ubuntu.com/ubuntu bionic/main amd64 libxxf86dga1 amd64 2:1.1.4-1 [13.7 kB]\n",
            "Get:2 http://archive.ubuntu.com/ubuntu bionic/main amd64 fonts-dejavu-core all 2.37-1 [1,041 kB]\n",
            "Get:3 http://archive.ubuntu.com/ubuntu bionic/main amd64 fonts-dejavu-extra all 2.37-1 [1,953 kB]\n",
            "Get:4 http://archive.ubuntu.com/ubuntu bionic/main amd64 x11-utils amd64 7.7+3build1 [196 kB]\n",
            "Get:5 http://archive.ubuntu.com/ubuntu bionic/main amd64 libatk-wrapper-java all 0.33.3-20ubuntu0.1 [34.7 kB]\n",
            "Get:6 http://archive.ubuntu.com/ubuntu bionic/main amd64 libatk-wrapper-java-jni amd64 0.33.3-20ubuntu0.1 [28.3 kB]\n",
            "Get:7 http://archive.ubuntu.com/ubuntu bionic-updates/universe amd64 openjdk-8-jre amd64 8u242-b08-0ubuntu3~18.04 [69.7 kB]\n",
            "Get:8 http://archive.ubuntu.com/ubuntu bionic-updates/universe amd64 openjdk-8-jdk amd64 8u242-b08-0ubuntu3~18.04 [1,606 kB]\n",
            "Fetched 4,942 kB in 2s (3,074 kB/s)\n",
            "debconf: unable to initialize frontend: Dialog\n",
            "debconf: (No usable dialog-like program is installed, so the dialog based frontend cannot be used. at /usr/share/perl5/Debconf/FrontEnd/Dialog.pm line 76, <> line 8.)\n",
            "debconf: falling back to frontend: Readline\n",
            "debconf: unable to initialize frontend: Readline\n",
            "debconf: (This frontend requires a controlling tty.)\n",
            "debconf: falling back to frontend: Teletype\n",
            "dpkg-preconfigure: unable to re-open stdin: \n",
            "Selecting previously unselected package libxxf86dga1:amd64.\n",
            "(Reading database ... 133872 files and directories currently installed.)\n",
            "Preparing to unpack .../0-libxxf86dga1_2%3a1.1.4-1_amd64.deb ...\n",
            "Unpacking libxxf86dga1:amd64 (2:1.1.4-1) ...\n",
            "Selecting previously unselected package fonts-dejavu-core.\n",
            "Preparing to unpack .../1-fonts-dejavu-core_2.37-1_all.deb ...\n",
            "Unpacking fonts-dejavu-core (2.37-1) ...\n",
            "Selecting previously unselected package fonts-dejavu-extra.\n",
            "Preparing to unpack .../2-fonts-dejavu-extra_2.37-1_all.deb ...\n",
            "Unpacking fonts-dejavu-extra (2.37-1) ...\n",
            "Selecting previously unselected package x11-utils.\n",
            "Preparing to unpack .../3-x11-utils_7.7+3build1_amd64.deb ...\n",
            "Unpacking x11-utils (7.7+3build1) ...\n",
            "Selecting previously unselected package libatk-wrapper-java.\n",
            "Preparing to unpack .../4-libatk-wrapper-java_0.33.3-20ubuntu0.1_all.deb ...\n",
            "Unpacking libatk-wrapper-java (0.33.3-20ubuntu0.1) ...\n",
            "Selecting previously unselected package libatk-wrapper-java-jni:amd64.\n",
            "Preparing to unpack .../5-libatk-wrapper-java-jni_0.33.3-20ubuntu0.1_amd64.deb ...\n",
            "Unpacking libatk-wrapper-java-jni:amd64 (0.33.3-20ubuntu0.1) ...\n",
            "Selecting previously unselected package openjdk-8-jre:amd64.\n",
            "Preparing to unpack .../6-openjdk-8-jre_8u242-b08-0ubuntu3~18.04_amd64.deb ...\n",
            "Unpacking openjdk-8-jre:amd64 (8u242-b08-0ubuntu3~18.04) ...\n",
            "Selecting previously unselected package openjdk-8-jdk:amd64.\n",
            "Preparing to unpack .../7-openjdk-8-jdk_8u242-b08-0ubuntu3~18.04_amd64.deb ...\n",
            "Unpacking openjdk-8-jdk:amd64 (8u242-b08-0ubuntu3~18.04) ...\n",
            "Setting up fonts-dejavu-core (2.37-1) ...\n",
            "Setting up libxxf86dga1:amd64 (2:1.1.4-1) ...\n",
            "Setting up fonts-dejavu-extra (2.37-1) ...\n",
            "Setting up x11-utils (7.7+3build1) ...\n",
            "Setting up libatk-wrapper-java (0.33.3-20ubuntu0.1) ...\n",
            "Setting up libatk-wrapper-java-jni:amd64 (0.33.3-20ubuntu0.1) ...\n",
            "Setting up openjdk-8-jre:amd64 (8u242-b08-0ubuntu3~18.04) ...\n",
            "update-alternatives: using /usr/lib/jvm/java-8-openjdk-amd64/jre/bin/policytool to provide /usr/bin/policytool (policytool) in auto mode\n",
            "Setting up openjdk-8-jdk:amd64 (8u242-b08-0ubuntu3~18.04) ...\n",
            "update-alternatives: using /usr/lib/jvm/java-8-openjdk-amd64/bin/appletviewer to provide /usr/bin/appletviewer (appletviewer) in auto mode\n",
            "update-alternatives: using /usr/lib/jvm/java-8-openjdk-amd64/bin/jconsole to provide /usr/bin/jconsole (jconsole) in auto mode\n",
            "Processing triggers for man-db (2.8.3-2ubuntu0.1) ...\n",
            "Processing triggers for hicolor-icon-theme (0.17-2) ...\n",
            "Processing triggers for fontconfig (2.12.6-0ubuntu2) ...\n",
            "Processing triggers for mime-support (3.60ubuntu1) ...\n",
            "Processing triggers for libc-bin (2.27-3ubuntu1) ...\n",
            "/sbin/ldconfig.real: /usr/local/lib/python3.6/dist-packages/ideep4py/lib/libmkldnn.so.0 is not a symbolic link\n",
            "\n",
            "update-alternatives: using /usr/lib/jvm/java-8-openjdk-amd64/jre/bin/java to provide /usr/bin/java (java) in manual mode\n",
            "  Building wheel for language-check (setup.py) ... \u001b[?25l\u001b[?25hdone\n"
          ],
          "name": "stdout"
        }
      ]
    },
    {
      "cell_type": "code",
      "metadata": {
        "id": "THAzf8fFTh_P",
        "colab_type": "code",
        "outputId": "ade2429d-2c7f-4dda-dac0-314c6ec065df",
        "colab": {
          "base_uri": "https://localhost:8080/",
          "height": 215
        }
      },
      "source": [
        "%tensorflow_version 2.x\n",
        "import tensorflow as tf\n",
        "device_name = tf.test.gpu_device_name()\n",
        "if device_name != '/device:GPU:0':\n",
        "  raise SystemError('GPU device not found')\n",
        "print('Found GPU at: {}'.format(device_name))"
      ],
      "execution_count": 35,
      "outputs": [
        {
          "output_type": "error",
          "ename": "SystemError",
          "evalue": "ignored",
          "traceback": [
            "\u001b[0;31m---------------------------------------------------------------------------\u001b[0m",
            "\u001b[0;31mSystemError\u001b[0m                               Traceback (most recent call last)",
            "\u001b[0;32m<ipython-input-35-d1d5f2f639c4>\u001b[0m in \u001b[0;36m<module>\u001b[0;34m()\u001b[0m\n\u001b[1;32m      3\u001b[0m \u001b[0mdevice_name\u001b[0m \u001b[0;34m=\u001b[0m \u001b[0mtf\u001b[0m\u001b[0;34m.\u001b[0m\u001b[0mtest\u001b[0m\u001b[0;34m.\u001b[0m\u001b[0mgpu_device_name\u001b[0m\u001b[0;34m(\u001b[0m\u001b[0;34m)\u001b[0m\u001b[0;34m\u001b[0m\u001b[0;34m\u001b[0m\u001b[0m\n\u001b[1;32m      4\u001b[0m \u001b[0;32mif\u001b[0m \u001b[0mdevice_name\u001b[0m \u001b[0;34m!=\u001b[0m \u001b[0;34m'/device:GPU:0'\u001b[0m\u001b[0;34m:\u001b[0m\u001b[0;34m\u001b[0m\u001b[0;34m\u001b[0m\u001b[0m\n\u001b[0;32m----> 5\u001b[0;31m   \u001b[0;32mraise\u001b[0m \u001b[0mSystemError\u001b[0m\u001b[0;34m(\u001b[0m\u001b[0;34m'GPU device not found'\u001b[0m\u001b[0;34m)\u001b[0m\u001b[0;34m\u001b[0m\u001b[0;34m\u001b[0m\u001b[0m\n\u001b[0m\u001b[1;32m      6\u001b[0m \u001b[0mprint\u001b[0m\u001b[0;34m(\u001b[0m\u001b[0;34m'Found GPU at: {}'\u001b[0m\u001b[0;34m.\u001b[0m\u001b[0mformat\u001b[0m\u001b[0;34m(\u001b[0m\u001b[0mdevice_name\u001b[0m\u001b[0;34m)\u001b[0m\u001b[0;34m)\u001b[0m\u001b[0;34m\u001b[0m\u001b[0;34m\u001b[0m\u001b[0m\n",
            "\u001b[0;31mSystemError\u001b[0m: GPU device not found"
          ]
        }
      ]
    },
    {
      "cell_type": "code",
      "metadata": {
        "id": "krjAXNNE_pGo",
        "colab_type": "code",
        "colab": {}
      },
      "source": [
        "# Import statements\n",
        "import pandas as pd\n",
        "import numpy as np\n",
        "import pprint as pp\n",
        "import json\n",
        "from pandas.io.json import json_normalize\n",
        "import re\n",
        "from timeit import default_timer\n",
        "\n",
        "# Preprocessing\n",
        "from pycontractions import Contractions\n",
        "\n",
        "# Tokenization imports\n",
        "import nltk\n",
        "from nltk.tokenize import sent_tokenize\n",
        "from nltk.tokenize import word_tokenize\n",
        "\n",
        "# Puncuation & lower case\n",
        "import string #punctuation removal\n",
        "\n",
        "# Stop words\n",
        "from nltk.corpus import stopwords\n",
        "\n",
        "# Stemming\n",
        "from nltk.stem.snowball import SnowballStemmer\n",
        "\n",
        "#import flat_table"
      ],
      "execution_count": 0,
      "outputs": []
    },
    {
      "cell_type": "markdown",
      "metadata": {
        "id": "xfX7scixzPlr",
        "colab_type": "text"
      },
      "source": [
        "# Data extraction"
      ]
    },
    {
      "cell_type": "code",
      "metadata": {
        "id": "KwMwbltd_wlu",
        "colab_type": "code",
        "colab": {}
      },
      "source": [
        "# Load JSON file into dataframe\n",
        "data = pd.read_json('/content/drive/My Drive/frames.json')\n",
        "df = pd.DataFrame(data)"
      ],
      "execution_count": 0,
      "outputs": []
    },
    {
      "cell_type": "code",
      "metadata": {
        "id": "1nJcJSb1lfi9",
        "colab_type": "code",
        "outputId": "15341eb0-78a7-4b73-e5c3-b2b401342f44",
        "colab": {
          "base_uri": "https://localhost:8080/",
          "height": 289
        }
      },
      "source": [
        "df.head() # Looks like turns and labels are nested dictionaries"
      ],
      "execution_count": 16,
      "outputs": [
        {
          "output_type": "execute_result",
          "data": {
            "text/html": [
              "<div>\n",
              "<style scoped>\n",
              "    .dataframe tbody tr th:only-of-type {\n",
              "        vertical-align: middle;\n",
              "    }\n",
              "\n",
              "    .dataframe tbody tr th {\n",
              "        vertical-align: top;\n",
              "    }\n",
              "\n",
              "    .dataframe thead th {\n",
              "        text-align: right;\n",
              "    }\n",
              "</style>\n",
              "<table border=\"1\" class=\"dataframe\">\n",
              "  <thead>\n",
              "    <tr style=\"text-align: right;\">\n",
              "      <th></th>\n",
              "      <th>user_id</th>\n",
              "      <th>turns</th>\n",
              "      <th>wizard_id</th>\n",
              "      <th>id</th>\n",
              "      <th>labels</th>\n",
              "    </tr>\n",
              "  </thead>\n",
              "  <tbody>\n",
              "    <tr>\n",
              "      <th>0</th>\n",
              "      <td>U22HTHYNP</td>\n",
              "      <td>[{'text': 'I'd like to book a trip to Atlantis...</td>\n",
              "      <td>U21DKG18C</td>\n",
              "      <td>e2c0fc6c-2134-4891-8353-ef16d8412c9a</td>\n",
              "      <td>{'userSurveyRating': 4.0, 'wizardSurveyTaskSuc...</td>\n",
              "    </tr>\n",
              "    <tr>\n",
              "      <th>1</th>\n",
              "      <td>U21E41CQP</td>\n",
              "      <td>[{'text': 'Hello, I am looking to book a vacat...</td>\n",
              "      <td>U21DMV0KA</td>\n",
              "      <td>4a3bfa39-2c22-42c8-8694-32b4e34415e9</td>\n",
              "      <td>{'userSurveyRating': 3.0, 'wizardSurveyTaskSuc...</td>\n",
              "    </tr>\n",
              "    <tr>\n",
              "      <th>2</th>\n",
              "      <td>U21RP4FCY</td>\n",
              "      <td>[{'text': 'Hello there i am looking to go on a...</td>\n",
              "      <td>U21E0179B</td>\n",
              "      <td>6e67ed28-e94c-4fab-96b6-68569a92682f</td>\n",
              "      <td>{'userSurveyRating': 2.0, 'wizardSurveyTaskSuc...</td>\n",
              "    </tr>\n",
              "    <tr>\n",
              "      <th>3</th>\n",
              "      <td>U22HTHYNP</td>\n",
              "      <td>[{'text': 'Hi I'd like to go to Caprica from B...</td>\n",
              "      <td>U21DKG18C</td>\n",
              "      <td>5ae76e50-5b48-4166-9f6d-67aaabd7bcaa</td>\n",
              "      <td>{'userSurveyRating': 5.0, 'wizardSurveyTaskSuc...</td>\n",
              "    </tr>\n",
              "    <tr>\n",
              "      <th>4</th>\n",
              "      <td>U21E41CQP</td>\n",
              "      <td>[{'text': 'Hello, I am looking to book a trip ...</td>\n",
              "      <td>U21DMV0KA</td>\n",
              "      <td>24603086-bb53-431e-a0d8-1dcc63518ba9</td>\n",
              "      <td>{'userSurveyRating': 5.0, 'wizardSurveyTaskSuc...</td>\n",
              "    </tr>\n",
              "  </tbody>\n",
              "</table>\n",
              "</div>"
            ],
            "text/plain": [
              "     user_id  ...                                             labels\n",
              "0  U22HTHYNP  ...  {'userSurveyRating': 4.0, 'wizardSurveyTaskSuc...\n",
              "1  U21E41CQP  ...  {'userSurveyRating': 3.0, 'wizardSurveyTaskSuc...\n",
              "2  U21RP4FCY  ...  {'userSurveyRating': 2.0, 'wizardSurveyTaskSuc...\n",
              "3  U22HTHYNP  ...  {'userSurveyRating': 5.0, 'wizardSurveyTaskSuc...\n",
              "4  U21E41CQP  ...  {'userSurveyRating': 5.0, 'wizardSurveyTaskSuc...\n",
              "\n",
              "[5 rows x 5 columns]"
            ]
          },
          "metadata": {
            "tags": []
          },
          "execution_count": 16
        }
      ]
    },
    {
      "cell_type": "code",
      "metadata": {
        "id": "S96tkDNHrto5",
        "colab_type": "code",
        "outputId": "100d40fa-4f34-456b-c9c9-2188f3fa3ebc",
        "colab": {
          "base_uri": "https://localhost:8080/",
          "height": 34
        }
      },
      "source": [
        "df['id'].nunique() # There are 1369 unique ID for the dialogue"
      ],
      "execution_count": 17,
      "outputs": [
        {
          "output_type": "execute_result",
          "data": {
            "text/plain": [
              "1369"
            ]
          },
          "metadata": {
            "tags": []
          },
          "execution_count": 17
        }
      ]
    },
    {
      "cell_type": "code",
      "metadata": {
        "id": "uyFJyy1frHkV",
        "colab_type": "code",
        "colab": {}
      },
      "source": [
        "# labels is a nested dictionary\n",
        "labels_df = json_normalize(df['labels'])"
      ],
      "execution_count": 0,
      "outputs": []
    },
    {
      "cell_type": "code",
      "metadata": {
        "id": "SZkcT2nWrnQT",
        "colab_type": "code",
        "outputId": "af64ba69-4467-4403-bed5-6ec98af28928",
        "colab": {
          "base_uri": "https://localhost:8080/",
          "height": 204
        }
      },
      "source": [
        "labels_df.head()"
      ],
      "execution_count": 19,
      "outputs": [
        {
          "output_type": "execute_result",
          "data": {
            "text/html": [
              "<div>\n",
              "<style scoped>\n",
              "    .dataframe tbody tr th:only-of-type {\n",
              "        vertical-align: middle;\n",
              "    }\n",
              "\n",
              "    .dataframe tbody tr th {\n",
              "        vertical-align: top;\n",
              "    }\n",
              "\n",
              "    .dataframe thead th {\n",
              "        text-align: right;\n",
              "    }\n",
              "</style>\n",
              "<table border=\"1\" class=\"dataframe\">\n",
              "  <thead>\n",
              "    <tr style=\"text-align: right;\">\n",
              "      <th></th>\n",
              "      <th>userSurveyRating</th>\n",
              "      <th>wizardSurveyTaskSuccessful</th>\n",
              "    </tr>\n",
              "  </thead>\n",
              "  <tbody>\n",
              "    <tr>\n",
              "      <th>0</th>\n",
              "      <td>4.0</td>\n",
              "      <td>True</td>\n",
              "    </tr>\n",
              "    <tr>\n",
              "      <th>1</th>\n",
              "      <td>3.0</td>\n",
              "      <td>True</td>\n",
              "    </tr>\n",
              "    <tr>\n",
              "      <th>2</th>\n",
              "      <td>2.0</td>\n",
              "      <td>False</td>\n",
              "    </tr>\n",
              "    <tr>\n",
              "      <th>3</th>\n",
              "      <td>5.0</td>\n",
              "      <td>True</td>\n",
              "    </tr>\n",
              "    <tr>\n",
              "      <th>4</th>\n",
              "      <td>5.0</td>\n",
              "      <td>True</td>\n",
              "    </tr>\n",
              "  </tbody>\n",
              "</table>\n",
              "</div>"
            ],
            "text/plain": [
              "   userSurveyRating  wizardSurveyTaskSuccessful\n",
              "0               4.0                        True\n",
              "1               3.0                        True\n",
              "2               2.0                       False\n",
              "3               5.0                        True\n",
              "4               5.0                        True"
            ]
          },
          "metadata": {
            "tags": []
          },
          "execution_count": 19
        }
      ]
    },
    {
      "cell_type": "markdown",
      "metadata": {
        "id": "hFeJ6uqDM4of",
        "colab_type": "text"
      },
      "source": [
        "`userSurveyRating` - value that represents the user’s satisfaction with the Wizard’s service, ranging from 1 – complete dissatisfaction to 5 – complete satisfaction\n",
        "\n",
        "`wizardSurveyTaskSuccessful` - boolean which is true if the wizard thinks at the end of the dialogue that the user’s goal was achieved"
      ]
    },
    {
      "cell_type": "code",
      "metadata": {
        "id": "zNW5wq9Ashn-",
        "colab_type": "code",
        "colab": {}
      },
      "source": [
        "# Attempted json_normalize but kept getting the error: 'list' object has no attribute 'values'\n",
        "# This happens because of list enclosing each of the dictionary.\n",
        "#   - Multiple dictionaries with matching keys enclosed by a list.\n",
        "#   - A dictionary with keys as columns and values in the form of list.\n",
        "\n",
        "# Thus we try another approach\n",
        "text_list = []\n",
        "for item in df['turns']:\n",
        "  text_list.append(item)\n",
        "turns_df = pd.DataFrame(text_list)"
      ],
      "execution_count": 0,
      "outputs": []
    },
    {
      "cell_type": "code",
      "metadata": {
        "id": "MuzW449PiBjp",
        "colab_type": "code",
        "outputId": "163a2777-aecd-4ba1-a686-691bf6cabd15",
        "colab": {
          "base_uri": "https://localhost:8080/",
          "height": 335
        }
      },
      "source": [
        "turns_df.head(2) # Every row is a dialogue "
      ],
      "execution_count": 21,
      "outputs": [
        {
          "output_type": "execute_result",
          "data": {
            "text/html": [
              "<div>\n",
              "<style scoped>\n",
              "    .dataframe tbody tr th:only-of-type {\n",
              "        vertical-align: middle;\n",
              "    }\n",
              "\n",
              "    .dataframe tbody tr th {\n",
              "        vertical-align: top;\n",
              "    }\n",
              "\n",
              "    .dataframe thead th {\n",
              "        text-align: right;\n",
              "    }\n",
              "</style>\n",
              "<table border=\"1\" class=\"dataframe\">\n",
              "  <thead>\n",
              "    <tr style=\"text-align: right;\">\n",
              "      <th></th>\n",
              "      <th>0</th>\n",
              "      <th>1</th>\n",
              "      <th>2</th>\n",
              "      <th>3</th>\n",
              "      <th>4</th>\n",
              "      <th>5</th>\n",
              "      <th>6</th>\n",
              "      <th>7</th>\n",
              "      <th>8</th>\n",
              "      <th>9</th>\n",
              "      <th>10</th>\n",
              "      <th>11</th>\n",
              "      <th>12</th>\n",
              "      <th>13</th>\n",
              "      <th>14</th>\n",
              "      <th>15</th>\n",
              "      <th>16</th>\n",
              "      <th>17</th>\n",
              "      <th>18</th>\n",
              "      <th>19</th>\n",
              "      <th>20</th>\n",
              "      <th>21</th>\n",
              "      <th>22</th>\n",
              "      <th>23</th>\n",
              "      <th>24</th>\n",
              "      <th>25</th>\n",
              "      <th>26</th>\n",
              "      <th>27</th>\n",
              "      <th>28</th>\n",
              "      <th>29</th>\n",
              "      <th>30</th>\n",
              "      <th>31</th>\n",
              "      <th>32</th>\n",
              "      <th>33</th>\n",
              "      <th>34</th>\n",
              "      <th>35</th>\n",
              "      <th>36</th>\n",
              "      <th>37</th>\n",
              "      <th>38</th>\n",
              "      <th>39</th>\n",
              "      <th>40</th>\n",
              "      <th>41</th>\n",
              "      <th>42</th>\n",
              "      <th>43</th>\n",
              "      <th>44</th>\n",
              "      <th>45</th>\n",
              "      <th>46</th>\n",
              "      <th>47</th>\n",
              "    </tr>\n",
              "  </thead>\n",
              "  <tbody>\n",
              "    <tr>\n",
              "      <th>0</th>\n",
              "      <td>{'text': 'I'd like to book a trip to Atlantis ...</td>\n",
              "      <td>{'db': {'result': [[{'trip': {'returning': {'d...</td>\n",
              "      <td>{'text': 'Yes, how about going to Neverland fr...</td>\n",
              "      <td>{'db': {'result': [[], [], [], [], [], []], 's...</td>\n",
              "      <td>{'text': 'I have no flexibility for dates... b...</td>\n",
              "      <td>{'db': {'result': [[]], 'search': [{'ORIGIN_CI...</td>\n",
              "      <td>{'text': 'I suppose I'll speak with my husband...</td>\n",
              "      <td>None</td>\n",
              "      <td>None</td>\n",
              "      <td>None</td>\n",
              "      <td>None</td>\n",
              "      <td>None</td>\n",
              "      <td>None</td>\n",
              "      <td>None</td>\n",
              "      <td>None</td>\n",
              "      <td>None</td>\n",
              "      <td>None</td>\n",
              "      <td>None</td>\n",
              "      <td>None</td>\n",
              "      <td>None</td>\n",
              "      <td>None</td>\n",
              "      <td>None</td>\n",
              "      <td>None</td>\n",
              "      <td>None</td>\n",
              "      <td>None</td>\n",
              "      <td>None</td>\n",
              "      <td>None</td>\n",
              "      <td>None</td>\n",
              "      <td>None</td>\n",
              "      <td>None</td>\n",
              "      <td>None</td>\n",
              "      <td>None</td>\n",
              "      <td>None</td>\n",
              "      <td>None</td>\n",
              "      <td>None</td>\n",
              "      <td>None</td>\n",
              "      <td>None</td>\n",
              "      <td>None</td>\n",
              "      <td>None</td>\n",
              "      <td>None</td>\n",
              "      <td>None</td>\n",
              "      <td>None</td>\n",
              "      <td>None</td>\n",
              "      <td>None</td>\n",
              "      <td>None</td>\n",
              "      <td>None</td>\n",
              "      <td>None</td>\n",
              "      <td>None</td>\n",
              "    </tr>\n",
              "    <tr>\n",
              "      <th>1</th>\n",
              "      <td>{'text': 'Hello, I am looking to book a vacati...</td>\n",
              "      <td>{'db': {'result': [[{'trip': {'returning': {'d...</td>\n",
              "      <td>{'text': 'What about a trip from Gotham City t...</td>\n",
              "      <td>{'db': {'result': [[{'trip': {'returning': {'d...</td>\n",
              "      <td>{'text': 'Would any packages to Mos Eisley be ...</td>\n",
              "      <td>{'db': {'result': [[{'trip': {'returning': {'d...</td>\n",
              "      <td>{'text': 'You know what, I'd like to try and v...</td>\n",
              "      <td>{'db': {'result': [[{'trip': {'returning': {'d...</td>\n",
              "      <td>{'text': 'Do you have any trips from Gotham Ci...</td>\n",
              "      <td>{'db': {'result': [[{'trip': {'returning': {'d...</td>\n",
              "      <td>{'text': 'No, that's too far for me. I need a ...</td>\n",
              "      <td>{'db': {'result': [[{'trip': {'returning': {'d...</td>\n",
              "      <td>{'text': 'How many days would I be in Kobe?', ...</td>\n",
              "      <td>{'db': {'result': [], 'search': []}, 'text': '...</td>\n",
              "      <td>{'text': 'What would the price be if I shorten...</td>\n",
              "      <td>{'db': {'result': [[{'trip': {'returning': {'d...</td>\n",
              "      <td>{'text': 'Ok, then I would like to purchase th...</td>\n",
              "      <td>{'db': {'result': [[{'trip': {'returning': {'d...</td>\n",
              "      <td>{'text': 'Yes, I would like to book this packa...</td>\n",
              "      <td>{'db': {'result': [], 'search': []}, 'text': '...</td>\n",
              "      <td>None</td>\n",
              "      <td>None</td>\n",
              "      <td>None</td>\n",
              "      <td>None</td>\n",
              "      <td>None</td>\n",
              "      <td>None</td>\n",
              "      <td>None</td>\n",
              "      <td>None</td>\n",
              "      <td>None</td>\n",
              "      <td>None</td>\n",
              "      <td>None</td>\n",
              "      <td>None</td>\n",
              "      <td>None</td>\n",
              "      <td>None</td>\n",
              "      <td>None</td>\n",
              "      <td>None</td>\n",
              "      <td>None</td>\n",
              "      <td>None</td>\n",
              "      <td>None</td>\n",
              "      <td>None</td>\n",
              "      <td>None</td>\n",
              "      <td>None</td>\n",
              "      <td>None</td>\n",
              "      <td>None</td>\n",
              "      <td>None</td>\n",
              "      <td>None</td>\n",
              "      <td>None</td>\n",
              "      <td>None</td>\n",
              "    </tr>\n",
              "  </tbody>\n",
              "</table>\n",
              "</div>"
            ],
            "text/plain": [
              "                                                   0  ...    47\n",
              "0  {'text': 'I'd like to book a trip to Atlantis ...  ...  None\n",
              "1  {'text': 'Hello, I am looking to book a vacati...  ...  None\n",
              "\n",
              "[2 rows x 48 columns]"
            ]
          },
          "metadata": {
            "tags": []
          },
          "execution_count": 21
        }
      ]
    },
    {
      "cell_type": "code",
      "metadata": {
        "id": "P6SG1ZTHPoxi",
        "colab_type": "code",
        "colab": {}
      },
      "source": [
        "turns_df.replace(np.nan,'',inplace=True) # Replace all null values"
      ],
      "execution_count": 0,
      "outputs": []
    },
    {
      "cell_type": "code",
      "metadata": {
        "id": "JrfuJYPWfcaB",
        "colab_type": "code",
        "colab": {}
      },
      "source": [
        "turns_df_T = turns_df.transpose() # Transposed the dataframe to have proper conversation turns"
      ],
      "execution_count": 0,
      "outputs": []
    },
    {
      "cell_type": "code",
      "metadata": {
        "id": "bohC-0R5jezD",
        "colab_type": "code",
        "colab": {}
      },
      "source": [
        "# Iterates through the data frame and gets all values with a text key\n",
        "convo_text = ''\n",
        "for i in turns_df_T:                                 # 1369 columns\n",
        "  for j in range(0,48):                              # 48 rows\n",
        "    try:\n",
        "      get_text = turns_df_T[i][j].get('text')        # Gets the value from the corresponding key\n",
        "      convo_text += get_text + ' '                   # Concatenates all text\n",
        "    except AttributeError:\n",
        "      convo_text += ''                               # Concatenates '' if there is no text key - used for switching conversations"
      ],
      "execution_count": 0,
      "outputs": []
    },
    {
      "cell_type": "markdown",
      "metadata": {
        "id": "CeAAajV7zKU_",
        "colab_type": "text"
      },
      "source": [
        "# Data Preprocessing"
      ]
    },
    {
      "cell_type": "code",
      "metadata": {
        "id": "pen9_RKDsJtO",
        "colab_type": "code",
        "outputId": "cf4cb701-0d07-4e8e-82af-0675cc43c6ed",
        "colab": {
          "base_uri": "https://localhost:8080/",
          "height": 221
        }
      },
      "source": [
        "# Conversation sample\n",
        "pp.pprint(convo_text[0:888]) "
      ],
      "execution_count": 25,
      "outputs": [
        {
          "output_type": "stream",
          "text": [
            "(\"I'd like to book a trip to Atlantis from Caprica on Saturday, August 13, \"\n",
            " '2016 for 8 adults. I have a tight budget of 1700. Hi...I checked a few '\n",
            " 'options for you, and unfortunately, we do not currently have any trips that '\n",
            " 'meet this criteria.  Would you like to book an alternate travel option? Yes, '\n",
            " 'how about going to Neverland from Caprica on August 13, 2016 for 5 adults. '\n",
            " 'For this trip, my budget would be 1900. I checked the availability for this '\n",
            " 'date and there were no trips available.  Would you like to select some '\n",
            " 'alternate dates? I have no flexibility for dates... but I can leave from '\n",
            " 'Atlantis rather than Caprica. How about that? I checked the availability for '\n",
            " 'that date and there were no trips available.  Would you like to select some '\n",
            " \"alternate dates? I suppose I'll speak with my husband to see if we can \"\n",
            " \"choose other dates, and then I'll come back to you.Thanks for your help \")\n"
          ],
          "name": "stdout"
        }
      ]
    },
    {
      "cell_type": "markdown",
      "metadata": {
        "id": "Qf7O2bagT8-c",
        "colab_type": "text"
      },
      "source": [
        "## Contractions"
      ]
    },
    {
      "cell_type": "code",
      "metadata": {
        "id": "zHTbRGEyOi5p",
        "colab_type": "code",
        "outputId": "ce127877-4f85-477a-f74c-be2e3dde2758",
        "colab": {
          "base_uri": "https://localhost:8080/",
          "height": 224
        }
      },
      "source": [
        "!wget -c \"https://s3.amazonaws.com/dl4j-distribution/GoogleNews-vectors-negative300.bin.gz\""
      ],
      "execution_count": 26,
      "outputs": [
        {
          "output_type": "stream",
          "text": [
            "--2020-03-24 19:09:23--  https://s3.amazonaws.com/dl4j-distribution/GoogleNews-vectors-negative300.bin.gz\n",
            "Resolving s3.amazonaws.com (s3.amazonaws.com)... 52.216.20.67\n",
            "Connecting to s3.amazonaws.com (s3.amazonaws.com)|52.216.20.67|:443... connected.\n",
            "HTTP request sent, awaiting response... 200 OK\n",
            "Length: 1647046227 (1.5G) [application/x-gzip]\n",
            "Saving to: ‘GoogleNews-vectors-negative300.bin.gz’\n",
            "\n",
            "GoogleNews-vectors- 100%[===================>]   1.53G  47.5MB/s    in 34s     \n",
            "\n",
            "2020-03-24 19:09:57 (46.5 MB/s) - ‘GoogleNews-vectors-negative300.bin.gz’ saved [1647046227/1647046227]\n",
            "\n"
          ],
          "name": "stdout"
        }
      ]
    },
    {
      "cell_type": "code",
      "metadata": {
        "id": "HFqSGgW3-Kr4",
        "colab_type": "code",
        "outputId": "3d106753-5930-41eb-c902-c38a7cc1208b",
        "colab": {
          "base_uri": "https://localhost:8080/",
          "height": 34
        }
      },
      "source": [
        "len(convo_text[0:134175])/len(convo_text) # Approx. 10% of dataset"
      ],
      "execution_count": 75,
      "outputs": [
        {
          "output_type": "execute_result",
          "data": {
            "text/plain": [
              "0.10124420774473858"
            ]
          },
          "metadata": {
            "tags": []
          },
          "execution_count": 75
        }
      ]
    },
    {
      "cell_type": "code",
      "metadata": {
        "id": "9tzK-8K4G9ig",
        "colab_type": "code",
        "colab": {
          "base_uri": "https://localhost:8080/",
          "height": 68
        },
        "outputId": "3199f815-a8ab-45f5-c900-b353692029f3"
      },
      "source": [
        "pp.pprint(convo_text[134000:134175]) # Logical end of conversation"
      ],
      "execution_count": 125,
      "outputs": [
        {
          "output_type": "stream",
          "text": [
            "('Would you like me to book this package? Hold your horse! It sounds like a '\n",
            " 'great deal but I need to check with my bride first. I will get back to you.  '\n",
            " 'Thank you for your help.')\n"
          ],
          "name": "stdout"
        }
      ]
    },
    {
      "cell_type": "code",
      "metadata": {
        "id": "3N-xX9O57ppH",
        "colab_type": "code",
        "colab": {}
      },
      "source": [
        "convo_text_sample = convo_text[0:134175]\n",
        "#convo_text_sample = convo_text[0:round(len(convo_text) * 0.10)]"
      ],
      "execution_count": 0,
      "outputs": []
    },
    {
      "cell_type": "code",
      "metadata": {
        "id": "-ge-h0J3Hbz5",
        "colab_type": "code",
        "colab": {}
      },
      "source": [
        "# Expand contractions\n",
        "# - Load semantic vector model in gensim keyedvectors format from disk\n",
        "cont = Contractions('GoogleNews-vectors-negative300.bin.gz')"
      ],
      "execution_count": 0,
      "outputs": []
    },
    {
      "cell_type": "code",
      "metadata": {
        "id": "9bsnbjj-EWYD",
        "colab_type": "code",
        "colab": {
          "base_uri": "https://localhost:8080/",
          "height": 88
        },
        "outputId": "6ac66f1a-a60d-44f5-d09d-7e7f5a0eca6e"
      },
      "source": [
        "start = default_timer()\n",
        "expand_convo_text_sample_false = list(cont.expand_texts([convo_text_sample], precise=False)) #this part takes forever\n",
        "end = default_timer()\n",
        "print(f\"elapsed time: {end-start}s\")"
      ],
      "execution_count": 79,
      "outputs": [
        {
          "output_type": "stream",
          "text": [
            "/usr/local/lib/python3.6/dist-packages/smart_open/smart_open_lib.py:410: UserWarning: This function is deprecated, use smart_open.open instead. See the migration notes for details: https://github.com/RaRe-Technologies/smart_open/blob/master/README.rst#migrating-to-the-new-open-function\n",
            "  'See the migration notes for details: %s' % _MIGRATION_NOTES_URL\n"
          ],
          "name": "stderr"
        },
        {
          "output_type": "stream",
          "text": [
            "elapsed time: 736.7734251849997s\n"
          ],
          "name": "stdout"
        }
      ]
    },
    {
      "cell_type": "code",
      "metadata": {
        "id": "MXJSeNOgNcEU",
        "colab_type": "code",
        "colab": {
          "base_uri": "https://localhost:8080/",
          "height": 34
        },
        "outputId": "c6c286a3-0913-47dc-b76f-e0a77368d1b3"
      },
      "source": [
        "start = default_timer()\n",
        "expand_convo_text_sample_false = str(list(cont.expand_texts([convo_text_sample], precise=False))) #this part takes forever\n",
        "end = default_timer()\n",
        "print(f\"elapsed time: {end-start}s\")"
      ],
      "execution_count": 96,
      "outputs": [
        {
          "output_type": "stream",
          "text": [
            "elapsed time: 609.4058134629995s\n"
          ],
          "name": "stdout"
        }
      ]
    },
    {
      "cell_type": "code",
      "metadata": {
        "id": "ImzZA8BiEQ5B",
        "colab_type": "code",
        "colab": {
          "base_uri": "https://localhost:8080/",
          "height": 34
        },
        "outputId": "625db332-be8d-4bdf-d5be-1327b5583ad9"
      },
      "source": [
        "print(f\"elapsed time: {(end-start)/60} min\")"
      ],
      "execution_count": 97,
      "outputs": [
        {
          "output_type": "stream",
          "text": [
            "elapsed time: 10.156763557716658 min\n"
          ],
          "name": "stdout"
        }
      ]
    },
    {
      "cell_type": "markdown",
      "metadata": {
        "id": "yPj0T71h5Vl9",
        "colab_type": "text"
      },
      "source": [
        "## Tokenization"
      ]
    },
    {
      "cell_type": "code",
      "metadata": {
        "id": "2xYbWKne5bnM",
        "colab_type": "code",
        "outputId": "b3e76f8e-e87a-40f7-abd1-2fe884edaffd",
        "colab": {
          "base_uri": "https://localhost:8080/",
          "height": 68
        }
      },
      "source": [
        "nltk.download('punkt') # Punkt sentence tokenizer"
      ],
      "execution_count": 84,
      "outputs": [
        {
          "output_type": "stream",
          "text": [
            "[nltk_data] Downloading package punkt to /root/nltk_data...\n",
            "[nltk_data]   Package punkt is already up-to-date!\n"
          ],
          "name": "stdout"
        },
        {
          "output_type": "execute_result",
          "data": {
            "text/plain": [
              "True"
            ]
          },
          "metadata": {
            "tags": []
          },
          "execution_count": 84
        }
      ]
    },
    {
      "cell_type": "code",
      "metadata": {
        "id": "JWpurcuf-Ye6",
        "colab_type": "code",
        "outputId": "bba89b74-12c7-48ca-9ca3-2593b1974391",
        "colab": {
          "base_uri": "https://localhost:8080/",
          "height": 340
        }
      },
      "source": [
        "#split into sentences\n",
        "tokenized_sent = sent_tokenize(expand_convo_text_sample_false)\n",
        "pp.pprint(tokenized_sent[0:13])"
      ],
      "execution_count": 99,
      "outputs": [
        {
          "output_type": "stream",
          "text": [
            "['[\"I would like to book a trip to Atlantis from Caprica on Saturday, August '\n",
            " '13, 2016 for 8 adults.',\n",
            " 'I have a tight budget of 1700.',\n",
            " 'Hi...I checked a few options for you, and unfortunately, we do not currently '\n",
            " 'have any trips that meet this criteria.',\n",
            " 'Would you like to book an alternate travel option?',\n",
            " 'Yes, how about going to Neverland from Caprica on August 13, 2016 for 5 '\n",
            " 'adults.',\n",
            " 'For this trip, my budget would be 1900.',\n",
            " 'I checked the availability for this date and there were no trips available.',\n",
            " 'Would you like to select some alternate dates?',\n",
            " 'I have no flexibility for dates... but I can leave from Atlantis rather than '\n",
            " 'Caprica.',\n",
            " 'How about that?',\n",
            " 'I checked the availability for that date and there were no trips available.',\n",
            " 'Would you like to select some alternate dates?',\n",
            " 'I suppose I will speak with my husband to see if we can choose other dates, '\n",
            " 'and then I will come back to you.Thanks for your help Hello, I am looking to '\n",
            " 'book a vacation from Gotham City to Mos Eisley for $2100.']\n"
          ],
          "name": "stdout"
        }
      ]
    },
    {
      "cell_type": "code",
      "metadata": {
        "id": "JHMmiSDO_ILw",
        "colab_type": "code",
        "outputId": "7796717c-a8e2-4312-a1f7-e91f68e960a4",
        "colab": {
          "base_uri": "https://localhost:8080/",
          "height": 34
        }
      },
      "source": [
        "len(tokenized_sent)"
      ],
      "execution_count": 100,
      "outputs": [
        {
          "output_type": "execute_result",
          "data": {
            "text/plain": [
              "2517"
            ]
          },
          "metadata": {
            "tags": []
          },
          "execution_count": 100
        }
      ]
    },
    {
      "cell_type": "code",
      "metadata": {
        "id": "ji6_PAgJEvlv",
        "colab_type": "code",
        "outputId": "656682c2-24a4-4ff1-8510-dc66f62e1b56",
        "colab": {
          "base_uri": "https://localhost:8080/",
          "height": 357
        }
      },
      "source": [
        "#split into words\n",
        "tokenized_words=[]\n",
        "tokenized_words.extend(word for word in word_tokenize(str(tokenized_sent)))\n",
        "pp.pprint(tokenized_words[0:20])"
      ],
      "execution_count": 101,
      "outputs": [
        {
          "output_type": "stream",
          "text": [
            "['[',\n",
            " \"'\",\n",
            " '[',\n",
            " '``',\n",
            " 'I',\n",
            " 'would',\n",
            " 'like',\n",
            " 'to',\n",
            " 'book',\n",
            " 'a',\n",
            " 'trip',\n",
            " 'to',\n",
            " 'Atlantis',\n",
            " 'from',\n",
            " 'Caprica',\n",
            " 'on',\n",
            " 'Saturday',\n",
            " ',',\n",
            " 'August',\n",
            " '13']\n"
          ],
          "name": "stdout"
        }
      ]
    },
    {
      "cell_type": "markdown",
      "metadata": {
        "id": "L6F_mTQzFnSP",
        "colab_type": "text"
      },
      "source": [
        "## Punctuation & Lower Case"
      ]
    },
    {
      "cell_type": "code",
      "metadata": {
        "id": "wmUhpSFsJcnU",
        "colab_type": "code",
        "colab": {}
      },
      "source": [
        "string.punctuation = string.punctuation + '``' + '...'"
      ],
      "execution_count": 0,
      "outputs": []
    },
    {
      "cell_type": "code",
      "metadata": {
        "id": "x3PxB5H4Qzwj",
        "colab_type": "code",
        "colab": {
          "base_uri": "https://localhost:8080/",
          "height": 34
        },
        "outputId": "8e462eea-f2e6-4a18-fa57-cb0564a71b7a"
      },
      "source": [
        "string.punctuation"
      ],
      "execution_count": 117,
      "outputs": [
        {
          "output_type": "execute_result",
          "data": {
            "text/plain": [
              "'!\"#$%&\\'()*+,-./:;<=>?@[\\\\]^_`{|}~````[\\'``\\', \\'...\\']``...'"
            ]
          },
          "metadata": {
            "tags": []
          },
          "execution_count": 117
        }
      ]
    },
    {
      "cell_type": "code",
      "metadata": {
        "id": "UGiIb7YfFsew",
        "colab_type": "code",
        "outputId": "d60c5407-d634-4113-81d5-6f4419127328",
        "colab": {
          "base_uri": "https://localhost:8080/",
          "height": 54
        }
      },
      "source": [
        "# Removes punctuation\n",
        "no_punct = [token for token in tokenized_words if token not in string.punctuation] \n",
        "print(no_punct[0:20])"
      ],
      "execution_count": 118,
      "outputs": [
        {
          "output_type": "stream",
          "text": [
            "['I', 'would', 'like', 'to', 'book', 'a', 'trip', 'to', 'Atlantis', 'from', 'Caprica', 'on', 'Saturday', 'August', '13', '2016', 'for', '8', 'adults', \"'I\"]\n"
          ],
          "name": "stdout"
        }
      ]
    },
    {
      "cell_type": "code",
      "metadata": {
        "id": "4ofBua-nGuYE",
        "colab_type": "code",
        "outputId": "c76fda0c-3bcf-4114-a6f5-422638a2d2d8",
        "colab": {
          "base_uri": "https://localhost:8080/",
          "height": 54
        }
      },
      "source": [
        "# Lowercase text\n",
        "data_lower = [word.lower() for word in no_punct]\n",
        "print(data_lower[0:20])"
      ],
      "execution_count": 119,
      "outputs": [
        {
          "output_type": "stream",
          "text": [
            "['i', 'would', 'like', 'to', 'book', 'a', 'trip', 'to', 'atlantis', 'from', 'caprica', 'on', 'saturday', 'august', '13', '2016', 'for', '8', 'adults', \"'i\"]\n"
          ],
          "name": "stdout"
        }
      ]
    },
    {
      "cell_type": "markdown",
      "metadata": {
        "id": "DvNQtNPVG49I",
        "colab_type": "text"
      },
      "source": [
        "## Stop Words"
      ]
    },
    {
      "cell_type": "code",
      "metadata": {
        "id": "MgIaa9qiIuFP",
        "colab_type": "code",
        "outputId": "76cc10be-8f1d-4b52-827b-8cd65ecdd3d5",
        "colab": {
          "base_uri": "https://localhost:8080/",
          "height": 68
        }
      },
      "source": [
        "nltk.download('stopwords')"
      ],
      "execution_count": 120,
      "outputs": [
        {
          "output_type": "stream",
          "text": [
            "[nltk_data] Downloading package stopwords to /root/nltk_data...\n",
            "[nltk_data]   Package stopwords is already up-to-date!\n"
          ],
          "name": "stdout"
        },
        {
          "output_type": "execute_result",
          "data": {
            "text/plain": [
              "True"
            ]
          },
          "metadata": {
            "tags": []
          },
          "execution_count": 120
        }
      ]
    },
    {
      "cell_type": "code",
      "metadata": {
        "id": "MJUMTOcTIxZd",
        "colab_type": "code",
        "outputId": "dec4bad3-e26f-4549-9ca1-268ef7e52a32",
        "colab": {
          "base_uri": "https://localhost:8080/",
          "height": 54
        }
      },
      "source": [
        "stop_words = stopwords.words('english')\n",
        "#add_stop_words = ['\\'d]\n",
        "print(stop_words)"
      ],
      "execution_count": 121,
      "outputs": [
        {
          "output_type": "stream",
          "text": [
            "['i', 'me', 'my', 'myself', 'we', 'our', 'ours', 'ourselves', 'you', \"you're\", \"you've\", \"you'll\", \"you'd\", 'your', 'yours', 'yourself', 'yourselves', 'he', 'him', 'his', 'himself', 'she', \"she's\", 'her', 'hers', 'herself', 'it', \"it's\", 'its', 'itself', 'they', 'them', 'their', 'theirs', 'themselves', 'what', 'which', 'who', 'whom', 'this', 'that', \"that'll\", 'these', 'those', 'am', 'is', 'are', 'was', 'were', 'be', 'been', 'being', 'have', 'has', 'had', 'having', 'do', 'does', 'did', 'doing', 'a', 'an', 'the', 'and', 'but', 'if', 'or', 'because', 'as', 'until', 'while', 'of', 'at', 'by', 'for', 'with', 'about', 'against', 'between', 'into', 'through', 'during', 'before', 'after', 'above', 'below', 'to', 'from', 'up', 'down', 'in', 'out', 'on', 'off', 'over', 'under', 'again', 'further', 'then', 'once', 'here', 'there', 'when', 'where', 'why', 'how', 'all', 'any', 'both', 'each', 'few', 'more', 'most', 'other', 'some', 'such', 'no', 'nor', 'not', 'only', 'own', 'same', 'so', 'than', 'too', 'very', 's', 't', 'can', 'will', 'just', 'don', \"don't\", 'should', \"should've\", 'now', 'd', 'll', 'm', 'o', 're', 've', 'y', 'ain', 'aren', \"aren't\", 'couldn', \"couldn't\", 'didn', \"didn't\", 'doesn', \"doesn't\", 'hadn', \"hadn't\", 'hasn', \"hasn't\", 'haven', \"haven't\", 'isn', \"isn't\", 'ma', 'mightn', \"mightn't\", 'mustn', \"mustn't\", 'needn', \"needn't\", 'shan', \"shan't\", 'shouldn', \"shouldn't\", 'wasn', \"wasn't\", 'weren', \"weren't\", 'won', \"won't\", 'wouldn', \"wouldn't\"]\n"
          ],
          "name": "stdout"
        }
      ]
    },
    {
      "cell_type": "code",
      "metadata": {
        "id": "K6gxeqbRIfQs",
        "colab_type": "code",
        "colab": {}
      },
      "source": [
        "filtered_sent = []\n",
        "for word in data_lower:\n",
        "  if word not in stop_words:\n",
        "    filtered_sent.append(word)"
      ],
      "execution_count": 0,
      "outputs": []
    },
    {
      "cell_type": "code",
      "metadata": {
        "id": "LOR8jAEbIohh",
        "colab_type": "code",
        "outputId": "9bf87be9-6c10-403d-e4c9-09ca27ce93f4",
        "colab": {
          "base_uri": "https://localhost:8080/",
          "height": 357
        }
      },
      "source": [
        "filtered_sent[0:20]"
      ],
      "execution_count": 123,
      "outputs": [
        {
          "output_type": "execute_result",
          "data": {
            "text/plain": [
              "['would',\n",
              " 'like',\n",
              " 'book',\n",
              " 'trip',\n",
              " 'atlantis',\n",
              " 'caprica',\n",
              " 'saturday',\n",
              " 'august',\n",
              " '13',\n",
              " '2016',\n",
              " '8',\n",
              " 'adults',\n",
              " \"'i\",\n",
              " 'tight',\n",
              " 'budget',\n",
              " '1700',\n",
              " \"'hi\",\n",
              " 'checked',\n",
              " 'options',\n",
              " 'unfortunately']"
            ]
          },
          "metadata": {
            "tags": []
          },
          "execution_count": 123
        }
      ]
    },
    {
      "cell_type": "markdown",
      "metadata": {
        "id": "kdNT9auiRoKO",
        "colab_type": "text"
      },
      "source": [
        "## Stemming"
      ]
    },
    {
      "cell_type": "code",
      "metadata": {
        "id": "hJet3LjsJAjr",
        "colab_type": "code",
        "colab": {}
      },
      "source": [
        ""
      ],
      "execution_count": 0,
      "outputs": []
    }
  ]
}