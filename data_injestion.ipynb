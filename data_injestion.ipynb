{
  "nbformat": 4,
  "nbformat_minor": 0,
  "metadata": {
    "colab": {
      "name": "data_injestion.ipynb",
      "provenance": [],
      "mount_file_id": "1MRCL8Z4EfDQTrG1RVw20oqOYRLcpgxn1",
      "authorship_tag": "ABX9TyNfcIepImsALe/b07nvegu2"
    },
    "kernelspec": {
      "name": "python3",
      "display_name": "Python 3"
    },
    "accelerator": "TPU"
  },
  "cells": [
    {
      "cell_type": "code",
      "metadata": {
        "id": "krjAXNNE_pGo",
        "colab_type": "code",
        "colab": {}
      },
      "source": [
        "# Import statements\n",
        "import pandas as pd\n",
        "import numpy as np\n",
        "import pprint\n",
        "import json\n",
        "from pandas.io.json import json_normalize\n",
        "#import flat_table"
      ],
      "execution_count": 0,
      "outputs": []
    },
    {
      "cell_type": "markdown",
      "metadata": {
        "id": "xfX7scixzPlr",
        "colab_type": "text"
      },
      "source": [
        "# Data extraction"
      ]
    },
    {
      "cell_type": "code",
      "metadata": {
        "id": "KwMwbltd_wlu",
        "colab_type": "code",
        "colab": {}
      },
      "source": [
        "# Load JSON file into dataframe\n",
        "data = pd.read_json('/content/drive/My Drive/frames.json')\n",
        "df = pd.DataFrame(data)"
      ],
      "execution_count": 0,
      "outputs": []
    },
    {
      "cell_type": "code",
      "metadata": {
        "id": "1nJcJSb1lfi9",
        "colab_type": "code",
        "outputId": "23e8b781-d942-40da-b03f-fa2542a8c5f1",
        "colab": {
          "base_uri": "https://localhost:8080/",
          "height": 204
        }
      },
      "source": [
        "df.head() # Looks like turns and labels are nested dictionaries"
      ],
      "execution_count": 3,
      "outputs": [
        {
          "output_type": "execute_result",
          "data": {
            "text/html": [
              "<div>\n",
              "<style scoped>\n",
              "    .dataframe tbody tr th:only-of-type {\n",
              "        vertical-align: middle;\n",
              "    }\n",
              "\n",
              "    .dataframe tbody tr th {\n",
              "        vertical-align: top;\n",
              "    }\n",
              "\n",
              "    .dataframe thead th {\n",
              "        text-align: right;\n",
              "    }\n",
              "</style>\n",
              "<table border=\"1\" class=\"dataframe\">\n",
              "  <thead>\n",
              "    <tr style=\"text-align: right;\">\n",
              "      <th></th>\n",
              "      <th>user_id</th>\n",
              "      <th>turns</th>\n",
              "      <th>wizard_id</th>\n",
              "      <th>id</th>\n",
              "      <th>labels</th>\n",
              "    </tr>\n",
              "  </thead>\n",
              "  <tbody>\n",
              "    <tr>\n",
              "      <th>0</th>\n",
              "      <td>U22HTHYNP</td>\n",
              "      <td>[{'text': 'I'd like to book a trip to Atlantis...</td>\n",
              "      <td>U21DKG18C</td>\n",
              "      <td>e2c0fc6c-2134-4891-8353-ef16d8412c9a</td>\n",
              "      <td>{'userSurveyRating': 4.0, 'wizardSurveyTaskSuc...</td>\n",
              "    </tr>\n",
              "    <tr>\n",
              "      <th>1</th>\n",
              "      <td>U21E41CQP</td>\n",
              "      <td>[{'text': 'Hello, I am looking to book a vacat...</td>\n",
              "      <td>U21DMV0KA</td>\n",
              "      <td>4a3bfa39-2c22-42c8-8694-32b4e34415e9</td>\n",
              "      <td>{'userSurveyRating': 3.0, 'wizardSurveyTaskSuc...</td>\n",
              "    </tr>\n",
              "    <tr>\n",
              "      <th>2</th>\n",
              "      <td>U21RP4FCY</td>\n",
              "      <td>[{'text': 'Hello there i am looking to go on a...</td>\n",
              "      <td>U21E0179B</td>\n",
              "      <td>6e67ed28-e94c-4fab-96b6-68569a92682f</td>\n",
              "      <td>{'userSurveyRating': 2.0, 'wizardSurveyTaskSuc...</td>\n",
              "    </tr>\n",
              "    <tr>\n",
              "      <th>3</th>\n",
              "      <td>U22HTHYNP</td>\n",
              "      <td>[{'text': 'Hi I'd like to go to Caprica from B...</td>\n",
              "      <td>U21DKG18C</td>\n",
              "      <td>5ae76e50-5b48-4166-9f6d-67aaabd7bcaa</td>\n",
              "      <td>{'userSurveyRating': 5.0, 'wizardSurveyTaskSuc...</td>\n",
              "    </tr>\n",
              "    <tr>\n",
              "      <th>4</th>\n",
              "      <td>U21E41CQP</td>\n",
              "      <td>[{'text': 'Hello, I am looking to book a trip ...</td>\n",
              "      <td>U21DMV0KA</td>\n",
              "      <td>24603086-bb53-431e-a0d8-1dcc63518ba9</td>\n",
              "      <td>{'userSurveyRating': 5.0, 'wizardSurveyTaskSuc...</td>\n",
              "    </tr>\n",
              "  </tbody>\n",
              "</table>\n",
              "</div>"
            ],
            "text/plain": [
              "     user_id  ...                                             labels\n",
              "0  U22HTHYNP  ...  {'userSurveyRating': 4.0, 'wizardSurveyTaskSuc...\n",
              "1  U21E41CQP  ...  {'userSurveyRating': 3.0, 'wizardSurveyTaskSuc...\n",
              "2  U21RP4FCY  ...  {'userSurveyRating': 2.0, 'wizardSurveyTaskSuc...\n",
              "3  U22HTHYNP  ...  {'userSurveyRating': 5.0, 'wizardSurveyTaskSuc...\n",
              "4  U21E41CQP  ...  {'userSurveyRating': 5.0, 'wizardSurveyTaskSuc...\n",
              "\n",
              "[5 rows x 5 columns]"
            ]
          },
          "metadata": {
            "tags": []
          },
          "execution_count": 3
        }
      ]
    },
    {
      "cell_type": "code",
      "metadata": {
        "id": "S96tkDNHrto5",
        "colab_type": "code",
        "outputId": "af5a90f9-4bb1-447e-a458-bf012e4a36c8",
        "colab": {
          "base_uri": "https://localhost:8080/",
          "height": 34
        }
      },
      "source": [
        "df['id'].nunique() # There are 1369 unique ID for the dialogue"
      ],
      "execution_count": 4,
      "outputs": [
        {
          "output_type": "execute_result",
          "data": {
            "text/plain": [
              "1369"
            ]
          },
          "metadata": {
            "tags": []
          },
          "execution_count": 4
        }
      ]
    },
    {
      "cell_type": "code",
      "metadata": {
        "id": "uyFJyy1frHkV",
        "colab_type": "code",
        "colab": {}
      },
      "source": [
        "# labels is a nested dictionary\n",
        "labels_df = json_normalize(df['labels'])"
      ],
      "execution_count": 0,
      "outputs": []
    },
    {
      "cell_type": "code",
      "metadata": {
        "id": "SZkcT2nWrnQT",
        "colab_type": "code",
        "outputId": "c180619a-5640-412e-9e47-70950cdad61b",
        "colab": {
          "base_uri": "https://localhost:8080/",
          "height": 204
        }
      },
      "source": [
        "labels_df.head()"
      ],
      "execution_count": 6,
      "outputs": [
        {
          "output_type": "execute_result",
          "data": {
            "text/html": [
              "<div>\n",
              "<style scoped>\n",
              "    .dataframe tbody tr th:only-of-type {\n",
              "        vertical-align: middle;\n",
              "    }\n",
              "\n",
              "    .dataframe tbody tr th {\n",
              "        vertical-align: top;\n",
              "    }\n",
              "\n",
              "    .dataframe thead th {\n",
              "        text-align: right;\n",
              "    }\n",
              "</style>\n",
              "<table border=\"1\" class=\"dataframe\">\n",
              "  <thead>\n",
              "    <tr style=\"text-align: right;\">\n",
              "      <th></th>\n",
              "      <th>userSurveyRating</th>\n",
              "      <th>wizardSurveyTaskSuccessful</th>\n",
              "    </tr>\n",
              "  </thead>\n",
              "  <tbody>\n",
              "    <tr>\n",
              "      <th>0</th>\n",
              "      <td>4.0</td>\n",
              "      <td>True</td>\n",
              "    </tr>\n",
              "    <tr>\n",
              "      <th>1</th>\n",
              "      <td>3.0</td>\n",
              "      <td>True</td>\n",
              "    </tr>\n",
              "    <tr>\n",
              "      <th>2</th>\n",
              "      <td>2.0</td>\n",
              "      <td>False</td>\n",
              "    </tr>\n",
              "    <tr>\n",
              "      <th>3</th>\n",
              "      <td>5.0</td>\n",
              "      <td>True</td>\n",
              "    </tr>\n",
              "    <tr>\n",
              "      <th>4</th>\n",
              "      <td>5.0</td>\n",
              "      <td>True</td>\n",
              "    </tr>\n",
              "  </tbody>\n",
              "</table>\n",
              "</div>"
            ],
            "text/plain": [
              "   userSurveyRating  wizardSurveyTaskSuccessful\n",
              "0               4.0                        True\n",
              "1               3.0                        True\n",
              "2               2.0                       False\n",
              "3               5.0                        True\n",
              "4               5.0                        True"
            ]
          },
          "metadata": {
            "tags": []
          },
          "execution_count": 6
        }
      ]
    },
    {
      "cell_type": "markdown",
      "metadata": {
        "id": "hFeJ6uqDM4of",
        "colab_type": "text"
      },
      "source": [
        "`userSurveyRating` - value that represents the user’s satisfaction with the Wizard’s service, ranging from 1 – complete dissatisfaction to 5 – complete satisfaction\n",
        "\n",
        "`wizardSurveyTaskSuccessful` - boolean which is true if the wizard thinks at the end of the dialogue that the user’s goal was achieved"
      ]
    },
    {
      "cell_type": "code",
      "metadata": {
        "id": "zNW5wq9Ashn-",
        "colab_type": "code",
        "colab": {}
      },
      "source": [
        "# Attempted json_normalize but kept getting the error: 'list' object has no attribute 'values'\n",
        "# This happens because of list enclosing each of the dictionary.\n",
        "#   - Multiple dictionaries with matching keys enclosed by a list.\n",
        "#   - A dictionary with keys as columns and values in the form of list.\n",
        "\n",
        "# Thus we try another approach\n",
        "text_list = []\n",
        "for item in df['turns']:\n",
        "  text_list.append(item)\n",
        "turns_df = pd.DataFrame(text_list)"
      ],
      "execution_count": 0,
      "outputs": []
    },
    {
      "cell_type": "code",
      "metadata": {
        "id": "MuzW449PiBjp",
        "colab_type": "code",
        "outputId": "ad65bd64-7ca0-4aee-9d2e-28f9c60750ab",
        "colab": {
          "base_uri": "https://localhost:8080/",
          "height": 335
        }
      },
      "source": [
        "turns_df.head(2) # Every row is a dialogue "
      ],
      "execution_count": 158,
      "outputs": [
        {
          "output_type": "execute_result",
          "data": {
            "text/html": [
              "<div>\n",
              "<style scoped>\n",
              "    .dataframe tbody tr th:only-of-type {\n",
              "        vertical-align: middle;\n",
              "    }\n",
              "\n",
              "    .dataframe tbody tr th {\n",
              "        vertical-align: top;\n",
              "    }\n",
              "\n",
              "    .dataframe thead th {\n",
              "        text-align: right;\n",
              "    }\n",
              "</style>\n",
              "<table border=\"1\" class=\"dataframe\">\n",
              "  <thead>\n",
              "    <tr style=\"text-align: right;\">\n",
              "      <th></th>\n",
              "      <th>0</th>\n",
              "      <th>1</th>\n",
              "      <th>2</th>\n",
              "      <th>3</th>\n",
              "      <th>4</th>\n",
              "      <th>5</th>\n",
              "      <th>6</th>\n",
              "      <th>7</th>\n",
              "      <th>8</th>\n",
              "      <th>9</th>\n",
              "      <th>10</th>\n",
              "      <th>11</th>\n",
              "      <th>12</th>\n",
              "      <th>13</th>\n",
              "      <th>14</th>\n",
              "      <th>15</th>\n",
              "      <th>16</th>\n",
              "      <th>17</th>\n",
              "      <th>18</th>\n",
              "      <th>19</th>\n",
              "      <th>20</th>\n",
              "      <th>21</th>\n",
              "      <th>22</th>\n",
              "      <th>23</th>\n",
              "      <th>24</th>\n",
              "      <th>25</th>\n",
              "      <th>26</th>\n",
              "      <th>27</th>\n",
              "      <th>28</th>\n",
              "      <th>29</th>\n",
              "      <th>30</th>\n",
              "      <th>31</th>\n",
              "      <th>32</th>\n",
              "      <th>33</th>\n",
              "      <th>34</th>\n",
              "      <th>35</th>\n",
              "      <th>36</th>\n",
              "      <th>37</th>\n",
              "      <th>38</th>\n",
              "      <th>39</th>\n",
              "      <th>40</th>\n",
              "      <th>41</th>\n",
              "      <th>42</th>\n",
              "      <th>43</th>\n",
              "      <th>44</th>\n",
              "      <th>45</th>\n",
              "      <th>46</th>\n",
              "      <th>47</th>\n",
              "    </tr>\n",
              "  </thead>\n",
              "  <tbody>\n",
              "    <tr>\n",
              "      <th>0</th>\n",
              "      <td>{'text': 'I'd like to book a trip to Atlantis ...</td>\n",
              "      <td>{'db': {'result': [[{'trip': {'returning': {'d...</td>\n",
              "      <td>{'text': 'Yes, how about going to Neverland fr...</td>\n",
              "      <td>{'db': {'result': [[], [], [], [], [], []], 's...</td>\n",
              "      <td>{'text': 'I have no flexibility for dates... b...</td>\n",
              "      <td>{'db': {'result': [[]], 'search': [{'ORIGIN_CI...</td>\n",
              "      <td>{'text': 'I suppose I'll speak with my husband...</td>\n",
              "      <td></td>\n",
              "      <td></td>\n",
              "      <td></td>\n",
              "      <td></td>\n",
              "      <td></td>\n",
              "      <td></td>\n",
              "      <td></td>\n",
              "      <td></td>\n",
              "      <td></td>\n",
              "      <td></td>\n",
              "      <td></td>\n",
              "      <td></td>\n",
              "      <td></td>\n",
              "      <td></td>\n",
              "      <td></td>\n",
              "      <td></td>\n",
              "      <td></td>\n",
              "      <td></td>\n",
              "      <td></td>\n",
              "      <td></td>\n",
              "      <td></td>\n",
              "      <td></td>\n",
              "      <td></td>\n",
              "      <td></td>\n",
              "      <td></td>\n",
              "      <td></td>\n",
              "      <td></td>\n",
              "      <td></td>\n",
              "      <td></td>\n",
              "      <td></td>\n",
              "      <td></td>\n",
              "      <td></td>\n",
              "      <td></td>\n",
              "      <td></td>\n",
              "      <td></td>\n",
              "      <td></td>\n",
              "      <td></td>\n",
              "      <td></td>\n",
              "      <td></td>\n",
              "      <td></td>\n",
              "      <td></td>\n",
              "    </tr>\n",
              "    <tr>\n",
              "      <th>1</th>\n",
              "      <td>{'text': 'Hello, I am looking to book a vacati...</td>\n",
              "      <td>{'db': {'result': [[{'trip': {'returning': {'d...</td>\n",
              "      <td>{'text': 'What about a trip from Gotham City t...</td>\n",
              "      <td>{'db': {'result': [[{'trip': {'returning': {'d...</td>\n",
              "      <td>{'text': 'Would any packages to Mos Eisley be ...</td>\n",
              "      <td>{'db': {'result': [[{'trip': {'returning': {'d...</td>\n",
              "      <td>{'text': 'You know what, I'd like to try and v...</td>\n",
              "      <td>{'db': {'result': [[{'trip': {'returning': {'d...</td>\n",
              "      <td>{'text': 'Do you have any trips from Gotham Ci...</td>\n",
              "      <td>{'db': {'result': [[{'trip': {'returning': {'d...</td>\n",
              "      <td>{'text': 'No, that's too far for me. I need a ...</td>\n",
              "      <td>{'db': {'result': [[{'trip': {'returning': {'d...</td>\n",
              "      <td>{'text': 'How many days would I be in Kobe?', ...</td>\n",
              "      <td>{'db': {'result': [], 'search': []}, 'text': '...</td>\n",
              "      <td>{'text': 'What would the price be if I shorten...</td>\n",
              "      <td>{'db': {'result': [[{'trip': {'returning': {'d...</td>\n",
              "      <td>{'text': 'Ok, then I would like to purchase th...</td>\n",
              "      <td>{'db': {'result': [[{'trip': {'returning': {'d...</td>\n",
              "      <td>{'text': 'Yes, I would like to book this packa...</td>\n",
              "      <td>{'db': {'result': [], 'search': []}, 'text': '...</td>\n",
              "      <td></td>\n",
              "      <td></td>\n",
              "      <td></td>\n",
              "      <td></td>\n",
              "      <td></td>\n",
              "      <td></td>\n",
              "      <td></td>\n",
              "      <td></td>\n",
              "      <td></td>\n",
              "      <td></td>\n",
              "      <td></td>\n",
              "      <td></td>\n",
              "      <td></td>\n",
              "      <td></td>\n",
              "      <td></td>\n",
              "      <td></td>\n",
              "      <td></td>\n",
              "      <td></td>\n",
              "      <td></td>\n",
              "      <td></td>\n",
              "      <td></td>\n",
              "      <td></td>\n",
              "      <td></td>\n",
              "      <td></td>\n",
              "      <td></td>\n",
              "      <td></td>\n",
              "      <td></td>\n",
              "      <td></td>\n",
              "    </tr>\n",
              "  </tbody>\n",
              "</table>\n",
              "</div>"
            ],
            "text/plain": [
              "                                                   0  ... 47\n",
              "0  {'text': 'I'd like to book a trip to Atlantis ...  ...   \n",
              "1  {'text': 'Hello, I am looking to book a vacati...  ...   \n",
              "\n",
              "[2 rows x 48 columns]"
            ]
          },
          "metadata": {
            "tags": []
          },
          "execution_count": 158
        }
      ]
    },
    {
      "cell_type": "code",
      "metadata": {
        "id": "P6SG1ZTHPoxi",
        "colab_type": "code",
        "colab": {}
      },
      "source": [
        "turns_df.replace(np.nan,'',inplace=True) # Replace all null values"
      ],
      "execution_count": 0,
      "outputs": []
    },
    {
      "cell_type": "code",
      "metadata": {
        "id": "JrfuJYPWfcaB",
        "colab_type": "code",
        "colab": {}
      },
      "source": [
        "turns_df_T = turns_df.transpose() # Transposed the dataframe to have proper conversation turns"
      ],
      "execution_count": 0,
      "outputs": []
    },
    {
      "cell_type": "code",
      "metadata": {
        "id": "bohC-0R5jezD",
        "colab_type": "code",
        "colab": {}
      },
      "source": [
        "# Iterates through the data frame and gets all values with a text key\n",
        "convo_text = ''\n",
        "for i in turns_df_T:                                 # 1369 columns\n",
        "  for j in range(0,48):                              # 48 rows\n",
        "    try:\n",
        "      get_text = turns_df_T[i][j].get('text')        # Gets the value from the corresponding key\n",
        "      convo_text += get_text + ' '                   # Concatenates all text\n",
        "    except AttributeError:\n",
        "      convo_text += ''                               # Concatenates '' if there is no text key"
      ],
      "execution_count": 0,
      "outputs": []
    },
    {
      "cell_type": "markdown",
      "metadata": {
        "id": "CeAAajV7zKU_",
        "colab_type": "text"
      },
      "source": [
        "# Data Preprocessing"
      ]
    },
    {
      "cell_type": "code",
      "metadata": {
        "id": "pen9_RKDsJtO",
        "colab_type": "code",
        "colab": {
          "base_uri": "https://localhost:8080/",
          "height": 54
        },
        "outputId": "5d89af64-f376-4b72-debf-37586ec974f8"
      },
      "source": [
        "# Now we have our conversation data\n",
        "print(convo_text[0:888])"
      ],
      "execution_count": 166,
      "outputs": [
        {
          "output_type": "stream",
          "text": [
            "I'd like to book a trip to Atlantis from Caprica on Saturday, August 13, 2016 for 8 adults. I have a tight budget of 1700. Hi...I checked a few options for you, and unfortunately, we do not currently have any trips that meet this criteria.  Would you like to book an alternate travel option? Yes, how about going to Neverland from Caprica on August 13, 2016 for 5 adults. For this trip, my budget would be 1900. I checked the availability for this date and there were no trips available.  Would you like to select some alternate dates? I have no flexibility for dates... but I can leave from Atlantis rather than Caprica. How about that? I checked the availability for that date and there were no trips available.  Would you like to select some alternate dates? I suppose I'll speak with my husband to see if we can choose other dates, and then I'll come back to you.Thanks for your help \n"
          ],
          "name": "stdout"
        }
      ]
    },
    {
      "cell_type": "code",
      "metadata": {
        "id": "oQXEOWRZw7mp",
        "colab_type": "code",
        "colab": {}
      },
      "source": [
        ""
      ],
      "execution_count": 0,
      "outputs": []
    }
  ]
}