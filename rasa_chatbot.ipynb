{
 "cells": [
  {
   "cell_type": "markdown",
   "metadata": {},
   "source": [
    "# Building a conversational chatbot using Rasa"
   ]
  },
  {
   "cell_type": "markdown",
   "metadata": {},
   "source": [
    "## Import statements"
   ]
  },
  {
   "cell_type": "code",
   "execution_count": 89,
   "metadata": {},
   "outputs": [],
   "source": [
    "import logging, json, warnings\n",
    "warnings.filterwarnings('ignore')\n",
    "logging.basicConfig(level='INFO')\n",
    "\n",
    "import rasa.nlu\n",
    "import rasa.core\n",
    "import spacy"
   ]
  },
  {
   "cell_type": "markdown",
   "metadata": {},
   "source": [
    "## NLU training data"
   ]
  },
  {
   "cell_type": "code",
   "execution_count": 129,
   "metadata": {},
   "outputs": [
    {
     "name": "stdout",
     "output_type": "stream",
     "text": [
      "Writing 'nlu_md' (str) to file 'rasa_bot/data/nlu.md'.\n"
     ]
    }
   ],
   "source": [
    "nlu_md = '''\n",
    "## intent:greet\n",
    "- Hi\n",
    "- Hey\n",
    "- Hi bot\n",
    "- Hey bot\n",
    "- Hello\n",
    "- Good morning\n",
    "- hi again\n",
    "- hi folks\n",
    "- hi Mister\n",
    "- hi pal!\n",
    "- hi there\n",
    "- greetings\n",
    "- hello everybody\n",
    "- hello is anybody there\n",
    "- hello robot\n",
    "- hallo\n",
    "- heeey\n",
    "- hi hi\n",
    "- hey\n",
    "- hey hey\n",
    "- hello there\n",
    "- hi\n",
    "- hello\n",
    "- yo\n",
    "- hola\n",
    "- hi?\n",
    "- hey bot!\n",
    "- hello friend\n",
    "\n",
    "## intent:request_flight\n",
    "- im looking for a flight\n",
    "- i want to go on a trip\n",
    "- i want to book a flight\n",
    "- i want to book a trip\n",
    "- need a ticket \n",
    "- help me find a flight\n",
    "- get me out of here\n",
    "- i want to travel\n",
    "- i want to fly somewhere\n",
    "- can i get a flight\n",
    "- find me a flight\n",
    "- get me a flight\n",
    "- i want to go on a flight \n",
    "- i need a flight \n",
    "- i want a flight from [new york] (origin) to [toronto] (destination)\n",
    "- get me a flight from [seattle] (origin) to [denver] (destination)\n",
    "\n",
    "## intent:affirm\n",
    "- correct\n",
    "- ye\n",
    "- uh yes\n",
    "- let's do it\n",
    "- yeah\n",
    "- uh yes\n",
    "- um yes\n",
    "- that's correct\n",
    "- yes yes\n",
    "- right\n",
    "- yea\n",
    "- yes\n",
    "- yes right\n",
    "- yes and i dont care\n",
    "- right on\n",
    "- i love that\n",
    "- perfect\n",
    "- cool\n",
    "- dope\n",
    "- great\n",
    "\n",
    "## intent:deny\n",
    "- no\n",
    "- no new selection\n",
    "- no thanks\n",
    "- no thank you\n",
    "- uh no\n",
    "- breath no\n",
    "- do you have something else\n",
    "- no this does not work for me\n",
    "- not what i want\n",
    "\n",
    "## intent:inform\n",
    "- i'm coming from [toronto] (origin)\n",
    "- im coming from [new york] (origin)\n",
    "- starting from [vancouver] (origin)\n",
    "- start from [los angeles] (origin)\n",
    "- leave from [chicago] (origin)\n",
    "- leaving from [dallas] (origin)\n",
    "- departing from [denver] (origin)\n",
    "- depart from [seattle] (origin)\n",
    "- from [miami] (origin)\n",
    "- i'm going to [florida] (destination)\n",
    "- im going to [tokyo] (destination)\n",
    "- i want to go to [new york] (destination)\n",
    "- i want to get to [denver] (destination)\n",
    "- to [tokyo] (destination)\n",
    "- lets go to [miami] (destination)\n",
    "- let's go to [seattle] (destination)\n",
    "- i want to go to [new york] (destination) from [toronto] (origin)\n",
    "- get me from [miami] (origin) to [dallas] (destination)\n",
    "- im planning on leaving from [august 14] (depart_date) to [september 14] (return_date)\n",
    "- trip is planned from [august 14] (depart_date) to [september 14] (return_date)\n",
    "- i want to go from [jan 14] (depart_date) to [apr 14] (return_date)\n",
    "- leave on [may 14] (depart_date) and get back [june 14] (return_date)\n",
    "- leave on [may 4] (depart_date)\n",
    "- i want to leave on [january 12] (depart_date)\n",
    "- i planned to leave on [march 8]\n",
    "- come back [may 18] (return_date)\n",
    "- return on [february 9] (return_date)\n",
    "- planned on being back [april 18] (return_date)\n",
    "- my budget is [$2000] (budget)\n",
    "- no more than [1000] (budget)\n",
    "- max [$400] (budget)\n",
    "- [100 dollars] (budget)\n",
    "- 100 - [200] (budget)\n",
    "\n",
    "## intent:thankyou\n",
    "- um thank you good bye\n",
    "- okay cool uh good bye thank you\n",
    "- okay thank you good bye\n",
    "- you rock\n",
    "- and thats all thank you and good bye\n",
    "- thank you and good bye\n",
    "- sorry about my mistakes thank you good bye\n",
    "- okay thank you goodbye\n",
    "- uh thank you good bye\n",
    "- thank you goodbye\n",
    "- okay thank you\n",
    "- thanks goodbye\n",
    "- ah thank you goodbye\n",
    "- thank you noise\n",
    "- thank you good bye\n",
    "- thanks\n",
    "- noise thank you goodbye\n",
    "- uh okay thank you good bye\n",
    "- thank you bye\n",
    "- um okay thank you good bye\n",
    "\n",
    "## intent:chitchat\n",
    "- i want to know the company which designed you\n",
    "- i want to know the company which generated you\n",
    "- i want to know the company which invented you\n",
    "- i want to know who invented you\n",
    "- May I ask who invented you?\n",
    "- please tell me the company who created you\n",
    "- please tell me who created you\n",
    "- tell me more about your creators\n",
    "- tell me more about your founders\n",
    "- Ahoy matey how are you?\n",
    "- are you alright\n",
    "- are you having a good day\n",
    "- Are you ok?\n",
    "- are you okay\n",
    "- Do you feel good?\n",
    "- how are things going\n",
    "- how are things with you?\n",
    "- How are things?\n",
    "- how are you\n",
    "- how are you doing\n",
    "- how are you doing this morning\n",
    "- how are you feeling\n",
    "- how are you today\n",
    "- How are you?\n",
    "\n",
    "## intent:stop\n",
    "- ok then you cant help me\n",
    "- that was shit, you're not helping\n",
    "- you can't help me\n",
    "- you can't help me with what i need\n",
    "- i guess you can't help me then\n",
    "- ok i guess you can't help me\n",
    "- that's not what i want\n",
    "- ok, but that doesnt help me\n",
    "- this is leading to nothing\n",
    "- this conversation is not really helpful\n",
    "- you cannot help me with what I want\n",
    "- I think you cant help me\n",
    "- hm i don't think you can do what i want\n",
    "- stop\n",
    "- stop go back\n",
    "- and that's it?\n",
    "- nothing else?\n",
    "\n",
    "## intent:bot_challenge\n",
    "- are you a bot?\n",
    "- are you a human?\n",
    "- am I talking to a bot?\n",
    "- am I talking to a human?\n",
    "'''\n",
    "\n",
    "%store nlu_md > rasa_bot/data/nlu.md"
   ]
  },
  {
   "cell_type": "markdown",
   "metadata": {},
   "source": [
    "## NLU model configuration"
   ]
  },
  {
   "cell_type": "code",
   "execution_count": 130,
   "metadata": {},
   "outputs": [
    {
     "name": "stdout",
     "output_type": "stream",
     "text": [
      "Writing 'config' (str) to file 'rasa_bot/config.yml'.\n"
     ]
    }
   ],
   "source": [
    "config = '''\n",
    "language: en\n",
    "\n",
    "pipeline:\n",
    "  - name: \"SpacyNLP\"\n",
    "  - name: \"SpacyTokenizer\"\n",
    "  - name: \"SpacyFeaturizer\"\n",
    "  - name: \"RegexFeaturizer\"\n",
    "  - name: \"CRFEntityExtractor\"\n",
    "  - name: \"EntitySynonymMapper\"\n",
    "  - name: \"SklearnIntentClassifier\"\n",
    "\n",
    "policies:\n",
    "  - name: FallbackPolicy\n",
    "  - name: MemoizationPolicy\n",
    "  - name: FormPolicy\n",
    "  - name: KerasPolicy\n",
    "  - name: MappingPolicy\n",
    "'''\n",
    "\n",
    "%store config > rasa_bot/config.yml"
   ]
  },
  {
   "cell_type": "markdown",
   "metadata": {},
   "source": [
    "## Train NLU model"
   ]
  },
  {
   "cell_type": "code",
   "execution_count": 131,
   "metadata": {},
   "outputs": [
    {
     "name": "stderr",
     "output_type": "stream",
     "text": [
      "INFO:rasa.nlu.utils.spacy_utils:Trying to load spacy model with name 'en'\n",
      "INFO:rasa.nlu.components:Added 'SpacyNLP' to component cache. Key 'SpacyNLP-en'.\n",
      "INFO:rasa.nlu.model:Starting to train component SpacyNLP\n",
      "INFO:rasa.nlu.model:Finished training component.\n",
      "INFO:rasa.nlu.model:Starting to train component SpacyTokenizer\n",
      "INFO:rasa.nlu.model:Finished training component.\n",
      "INFO:rasa.nlu.model:Starting to train component SpacyFeaturizer\n",
      "INFO:rasa.nlu.model:Finished training component.\n",
      "INFO:rasa.nlu.model:Starting to train component RegexFeaturizer\n",
      "INFO:rasa.nlu.model:Finished training component.\n",
      "INFO:rasa.nlu.model:Starting to train component CRFEntityExtractor\n",
      "INFO:rasa.nlu.model:Finished training component.\n",
      "INFO:rasa.nlu.model:Starting to train component EntitySynonymMapper\n",
      "INFO:rasa.nlu.model:Finished training component.\n",
      "INFO:rasa.nlu.model:Starting to train component SklearnIntentClassifier\n",
      "[Parallel(n_jobs=1)]: Using backend SequentialBackend with 1 concurrent workers.\n"
     ]
    },
    {
     "name": "stdout",
     "output_type": "stream",
     "text": [
      "Fitting 2 folds for each of 6 candidates, totalling 12 fits\n"
     ]
    },
    {
     "name": "stderr",
     "output_type": "stream",
     "text": [
      "[Parallel(n_jobs=1)]: Done  12 out of  12 | elapsed:    0.3s finished\n",
      "INFO:rasa.nlu.model:Finished training component.\n",
      "INFO:rasa.nlu.model:Successfully saved model into '/Users/gthorani/unit_6/travel_chatbot/rasa_bot/models/nlu/current'\n"
     ]
    }
   ],
   "source": [
    "from rasa.nlu.training_data import load_data\n",
    "from rasa.nlu.config import RasaNLUModelConfig\n",
    "from rasa.nlu.model import Trainer\n",
    "from rasa.nlu import config\n",
    "\n",
    "# loading the nlu training samples\n",
    "training_data = load_data('rasa_bot/data/nlu.md')\n",
    "\n",
    "# trainer to educate our pipeline\n",
    "trainer = Trainer(config.load('rasa_bot/config.yml'))\n",
    "\n",
    "# train the model!\n",
    "interpreter = trainer.train(training_data)\n",
    "\n",
    "# store it for future use\n",
    "model_directory = trainer.persist(\"rasa_bot/models/nlu\", fixed_model_name=\"current\")"
   ]
  },
  {
   "cell_type": "markdown",
   "metadata": {},
   "source": [
    "## Let's evaluate the NLU model with a sample text"
   ]
  },
  {
   "cell_type": "code",
   "execution_count": 136,
   "metadata": {},
   "outputs": [
    {
     "name": "stdout",
     "output_type": "stream",
     "text": [
      "{\n",
      "  \"intent\": {\n",
      "    \"name\": \"request_flight\",\n",
      "    \"confidence\": 0.5948283489640181\n",
      "  },\n",
      "  \"entities\": [],\n",
      "  \"intent_ranking\": [\n",
      "    {\n",
      "      \"name\": \"request_flight\",\n",
      "      \"confidence\": 0.5948283489640181\n",
      "    },\n",
      "    {\n",
      "      \"name\": \"stop\",\n",
      "      \"confidence\": 0.09975164720756306\n",
      "    },\n",
      "    {\n",
      "      \"name\": \"affirm\",\n",
      "      \"confidence\": 0.08410848197427101\n",
      "    },\n",
      "    {\n",
      "      \"name\": \"chitchat\",\n",
      "      \"confidence\": 0.05761135249773464\n",
      "    },\n",
      "    {\n",
      "      \"name\": \"deny\",\n",
      "      \"confidence\": 0.04644334670203227\n",
      "    },\n",
      "    {\n",
      "      \"name\": \"greet\",\n",
      "      \"confidence\": 0.04191204060700699\n",
      "    },\n",
      "    {\n",
      "      \"name\": \"inform\",\n",
      "      \"confidence\": 0.03409126234327976\n",
      "    },\n",
      "    {\n",
      "      \"name\": \"bot_challenge\",\n",
      "      \"confidence\": 0.03248589640795895\n",
      "    },\n",
      "    {\n",
      "      \"name\": \"thankyou\",\n",
      "      \"confidence\": 0.008767623296135124\n",
      "    }\n",
      "  ],\n",
      "  \"text\": \"i want to book a flight\"\n",
      "}\n"
     ]
    }
   ],
   "source": [
    "def pprint(o):   \n",
    "    print(json.dumps(o, indent=2))\n",
    "    \n",
    "pprint(interpreter.parse('i want to book a flight'))"
   ]
  },
  {
   "cell_type": "markdown",
   "metadata": {},
   "source": [
    "- We observe here that the user's intent is to request a flight"
   ]
  },
  {
   "cell_type": "markdown",
   "metadata": {},
   "source": [
    "## Evaluating NLU model on test data\n",
    "\n",
    "(Definitely want to use unseen data, but will be using the data we have)"
   ]
  },
  {
   "cell_type": "code",
   "execution_count": 108,
   "metadata": {
    "scrolled": true
   },
   "outputs": [],
   "source": [
    "from rasa.nlu.test import run_evaluation\n",
    "\n",
    "#run_evaluation('rasa_bot/data/nlu.md', model_directory)"
   ]
  },
  {
   "cell_type": "markdown",
   "metadata": {},
   "source": [
    "## Using Rasa core to teach the bot to respond"
   ]
  },
  {
   "cell_type": "code",
   "execution_count": 115,
   "metadata": {},
   "outputs": [
    {
     "name": "stdout",
     "output_type": "stream",
     "text": [
      "Writing 'stories_md' (str) to file 'rasa_bot/data/stories.md'.\n"
     ]
    }
   ],
   "source": [
    "stories_md = '''\n",
    "## happy path\n",
    "* greet\n",
    "    - utter_greet\n",
    "* request_flight\n",
    "    - flight_form\n",
    "    - form{\"name\": \"flight_form\"}\n",
    "    - form{\"name\": null}\n",
    "    - utter_slots_values\n",
    "* thankyou\n",
    "    - utter_noworries\n",
    "    \n",
    "## chitchat stop but continue path\n",
    "* request_flight\n",
    "    - flight_form\n",
    "    - form{\"name\": \"flight_form\"}\n",
    "* chitchat\n",
    "    - utter_chitchat\n",
    "    - flight_form\n",
    "* stop\n",
    "    - utter_ask_continue\n",
    "* affirm\n",
    "    - flight_form\n",
    "    - form{\"name\": null}\n",
    "    - utter_slots_values\n",
    "* thankyou\n",
    "    - utter_noworries\n",
    "\n",
    "## bot challenge\n",
    "* bot_challenge\n",
    "  - utter_iamabot\n",
    "'''\n",
    "%store stories_md > rasa_bot/data/stories.md"
   ]
  },
  {
   "cell_type": "markdown",
   "metadata": {},
   "source": [
    "## Define domain"
   ]
  },
  {
   "cell_type": "code",
   "execution_count": 113,
   "metadata": {},
   "outputs": [
    {
     "name": "stdout",
     "output_type": "stream",
     "text": [
      "Writing 'domain_yml' (str) to file 'rasa_bot/domain.yml'.\n"
     ]
    }
   ],
   "source": [
    "domain_yml = '''\n",
    "intents:\n",
    "  - request_flight:\n",
    "      use_entities: []\n",
    "  - chitchat:\n",
    "      use_entities: []\n",
    "  - inform\n",
    "  - affirm\n",
    "  - deny\n",
    "  - stop\n",
    "  - thankyou\n",
    "  - greet\n",
    "  - bot_challenge\n",
    "\n",
    "entities:\n",
    "  - destination\n",
    "  - origin\n",
    "  - depart_date\n",
    "  - return_date\n",
    "  - budget\n",
    "\n",
    "slots:\n",
    "  destination:\n",
    "    type: unfeaturized\n",
    "    auto_fill: false\n",
    "  origin:\n",
    "    type: unfeaturized\n",
    "    auto_fill: false\n",
    "  depart_date:\n",
    "    type: unfeaturized\n",
    "    auto_fill: false\n",
    "  return_date:\n",
    "    type: unfeaturized\n",
    "    auto_fill: false\n",
    "  budget:\n",
    "    type: unfeaturized\n",
    "    auto_fill: false\n",
    "  requested_slot:\n",
    "    type: unfeaturized\n",
    "\n",
    "responses:\n",
    "  utter_ask_destination:\n",
    "    - text: \"where do you want to go?\"\n",
    "  utter_ask_origin:\n",
    "    - text: \"where are you leaving from?\"\n",
    "  utter_ask_depart_date:\n",
    "    - text: \"when did you want to leave?\"\n",
    "  utter_ask_return_date:\n",
    "    - text: \"when did you want to be back?\"\n",
    "  utter_ask_budget:\n",
    "    - text: \"what is your budget\"\n",
    "  utter_slots_values:\n",
    "    - text: \"I am going to look for flight offers with the info you gave me:\\n\n",
    "             - destination: {destination}\\n\n",
    "             - origin: {origin}\\n\n",
    "             - departing: {depart_date}\\n\n",
    "             - returning: {return_date}\\n\n",
    "             - budget: {budget}\"\n",
    "  utter_noworries:\n",
    "    - text: \"you are welcome :)\"\n",
    "  utter_chitchat:\n",
    "    - text: \"chitchat\"\n",
    "  utter_ask_continue:\n",
    "    - text: \"do you want to continue?\"\n",
    "  utter_default:\n",
    "    - text: \"sorry, I didn't understand you, please try something else\"\n",
    "  utter_greet:\n",
    "    - text: \"Hello! I am flight search assistant! How can I help?\"\n",
    "  utter_iamabot:\n",
    "    - text: \"I am a bot, powered by Rasa.\"\n",
    "  utter_submit:  \n",
    "  - text: \"All done!\"\n",
    "\n",
    "forms:\n",
    "  - flight_form\n",
    "\n",
    "session_config:\n",
    "  session_expiration_time: 60  # value in minutes\n",
    "  carry_over_slots_to_new_session: true\n",
    "'''\n",
    "%store domain_yml > rasa_bot/domain.yml"
   ]
  },
  {
   "cell_type": "markdown",
   "metadata": {},
   "source": [
    "## Endpoints"
   ]
  },
  {
   "cell_type": "code",
   "execution_count": 116,
   "metadata": {},
   "outputs": [
    {
     "name": "stdout",
     "output_type": "stream",
     "text": [
      "Writing 'endpoints_yml' (str) to file 'rasa_bot/endpoints.yml'.\n"
     ]
    }
   ],
   "source": [
    "endpoints_yml = '''\n",
    "action_endpoint:\n",
    "    url: http://localhost:5055/webhook\n",
    "'''\n",
    "\n",
    "%store endpoints_yml > rasa_bot/endpoints.yml"
   ]
  },
  {
   "cell_type": "markdown",
   "metadata": {},
   "source": [
    "## Custom Action"
   ]
  },
  {
   "cell_type": "code",
   "execution_count": 46,
   "metadata": {},
   "outputs": [],
   "source": [
    "from rasa.core.actions import Action\n",
    "from rasa.core.events import SlotSet\n",
    "import requests\n",
    "\n",
    "class ApiAction(Action):\n",
    "    def name(self):\n",
    "        return 'action_flight_offer'\n",
    "    \n",
    "    def submit(self, dispatcher,tracker,domain):\n",
    "        destination = tracker.get_slot('destination')\n",
    "        origin = tracker.get_slot('origin')\n",
    "        depart_date = tracker.get_slot('depart_date')\n",
    "        return_date = tracker.get_slot('return_date')\n",
    "        budget = tracker.get_slot('budget')\n",
    "        \n",
    "        dispatcher.utter_message(f'Testing:{destination},{origin},{depart_date},{return_date},{budget}')"
   ]
  },
  {
   "cell_type": "markdown",
   "metadata": {},
   "source": [
    "## Training dialogue model"
   ]
  },
  {
   "cell_type": "code",
   "execution_count": 42,
   "metadata": {},
   "outputs": [],
   "source": [
    "from rasa.core.policies.fallback import FallbackPolicy\n",
    "from rasa.core.policies.keras_policy import KerasPolicy\n",
    "from rasa.core.policies.memoization import MemoizationPolicy\n",
    "from rasa.core.agent import Agent\n",
    "import asyncio\n",
    "\n",
    "async def train_dialogue(domain_file='domain.yml',\n",
    "                   model_path='models/dialogue',\n",
    "                   training_data_file='stories.md'):\n",
    "    \n",
    "    fallback = FallbackPolicy(fallback_action_name=\"utter_unclear\",\n",
    "                          core_threshold=0.2,\n",
    "                          nlu_threshold=0.1)\n",
    "    \n",
    "    agent = Agent(domain_file, policies=[MemoizationPolicy(),\n",
    "                                         KerasPolicy(epochs=200),\n",
    "                                         fallback])\n",
    "\n",
    "#     loop = asyncio.get_event_loop()\n",
    "#     data = loop.run_until_complete(agent.load_data(training_data_file))\n",
    "    asyncio.run(agent.load_data(training_data_file))\n",
    "\n",
    "    agent.train(data)\n",
    "\n",
    "    agent.persist(model_path)\n",
    "    return agent"
   ]
  },
  {
   "cell_type": "code",
   "execution_count": 43,
   "metadata": {},
   "outputs": [],
   "source": [
    "from rasa.core.interpreter import RasaNLUInterpreter\n",
    "def run_travel_bot(serve_forever=True):\n",
    "    interpreter = RasaNLUInterpreter('./models/nlu/current')\n",
    "    agent = Agent.load('./models/dialogue', interpreter=interpreter)\n",
    "    #rasa.core.run.serve_application(agent), channel='cmdline')\n",
    "\n",
    "    return agent"
   ]
  },
  {
   "cell_type": "code",
   "execution_count": 58,
   "metadata": {},
   "outputs": [
    {
     "name": "stderr",
     "output_type": "stream",
     "text": [
      "INFO:rasa.nlu.components:Added 'SpacyNLP' to component cache. Key 'SpacyNLP-en'.\n",
      "INFO:rasa.core.policies.ensemble:MappingPolicy not included in policy ensemble. Default intents 'restart and back will not trigger actions 'action_restart' and 'action_back'.\n"
     ]
    }
   ],
   "source": [
    "interpreter = RasaNLUInterpreter('./models/nlu/current')\n",
    "agent = Agent.load('./models/dialogue', interpreter=interpreter)"
   ]
  },
  {
   "cell_type": "code",
   "execution_count": 72,
   "metadata": {},
   "outputs": [
    {
     "name": "stdout",
     "output_type": "stream",
     "text": [
      "Your bot is ready to talk! Type your messages here or send 'stop'\n",
      "hi\n"
     ]
    },
    {
     "ename": "TypeError",
     "evalue": "'coroutine' object is not iterable",
     "output_type": "error",
     "traceback": [
      "\u001b[0;31m---------------------------------------------------------------------------\u001b[0m",
      "\u001b[0;31mTypeError\u001b[0m                                 Traceback (most recent call last)",
      "\u001b[0;32m<ipython-input-72-b334fca9fa9e>\u001b[0m in \u001b[0;36m<module>\u001b[0;34m\u001b[0m\n\u001b[1;32m      5\u001b[0m         \u001b[0;32mbreak\u001b[0m\u001b[0;34m\u001b[0m\u001b[0;34m\u001b[0m\u001b[0m\n\u001b[1;32m      6\u001b[0m     \u001b[0mresponses\u001b[0m \u001b[0;34m=\u001b[0m \u001b[0magent\u001b[0m\u001b[0;34m.\u001b[0m\u001b[0mhandle_message\u001b[0m\u001b[0;34m(\u001b[0m\u001b[0ma\u001b[0m\u001b[0;34m)\u001b[0m\u001b[0;34m\u001b[0m\u001b[0;34m\u001b[0m\u001b[0m\n\u001b[0;32m----> 7\u001b[0;31m     \u001b[0;32mfor\u001b[0m \u001b[0mresponse\u001b[0m \u001b[0;32min\u001b[0m \u001b[0mresponses\u001b[0m\u001b[0;34m:\u001b[0m\u001b[0;34m\u001b[0m\u001b[0;34m\u001b[0m\u001b[0m\n\u001b[0m\u001b[1;32m      8\u001b[0m         \u001b[0mprint\u001b[0m\u001b[0;34m(\u001b[0m\u001b[0mresponse\u001b[0m\u001b[0;34m[\u001b[0m\u001b[0;34m\"text\"\u001b[0m\u001b[0;34m]\u001b[0m\u001b[0;34m)\u001b[0m\u001b[0;34m\u001b[0m\u001b[0;34m\u001b[0m\u001b[0m\n",
      "\u001b[0;31mTypeError\u001b[0m: 'coroutine' object is not iterable"
     ]
    }
   ],
   "source": [
    "print(\"Your bot is ready to talk! Type your messages here or send 'stop'\")\n",
    "while True:\n",
    "    a = input()\n",
    "    if a == 'stop':\n",
    "        break\n",
    "    responses = agent.handle_message(a)\n",
    "    for response in responses:\n",
    "        print(response[\"text\"])"
   ]
  },
  {
   "cell_type": "markdown",
   "metadata": {},
   "source": [
    "## Testing"
   ]
  },
  {
   "cell_type": "code",
   "execution_count": 63,
   "metadata": {},
   "outputs": [
    {
     "name": "stdout",
     "output_type": "stream",
     "text": [
      "Event loop ready.\n"
     ]
    }
   ],
   "source": [
    "import nest_asyncio\n",
    "\n",
    "nest_asyncio.apply()\n",
    "print('Event loop ready.')"
   ]
  },
  {
   "cell_type": "code",
   "execution_count": 64,
   "metadata": {},
   "outputs": [
    {
     "name": "stdout",
     "output_type": "stream",
     "text": [
      "['tests', 'actions.py', '__init__.py', '__pycache__', 'endpoints.yml', 'credentials.yml', 'config.yml', 'domain.yml', 'data']\n"
     ]
    }
   ],
   "source": [
    "from rasa.cli.scaffold import create_initial_project\n",
    "import os\n",
    "\n",
    "project = \"test-project\"\n",
    "create_initial_project(project)\n",
    "\n",
    "# move into project directory and show files\n",
    "os.chdir(project)\n",
    "print(os.listdir(\".\"))"
   ]
  },
  {
   "cell_type": "code",
   "execution_count": 65,
   "metadata": {},
   "outputs": [
    {
     "name": "stdout",
     "output_type": "stream",
     "text": [
      "config.yml data/ domain.yml models/\n"
     ]
    }
   ],
   "source": [
    "config = \"config.yml\"\n",
    "training_files = \"stories.md\"\n",
    "domain = \"domain.yml\"\n",
    "output = \"models/\"\n",
    "print(config, training_files, domain, output)"
   ]
  },
  {
   "cell_type": "code",
   "execution_count": 66,
   "metadata": {},
   "outputs": [
    {
     "name": "stderr",
     "output_type": "stream",
     "text": [
      "Processed Story Blocks: 100%|██████████| 5/5 [00:00<00:00, 451.96it/s, # trackers=1]\n",
      "Processed Story Blocks: 100%|██████████| 5/5 [00:00<00:00, 114.27it/s, # trackers=5]\n",
      "Processed Story Blocks: 100%|██████████| 5/5 [00:00<00:00, 74.41it/s, # trackers=20]"
     ]
    },
    {
     "name": "stdout",
     "output_type": "stream",
     "text": [
      "\u001b[94mTraining Core model...\u001b[0m\n"
     ]
    },
    {
     "name": "stderr",
     "output_type": "stream",
     "text": [
      "\n",
      "Processed Story Blocks: 100%|██████████| 5/5 [00:00<00:00, 57.42it/s, # trackers=24]\n",
      "Processed trackers: 100%|██████████| 5/5 [00:00<00:00, 35.80it/s, # actions=16]\n",
      "Processed actions: 16it [00:00, 180.57it/s, # examples=16]\n",
      "Processed trackers: 100%|██████████| 231/231 [00:13<00:00, 15.09it/s, # actions=126]\n",
      "Epochs: 100%|██████████| 100/100 [00:13<00:00,  8.19it/s, t_loss=0.081, loss=0.015, acc=1.000]\n",
      "INFO:rasa.utils.tensorflow.models:Finished training.\n",
      "INFO:rasa.core.agent:Persisted model to '/var/folders/3t/43w7dzn908qdr0k0s0n6w4f80000gn/T/tmpqj6r2e8q/core'\n",
      "INFO:rasa.nlu.training_data.training_data:Training data stats: \n",
      "\t- intent examples: 43 (7 distinct intents)\n",
      "\t- Found intents: 'greet', 'affirm', 'goodbye', 'mood_unhappy', 'bot_challenge', 'mood_great', 'deny'\n",
      "\t- Number of response examples: 0 (0 distinct response)\n",
      "\t- entity examples: 0 (0 distinct entities)\n",
      "\t- found entities: \n",
      "\n",
      "INFO:rasa.nlu.model:Starting to train component WhitespaceTokenizer\n",
      "INFO:rasa.nlu.model:Finished training component.\n",
      "INFO:rasa.nlu.model:Starting to train component RegexFeaturizer\n",
      "INFO:rasa.nlu.model:Finished training component.\n",
      "INFO:rasa.nlu.model:Starting to train component LexicalSyntacticFeaturizer\n",
      "INFO:rasa.nlu.model:Finished training component.\n",
      "INFO:rasa.nlu.model:Starting to train component CountVectorsFeaturizer\n",
      "INFO:rasa.nlu.model:Finished training component.\n",
      "INFO:rasa.nlu.model:Starting to train component CountVectorsFeaturizer\n"
     ]
    },
    {
     "name": "stdout",
     "output_type": "stream",
     "text": [
      "\u001b[94mCore model training completed.\u001b[0m\n",
      "\u001b[94mTraining NLU model...\u001b[0m\n"
     ]
    },
    {
     "name": "stderr",
     "output_type": "stream",
     "text": [
      "INFO:rasa.nlu.model:Finished training component.\n",
      "INFO:rasa.nlu.model:Starting to train component DIETClassifier\n",
      "Epochs: 100%|██████████| 100/100 [00:15<00:00,  5.87it/s, t_loss=1.916, i_loss=0.546, e_loss=0.000, i_acc=1.000, e_f1=0.000]  \n",
      "INFO:rasa.utils.tensorflow.models:Finished training.\n",
      "INFO:rasa.nlu.model:Finished training component.\n",
      "INFO:rasa.nlu.model:Starting to train component EntitySynonymMapper\n",
      "INFO:rasa.nlu.model:Finished training component.\n",
      "INFO:rasa.nlu.model:Starting to train component ResponseSelector\n",
      "INFO:rasa.nlu.selectors.response_selector:Retrieval intent parameter was left to its default value. This response selector will be trained on training examples combining all retrieval intents.\n",
      "INFO:rasa.nlu.model:Finished training component.\n",
      "INFO:rasa.nlu.model:Successfully saved model into '/var/folders/3t/43w7dzn908qdr0k0s0n6w4f80000gn/T/tmpqj6r2e8q/nlu'\n"
     ]
    },
    {
     "name": "stdout",
     "output_type": "stream",
     "text": [
      "\u001b[94mNLU model training completed.\u001b[0m\n",
      "\u001b[92mYour Rasa model is trained and saved at '/Users/gthorani/unit_6/travel_chatbot/test-project/models/20200418-234242.tar.gz'.\u001b[0m\n",
      "models/20200418-234242.tar.gz\n"
     ]
    }
   ],
   "source": [
    "import rasa\n",
    "\n",
    "model_path = rasa.train(domain, config, [training_files], output)\n",
    "print(model_path)"
   ]
  },
  {
   "cell_type": "code",
   "execution_count": 68,
   "metadata": {},
   "outputs": [
    {
     "name": "stdout",
     "output_type": "stream",
     "text": [
      "/var/folders/3t/43w7dzn908qdr0k0s0n6w4f80000gn/T/tmprlorekge /var/folders/3t/43w7dzn908qdr0k0s0n6w4f80000gn/T/tmpqd3e_wpl\n"
     ]
    }
   ],
   "source": [
    "import rasa.data as data\n",
    "stories_directory, nlu_data_directory = data.get_core_nlu_directories(training_files)\n",
    "print(stories_directory, nlu_data_directory)"
   ]
  },
  {
   "cell_type": "code",
   "execution_count": 69,
   "metadata": {},
   "outputs": [
    {
     "name": "stderr",
     "output_type": "stream",
     "text": [
      "Processed Story Blocks: 100%|██████████| 5/5 [00:00<00:00, 366.05it/s, # trackers=1]\n",
      "INFO:rasa.core.test:Evaluating 5 stories\n",
      "Progress:\n",
      "100%|██████████| 5/5 [00:00<00:00, 52.23it/s]\n",
      "INFO:rasa.core.test:Finished collecting predictions.\n",
      "INFO:rasa.core.test:Evaluation Results on CONVERSATION level:\n",
      "INFO:rasa.core.test:\tCorrect:          5 / 5\n",
      "INFO:rasa.core.test:\tF1-Score:         1.000\n",
      "INFO:rasa.core.test:\tPrecision:        1.000\n",
      "INFO:rasa.core.test:\tAccuracy:         1.000\n",
      "INFO:rasa.core.test:\tIn-data fraction: 1\n",
      "INFO:rasa.core.test:Evaluation Results on ACTION level:\n",
      "INFO:rasa.core.test:\tCorrect:          22 / 22\n",
      "INFO:rasa.core.test:\tF1-Score:         1.000\n",
      "INFO:rasa.core.test:\tPrecision:        1.000\n",
      "INFO:rasa.core.test:\tAccuracy:         1.000\n",
      "INFO:rasa.core.test:\tIn-data fraction: 1\n",
      "INFO:rasa.core.test:\tClassification report: \n",
      "                     precision    recall  f1-score   support\n",
      "\n",
      "      utter_iamabot       1.00      1.00      1.00         1\n",
      "     utter_cheer_up       1.00      1.00      1.00         2\n",
      "utter_did_that_help       1.00      1.00      1.00         2\n",
      "        utter_happy       1.00      1.00      1.00         2\n",
      "      utter_goodbye       1.00      1.00      1.00         2\n",
      "        utter_greet       1.00      1.00      1.00         3\n",
      "      action_listen       1.00      1.00      1.00        10\n",
      "\n",
      "           accuracy                           1.00        22\n",
      "          macro avg       1.00      1.00      1.00        22\n",
      "       weighted avg       1.00      1.00      1.00        22\n",
      "\n",
      "INFO:rasa.nlu.test:Confusion matrix, without normalization: \n",
      "[[10  0  0  0  0  0  0]\n",
      " [ 0  2  0  0  0  0  0]\n",
      " [ 0  0  2  0  0  0  0]\n",
      " [ 0  0  0  2  0  0  0]\n",
      " [ 0  0  0  0  3  0  0]\n",
      " [ 0  0  0  0  0  2  0]\n",
      " [ 0  0  0  0  0  0  1]]\n",
      "INFO:rasa.nlu.test:Running model for predictions:\n",
      "100%|██████████| 43/43 [00:00<00:00, 70.36it/s]\n",
      "INFO:rasa.nlu.test:Intent evaluation results:\n",
      "INFO:rasa.nlu.test:Intent Evaluation: Only considering those 43 examples that have a defined intent out of 43 examples\n",
      "INFO:rasa.nlu.test:Classification report saved to results/intent_report.json.\n",
      "INFO:rasa.nlu.test:Entity evaluation results:\n",
      "INFO:rasa.nlu.test:Evaluation for entity extractor: DIETClassifier \n",
      "WARNING:rasa.nlu.test:No labels to evaluate. Skip evaluation.\n",
      "INFO:rasa.nlu.test:Classification report for 'DIETClassifier' saved to 'results/DIETClassifier_report.json'.\n"
     ]
    },
    {
     "name": "stdout",
     "output_type": "stream",
     "text": [
      "Done testing.\n"
     ]
    }
   ],
   "source": [
    "rasa.test(model_path, stories_directory, nlu_data_directory)\n",
    "print(\"Done testing.\")"
   ]
  },
  {
   "cell_type": "code",
   "execution_count": 70,
   "metadata": {},
   "outputs": [
    {
     "name": "stdout",
     "output_type": "stream",
     "text": [
      "No NLU errors.\n",
      "\n",
      "\n",
      "Core Errors:\n",
      "<!-- All stories passed -->\n"
     ]
    }
   ],
   "source": [
    "if os.path.isfile(\"errors.json\"):\n",
    "    print(\"NLU Errors:\")\n",
    "    print(open(\"errors.json\").read())\n",
    "else:\n",
    "    print(\"No NLU errors.\")\n",
    "\n",
    "if os.path.isdir(\"results\"):\n",
    "      print(\"\\n\")\n",
    "      print(\"Core Errors:\")\n",
    "      print(open(\"results/failed_stories.md\").read())"
   ]
  },
  {
   "cell_type": "code",
   "execution_count": null,
   "metadata": {},
   "outputs": [],
   "source": []
  }
 ],
 "metadata": {
  "kernelspec": {
   "display_name": "venv",
   "language": "python",
   "name": "venv"
  },
  "language_info": {
   "codemirror_mode": {
    "name": "ipython",
    "version": 3
   },
   "file_extension": ".py",
   "mimetype": "text/x-python",
   "name": "python",
   "nbconvert_exporter": "python",
   "pygments_lexer": "ipython3",
   "version": "3.7.3"
  }
 },
 "nbformat": 4,
 "nbformat_minor": 4
}
